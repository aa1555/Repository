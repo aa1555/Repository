{
 "cells": [
  {
   "cell_type": "markdown",
   "id": "afb4bbcf",
   "metadata": {},
   "source": [
    "# 基础语法练习\n",
    "\n",
    "## 1. Hello World"
   ]
  },
  {
   "cell_type": "code",
   "execution_count": 34,
   "id": "4a9d142b",
   "metadata": {},
   "outputs": [
    {
     "name": "stdout",
     "output_type": "stream",
     "text": [
      "Hello, World!\n"
     ]
    }
   ],
   "source": [
    "# 输出Hello World\n",
    "print(\"Hello, World!\")"
   ]
  },
  {
   "cell_type": "markdown",
   "id": "3363dc6f",
   "metadata": {},
   "source": [
    "## 2. 变量赋值"
   ]
  },
  {
   "cell_type": "code",
   "execution_count": 35,
   "id": "393df46c",
   "metadata": {},
   "outputs": [
    {
     "name": "stdout",
     "output_type": "stream",
     "text": [
      "语言: Python, 年龄: 30, 版本: 1.75\n"
     ]
    }
   ],
   "source": [
    "# 创建变量并赋值\n",
    "name = \"Python\"\n",
    "age = 30\n",
    "height = 1.75\n",
    "print(f\"语言: {name}, 年龄: {age}, 版本: {height}\")"
   ]
  },
  {
   "cell_type": "markdown",
   "id": "f9af7c95",
   "metadata": {},
   "source": [
    "## 3. 用户输入"
   ]
  },
  {
   "cell_type": "code",
   "execution_count": 36,
   "id": "36ec7053",
   "metadata": {},
   "outputs": [
    {
     "name": "stdout",
     "output_type": "stream",
     "text": [
      "您好, 张三!\n"
     ]
    }
   ],
   "source": [
    "# 获取用户输入\n",
    "name = input(\"请输入您的姓名: \")\n",
    "print(f\"您好, {name}!\")"
   ]
  },
  {
   "cell_type": "markdown",
   "id": "7095f044",
   "metadata": {},
   "source": [
    "## 4. 数据类型检查"
   ]
  },
  {
   "cell_type": "code",
   "execution_count": 37,
   "id": "9095064d",
   "metadata": {},
   "outputs": [
    {
     "name": "stdout",
     "output_type": "stream",
     "text": [
      "num的类型: <class 'int'>\n",
      "text的类型: <class 'str'>\n",
      "flag的类型: <class 'bool'>\n"
     ]
    }
   ],
   "source": [
    "# 检查数据类型\n",
    "num = 42\n",
    "text = \"Hello\"\n",
    "flag = True\n",
    "print(f\"num的类型: {type(num)}\")\n",
    "print(f\"text的类型: {type(text)}\")\n",
    "print(f\"flag的类型: {type(flag)}\")"
   ]
  },
  {
   "cell_type": "markdown",
   "id": "c4559917",
   "metadata": {},
   "source": [
    "## 5. 基本运算"
   ]
  },
  {
   "cell_type": "code",
   "execution_count": 38,
   "id": "96acf818",
   "metadata": {},
   "outputs": [
    {
     "name": "stdout",
     "output_type": "stream",
     "text": [
      "加法: 13\n",
      "减法: 7\n",
      "乘法: 30\n",
      "除法: 3.3333333333333335\n",
      "整除: 3\n",
      "取余: 1\n",
      "幂运算: 1000\n"
     ]
    }
   ],
   "source": [
    "# 基本数学运算\n",
    "a = 10\n",
    "b = 3\n",
    "print(f\"加法: {a + b}\")\n",
    "print(f\"减法: {a - b}\")\n",
    "print(f\"乘法: {a * b}\")\n",
    "print(f\"除法: {a / b}\")\n",
    "print(f\"整除: {a // b}\")\n",
    "print(f\"取余: {a % b}\")\n",
    "print(f\"幂运算: {a ** b}\")"
   ]
  },
  {
   "cell_type": "markdown",
   "id": "dd6234a0",
   "metadata": {},
   "source": [
    "## 6. 字符串操作"
   ]
  },
  {
   "cell_type": "code",
   "execution_count": 39,
   "id": "808b026b",
   "metadata": {},
   "outputs": [
    {
     "name": "stdout",
     "output_type": "stream",
     "text": [
      "原字符串: Python Programming\n",
      "转大写: PYTHON PROGRAMMING\n",
      "转小写: python programming\n",
      "字符串长度: 18\n",
      "替换: Java Programming\n"
     ]
    }
   ],
   "source": [
    "# 字符串基本操作\n",
    "text = \"Python Programming\"\n",
    "print(f\"原字符串: {text}\")\n",
    "print(f\"转大写: {text.upper()}\")\n",
    "print(f\"转小写: {text.lower()}\")\n",
    "print(f\"字符串长度: {len(text)}\")\n",
    "print(f\"替换: {text.replace('Python', 'Java')}\")"
   ]
  },
  {
   "cell_type": "markdown",
   "id": "c78c7b46",
   "metadata": {},
   "source": [
    "## 7. 字符串格式化"
   ]
  },
  {
   "cell_type": "code",
   "execution_count": 40,
   "id": "20d2aa92",
   "metadata": {},
   "outputs": [
    {
     "name": "stdout",
     "output_type": "stream",
     "text": [
      "姓名: 张三, 年龄: 25, 分数: 95.5\n",
      "姓名: 张三, 年龄: 25, 分数: 95.5\n",
      "姓名: 张三, 年龄: 25, 分数: 95.5\n"
     ]
    }
   ],
   "source": [
    "# 字符串格式化的不同方法\n",
    "name = \"张三\"\n",
    "age = 25\n",
    "score = 95.5\n",
    "\n",
    "# 方法1: f-string\n",
    "print(f\"姓名: {name}, 年龄: {age}, 分数: {score:.1f}\")\n",
    "\n",
    "# 方法2: format方法\n",
    "print(\"姓名: {}, 年龄: {}, 分数: {:.1f}\".format(name, age, score))\n",
    "\n",
    "# 方法3: %格式化\n",
    "print(\"姓名: %s, 年龄: %d, 分数: %.1f\" % (name, age, score))"
   ]
  },
  {
   "cell_type": "markdown",
   "id": "cc00af74",
   "metadata": {},
   "source": [
    "## 8. 注释练习"
   ]
  },
  {
   "cell_type": "code",
   "execution_count": 41,
   "id": "8548d5bb",
   "metadata": {},
   "outputs": [
    {
     "name": "stdout",
     "output_type": "stream",
     "text": [
      "Hello\n",
      "World\n"
     ]
    }
   ],
   "source": [
    "# 这是单行注释\n",
    "print(\"Hello\")  # 行末注释\n",
    "\n",
    "\"\"\"\n",
    "这是多行注释\n",
    "可以写很多行\n",
    "用于详细说明\n",
    "\"\"\"\n",
    "print(\"World\")"
   ]
  },
  {
   "cell_type": "markdown",
   "id": "a53e4d96",
   "metadata": {},
   "source": [
    "## 9. 常量定义"
   ]
  },
  {
   "cell_type": "code",
   "execution_count": 42,
   "id": "f36e67e5",
   "metadata": {},
   "outputs": [
    {
     "name": "stdout",
     "output_type": "stream",
     "text": [
      "圆周率: 3.14159\n",
      "最大尺寸: 100\n",
      "应用名称: 我的应用\n"
     ]
    }
   ],
   "source": [
    "# Python中的常量约定（使用大写字母）\n",
    "PI = 3.14159\n",
    "MAX_SIZE = 100\n",
    "APP_NAME = \"我的应用\"\n",
    "\n",
    "print(f\"圆周率: {PI}\")\n",
    "print(f\"最大尺寸: {MAX_SIZE}\")\n",
    "print(f\"应用名称: {APP_NAME}\")"
   ]
  },
  {
   "cell_type": "markdown",
   "id": "ee8f94d7",
   "metadata": {},
   "source": [
    "## 10. 多变量赋值"
   ]
  },
  {
   "cell_type": "code",
   "execution_count": 43,
   "id": "2b5c4ead",
   "metadata": {},
   "outputs": [
    {
     "name": "stdout",
     "output_type": "stream",
     "text": [
      "a=1, b=2, c=3\n",
      "交换前: x=10, y=20\n",
      "交换后: x=20, y=10\n"
     ]
    }
   ],
   "source": [
    "# 多变量同时赋值\n",
    "a, b, c = 1, 2, 3\n",
    "print(f\"a={a}, b={b}, c={c}\")\n",
    "\n",
    "# 交换变量值\n",
    "x, y = 10, 20\n",
    "print(f\"交换前: x={x}, y={y}\")\n",
    "x, y = y, x\n",
    "print(f\"交换后: x={x}, y={y}\")"
   ]
  },
  {
   "cell_type": "markdown",
   "id": "bda73f40",
   "metadata": {},
   "source": [
    "## 11. 转义字符"
   ]
  },
  {
   "cell_type": "code",
   "execution_count": 44,
   "id": "5cb820cf",
   "metadata": {},
   "outputs": [
    {
     "name": "stdout",
     "output_type": "stream",
     "text": [
      "第一行\n",
      "第二行\n",
      "制表符\t分隔\n",
      "引号: \"Hello\"\n",
      "反斜杠: \\\n",
      "覆盖: \n"
     ]
    }
   ],
   "source": [
    "# 转义字符的使用\n",
    "print(\"第一行\\n第二行\")  # 换行\n",
    "print(\"制表符\\t分隔\")\n",
    "print(\"引号: \\\"Hello\\\"\")\n",
    "print(\"反斜杠: \\\\\")\n",
    "print(\"回车: \\r覆盖\")"
   ]
  },
  {
   "cell_type": "markdown",
   "id": "8b6a051b",
   "metadata": {},
   "source": [
    "## 12. 原始字符串"
   ]
  },
  {
   "cell_type": "code",
   "execution_count": 45,
   "id": "2506e2bd",
   "metadata": {},
   "outputs": [
    {
     "name": "stdout",
     "output_type": "stream",
     "text": [
      "文件路径: C:\\Users\\Documents\\file.txt\n",
      "正则表达式: \\d+\\w*\n"
     ]
    }
   ],
   "source": [
    "# 原始字符串（r-string）\n",
    "path = r\"C:\\Users\\Documents\\file.txt\"\n",
    "regex = r\"\\d+\\w*\"\n",
    "print(f\"文件路径: {path}\")\n",
    "print(f\"正则表达式: {regex}\")"
   ]
  },
  {
   "cell_type": "markdown",
   "id": "d4da255a",
   "metadata": {},
   "source": [
    "## 13. 字符串切片"
   ]
  },
  {
   "cell_type": "code",
   "execution_count": 46,
   "id": "3c3e4281",
   "metadata": {},
   "outputs": [
    {
     "name": "stdout",
     "output_type": "stream",
     "text": [
      "前6个字符: Python\n",
      "后11个字符: Programming\n",
      "中间部分: Programming\n",
      "每隔一个字符: Pto rgamn\n",
      "反转字符串: gnimmargorP nohtyP\n"
     ]
    }
   ],
   "source": [
    "# 字符串切片操作\n",
    "text = \"Python Programming\"\n",
    "print(f\"前6个字符: {text[:6]}\")\n",
    "print(f\"后11个字符: {text[7:]}\")\n",
    "print(f\"中间部分: {text[7:18]}\")\n",
    "print(f\"每隔一个字符: {text[::2]}\")\n",
    "print(f\"反转字符串: {text[::-1]}\")"
   ]
  },
  {
   "cell_type": "markdown",
   "id": "33b1c5b8",
   "metadata": {},
   "source": [
    "## 14. 字符串判断"
   ]
  },
  {
   "cell_type": "code",
   "execution_count": 47,
   "id": "ba09eb0f",
   "metadata": {},
   "outputs": [
    {
     "name": "stdout",
     "output_type": "stream",
     "text": [
      "是否为数字: False\n",
      "是否为字母: False\n",
      "是否为字母数字: True\n",
      "是否为小写: False\n",
      "是否为大写: False\n"
     ]
    }
   ],
   "source": [
    "# 字符串内容判断\n",
    "text = \"Python123\"\n",
    "print(f\"是否为数字: {text.isdigit()}\")\n",
    "print(f\"是否为字母: {text.isalpha()}\")\n",
    "print(f\"是否为字母数字: {text.isalnum()}\")\n",
    "print(f\"是否为小写: {text.islower()}\")\n",
    "print(f\"是否为大写: {text.isupper()}\")"
   ]
  },
  {
   "cell_type": "markdown",
   "id": "b610a635",
   "metadata": {},
   "source": [
    "## 15. 输入类型转换"
   ]
  },
  {
   "cell_type": "code",
   "execution_count": 48,
   "id": "510da551",
   "metadata": {},
   "outputs": [
    {
     "name": "stdout",
     "output_type": "stream",
     "text": [
      "您今年18岁，身高168.0米\n"
     ]
    }
   ],
   "source": [
    "# 输入数据类型转换\n",
    "try:\n",
    "    age = int(input(\"请输入您的年龄: \"))\n",
    "    height = float(input(\"请输入您的身高(米): \"))\n",
    "    print(f\"您今年{age}岁，身高{height}米\")\n",
    "except ValueError:\n",
    "    print(\"输入格式错误！\")"
   ]
  },
  {
   "cell_type": "markdown",
   "id": "ae270e8e",
   "metadata": {},
   "source": [
    "## 16. 布尔运算"
   ]
  },
  {
   "cell_type": "code",
   "execution_count": 49,
   "id": "fa94b304",
   "metadata": {},
   "outputs": [
    {
     "name": "stdout",
     "output_type": "stream",
     "text": [
      "a and b: False\n",
      "a or b: True\n",
      "not a: False\n",
      "not b: True\n",
      "5 > 10: False\n",
      "5 < 10: True\n",
      "5 == 10: False\n",
      "5 != 10: True\n"
     ]
    }
   ],
   "source": [
    "# 布尔运算和逻辑操作\n",
    "a = True\n",
    "b = False\n",
    "print(f\"a and b: {a and b}\")\n",
    "print(f\"a or b: {a or b}\")\n",
    "print(f\"not a: {not a}\")\n",
    "print(f\"not b: {not b}\")\n",
    "\n",
    "# 比较运算\n",
    "x, y = 5, 10\n",
    "print(f\"{x} > {y}: {x > y}\")\n",
    "print(f\"{x} < {y}: {x < y}\")\n",
    "print(f\"{x} == {y}: {x == y}\")\n",
    "print(f\"{x} != {y}: {x != y}\")"
   ]
  },
  {
   "cell_type": "markdown",
   "id": "128dabf2",
   "metadata": {},
   "source": [
    "## 17. 成员运算符"
   ]
  },
  {
   "cell_type": "code",
   "execution_count": 50,
   "id": "9a068e3b",
   "metadata": {},
   "outputs": [
    {
     "name": "stdout",
     "output_type": "stream",
     "text": [
      "'Hello' in text: True\n",
      "'Python' in text: False\n",
      "'Python' not in text: True\n",
      "3 in numbers: True\n",
      "6 in numbers: False\n"
     ]
    }
   ],
   "source": [
    "# in 和 not in 运算符\n",
    "text = \"Hello World\"\n",
    "print(f\"'Hello' in text: {'Hello' in text}\")\n",
    "print(f\"'Python' in text: {'Python' in text}\")\n",
    "print(f\"'Python' not in text: {'Python' not in text}\")\n",
    "\n",
    "numbers = [1, 2, 3, 4, 5]\n",
    "print(f\"3 in numbers: {3 in numbers}\")\n",
    "print(f\"6 in numbers: {6 in numbers}\")"
   ]
  },
  {
   "cell_type": "markdown",
   "id": "08b0edbf",
   "metadata": {},
   "source": [
    "## 18. 身份运算符"
   ]
  },
  {
   "cell_type": "code",
   "execution_count": 51,
   "id": "a6a7e930",
   "metadata": {},
   "outputs": [
    {
     "name": "stdout",
     "output_type": "stream",
     "text": [
      "a == b: True\n",
      "a is b: False\n",
      "a is c: True\n",
      "x is None: True\n",
      "x is not None: False\n"
     ]
    }
   ],
   "source": [
    "# is 和 is not 运算符\n",
    "a = [1, 2, 3]\n",
    "b = [1, 2, 3]\n",
    "c = a\n",
    "\n",
    "print(f\"a == b: {a == b}\")  # 值相等\n",
    "print(f\"a is b: {a is b}\")  # 不是同一个对象\n",
    "print(f\"a is c: {a is c}\")  # 是同一个对象\n",
    "\n",
    "x = None\n",
    "print(f\"x is None: {x is None}\")\n",
    "print(f\"x is not None: {x is not None}\")"
   ]
  },
  {
   "cell_type": "markdown",
   "id": "3fd4e633",
   "metadata": {},
   "source": [
    "## 19. 运算符优先级"
   ]
  },
  {
   "cell_type": "code",
   "execution_count": 52,
   "id": "b8cb6438",
   "metadata": {},
   "outputs": [
    {
     "name": "stdout",
     "output_type": "stream",
     "text": [
      "2 + 3 * 4 = 14\n",
      "(2 + 3) * 4 = 20\n",
      "2 ** 3 ** 2 = 512\n",
      "2 ** (3 ** 2) = 512\n"
     ]
    }
   ],
   "source": [
    "# 运算符优先级示例\n",
    "result1 = 2 + 3 * 4  # 乘法优先\n",
    "result2 = (2 + 3) * 4  # 括号改变优先级\n",
    "result3 = 2 ** 3 ** 2  # 幂运算从右到左\n",
    "result4 = 2 ** (3 ** 2)  # 明确优先级\n",
    "\n",
    "print(f\"2 + 3 * 4 = {result1}\")\n",
    "print(f\"(2 + 3) * 4 = {result2}\")\n",
    "print(f\"2 ** 3 ** 2 = {result3}\")\n",
    "print(f\"2 ** (3 ** 2) = {result4}\")"
   ]
  },
  {
   "cell_type": "markdown",
   "id": "f9524ce6",
   "metadata": {},
   "source": [
    "## 20. 简单计算器"
   ]
  },
  {
   "cell_type": "code",
   "execution_count": 53,
   "id": "2605078d",
   "metadata": {},
   "outputs": [],
   "source": [
    "# 简单的计算器程序\n",
    "def simple_calculator():\n",
    "    try:\n",
    "        num1 = float(input(\"请输入第一个数字: \"))\n",
    "        operator = input(\"请输入运算符 (+, -, *, /): \")\n",
    "        num2 = float(input(\"请输入第二个数字: \"))\n",
    "        \n",
    "        if operator == '+':\n",
    "            result = num1 + num2\n",
    "        elif operator == '-':\n",
    "            result = num1 - num2\n",
    "        elif operator == '*':\n",
    "            result = num1 * num2\n",
    "        elif operator == '/':\n",
    "            if num2 != 0:\n",
    "                result = num1 / num2\n",
    "            else:\n",
    "                print(\"错误：除数不能为零！\")\n",
    "                return\n",
    "        else:\n",
    "            print(\"错误：不支持的运算符！\")\n",
    "            return\n",
    "        \n",
    "        print(f\"结果: {num1} {operator} {num2} = {result}\")\n",
    "    except ValueError:\n",
    "        print(\"错误：请输入有效的数字！\")\n",
    "\n",
    "# simple_calculator()  # 取消注释来运行"
   ]
  },
  {
   "cell_type": "markdown",
   "id": "baf94852",
   "metadata": {},
   "source": [
    "# 数据类型练习"
   ]
  },
  {
   "cell_type": "markdown",
   "id": "67fe4284",
   "metadata": {},
   "source": [
    "## 21. 列表基础操作"
   ]
  },
  {
   "cell_type": "code",
   "execution_count": 54,
   "id": "ecef4042",
   "metadata": {},
   "outputs": [
    {
     "name": "stdout",
     "output_type": "stream",
     "text": [
      "原列表: ['苹果', '香蕉', '橙子']\n",
      "添加后: ['苹果', '香蕉', '橙子', '葡萄']\n",
      "插入后: ['苹果', '草莓', '香蕉', '橙子', '葡萄']\n",
      "删除后: ['苹果', '草莓', '橙子', '葡萄']\n",
      "第一个水果: 苹果\n",
      "最后一个水果: 葡萄\n"
     ]
    }
   ],
   "source": [
    "# 列表的创建和基本操作\n",
    "fruits = [\"苹果\", \"香蕉\", \"橙子\"]\n",
    "print(f\"原列表: {fruits}\")\n",
    "\n",
    "# 添加元素\n",
    "fruits.append(\"葡萄\")\n",
    "print(f\"添加后: {fruits}\")\n",
    "\n",
    "# 插入元素\n",
    "fruits.insert(1, \"草莓\")\n",
    "print(f\"插入后: {fruits}\")\n",
    "\n",
    "# 删除元素\n",
    "fruits.remove(\"香蕉\")\n",
    "print(f\"删除后: {fruits}\")\n",
    "\n",
    "# 访问元素\n",
    "print(f\"第一个水果: {fruits[0]}\")\n",
    "print(f\"最后一个水果: {fruits[-1]}\")"
   ]
  },
  {
   "cell_type": "markdown",
   "id": "f7562356",
   "metadata": {},
   "source": [
    "## 22. 列表切片和遍历"
   ]
  },
  {
   "cell_type": "code",
   "execution_count": 55,
   "id": "ecb9ebea",
   "metadata": {},
   "outputs": [
    {
     "name": "stdout",
     "output_type": "stream",
     "text": [
      "前5个数字: [1, 2, 3, 4, 5]\n",
      "后5个数字: [6, 7, 8, 9, 10]\n",
      "偶数位置: [1, 3, 5, 7, 9]\n",
      "反转列表: [10, 9, 8, 7, 6, 5, 4, 3, 2, 1]\n",
      "\n",
      "遍历列表:\n",
      "索引0: 1\n",
      "索引1: 2\n",
      "索引2: 3\n",
      "索引3: 4\n",
      "索引4: 5\n",
      "索引5: 6\n",
      "索引6: 7\n",
      "索引7: 8\n",
      "索引8: 9\n",
      "索引9: 10\n"
     ]
    }
   ],
   "source": [
    "# 列表切片和遍历\n",
    "numbers = [1, 2, 3, 4, 5, 6, 7, 8, 9, 10]\n",
    "\n",
    "# 切片操作\n",
    "print(f\"前5个数字: {numbers[:5]}\")\n",
    "print(f\"后5个数字: {numbers[5:]}\")\n",
    "print(f\"偶数位置: {numbers[::2]}\")\n",
    "print(f\"反转列表: {numbers[::-1]}\")\n",
    "\n",
    "# 遍历列表\n",
    "print(\"\\n遍历列表:\")\n",
    "for i, num in enumerate(numbers):\n",
    "    print(f\"索引{i}: {num}\")"
   ]
  },
  {
   "cell_type": "markdown",
   "id": "98a16b6b",
   "metadata": {},
   "source": [
    "## 23. 列表推导式"
   ]
  },
  {
   "cell_type": "code",
   "execution_count": 56,
   "id": "41fb7236",
   "metadata": {},
   "outputs": [
    {
     "name": "stdout",
     "output_type": "stream",
     "text": [
      "平方数: [1, 4, 9, 16, 25, 36, 49, 64, 81, 100]\n",
      "偶数: [2, 4, 6, 8, 10, 12, 14, 16, 18, 20]\n",
      "首字母大写: ['Hello', 'World', 'Python']\n"
     ]
    }
   ],
   "source": [
    "# 列表推导式\n",
    "# 生成平方数\n",
    "squares = [x**2 for x in range(1, 11)]\n",
    "print(f\"平方数: {squares}\")\n",
    "\n",
    "# 筛选偶数\n",
    "even_numbers = [x for x in range(1, 21) if x % 2 == 0]\n",
    "print(f\"偶数: {even_numbers}\")\n",
    "\n",
    "# 字符串处理\n",
    "words = [\"hello\", \"world\", \"python\"]\n",
    "capitalized = [word.capitalize() for word in words]\n",
    "print(f\"首字母大写: {capitalized}\")"
   ]
  },
  {
   "cell_type": "markdown",
   "id": "1edeb7cb",
   "metadata": {},
   "source": [
    "## 24. 元组操作"
   ]
  },
  {
   "cell_type": "code",
   "execution_count": 57,
   "id": "cb3d3083",
   "metadata": {},
   "outputs": [
    {
     "name": "stdout",
     "output_type": "stream",
     "text": [
      "坐标: (3, 4)\n",
      "x坐标: 3\n",
      "y坐标: 4\n",
      "解包后: x=3, y=4\n",
      "命名元组: Point(x=3, y=4)\n",
      "x坐标: 3, y坐标: 4\n"
     ]
    }
   ],
   "source": [
    "# 元组的创建和操作\n",
    "coordinates = (3, 4)\n",
    "print(f\"坐标: {coordinates}\")\n",
    "print(f\"x坐标: {coordinates[0]}\")\n",
    "print(f\"y坐标: {coordinates[1]}\")\n",
    "\n",
    "# 元组解包\n",
    "x, y = coordinates\n",
    "print(f\"解包后: x={x}, y={y}\")\n",
    "\n",
    "# 命名元组\n",
    "from collections import namedtuple\n",
    "Point = namedtuple('Point', ['x', 'y'])\n",
    "p = Point(3, 4)\n",
    "print(f\"命名元组: {p}\")\n",
    "print(f\"x坐标: {p.x}, y坐标: {p.y}\")"
   ]
  },
  {
   "cell_type": "markdown",
   "id": "c0b3f199",
   "metadata": {},
   "source": [
    "## 25. 字典基础操作"
   ]
  },
  {
   "cell_type": "code",
   "execution_count": 58,
   "id": "d549bbdd",
   "metadata": {},
   "outputs": [
    {
     "name": "stdout",
     "output_type": "stream",
     "text": [
      "学生信息: {'姓名': '张三', '年龄': 20, '专业': '计算机科学', '成绩': [85, 92, 78]}\n",
      "姓名: 张三\n",
      "年龄: 20\n",
      "更新后: {'姓名': '张三', '年龄': 21, '专业': '计算机科学', '成绩': [85, 92, 78], '学号': '2023001'}\n",
      "姓名: 张三\n",
      "年龄: 21\n",
      "专业: 计算机科学\n",
      "成绩: [85, 92, 78]\n",
      "学号: 2023001\n"
     ]
    }
   ],
   "source": [
    "# 字典的创建和操作\n",
    "student = {\n",
    "    \"姓名\": \"张三\",\n",
    "    \"年龄\": 20,\n",
    "    \"专业\": \"计算机科学\",\n",
    "    \"成绩\": [85, 92, 78]\n",
    "}\n",
    "\n",
    "print(f\"学生信息: {student}\")\n",
    "print(f\"姓名: {student['姓名']}\")\n",
    "print(f\"年龄: {student.get('年龄', '未知')}\")\n",
    "\n",
    "# 添加和修改\n",
    "student[\"学号\"] = \"2023001\"\n",
    "student[\"年龄\"] = 21\n",
    "print(f\"更新后: {student}\")\n",
    "\n",
    "# 遍历字典\n",
    "for key, value in student.items():\n",
    "    print(f\"{key}: {value}\")"
   ]
  },
  {
   "cell_type": "markdown",
   "id": "3009ac51",
   "metadata": {},
   "source": [
    "## 26. 字典推导式"
   ]
  },
  {
   "cell_type": "code",
   "execution_count": 59,
   "id": "2469d9d0",
   "metadata": {},
   "outputs": [
    {
     "name": "stdout",
     "output_type": "stream",
     "text": [
      "平方字典: {1: 1, 2: 4, 3: 9, 4: 16, 5: 25}\n",
      "高分学生: {'李四': 92, '赵六': 95}\n",
      "单词长度: {'python': 6, 'java': 4, 'javascript': 10, 'go': 2}\n"
     ]
    }
   ],
   "source": [
    "# 字典推导式\n",
    "# 创建平方字典\n",
    "square_dict = {x: x**2 for x in range(1, 6)}\n",
    "print(f\"平方字典: {square_dict}\")\n",
    "\n",
    "# 筛选字典\n",
    "scores = {\"张三\": 85, \"李四\": 92, \"王五\": 78, \"赵六\": 95}\n",
    "high_scores = {name: score for name, score in scores.items() if score >= 90}\n",
    "print(f\"高分学生: {high_scores}\")\n",
    "\n",
    "# 字符串长度字典\n",
    "words = [\"python\", \"java\", \"javascript\", \"go\"]\n",
    "length_dict = {word: len(word) for word in words}\n",
    "print(f\"单词长度: {length_dict}\")"
   ]
  },
  {
   "cell_type": "markdown",
   "id": "f66c0f9c",
   "metadata": {},
   "source": [
    "## 27. 集合操作"
   ]
  },
  {
   "cell_type": "code",
   "execution_count": 60,
   "id": "5c5ae852",
   "metadata": {},
   "outputs": [
    {
     "name": "stdout",
     "output_type": "stream",
     "text": [
      "集合1: {1, 2, 3, 4, 5}\n",
      "集合2: {4, 5, 6, 7, 8}\n",
      "并集: {1, 2, 3, 4, 5, 6, 7, 8}\n",
      "交集: {4, 5}\n",
      "差集: {1, 2, 3}\n",
      "对称差集: {1, 2, 3, 6, 7, 8}\n",
      "添加元素后: {1, 2, 3, 4, 5, 6}\n",
      "删除元素后: {2, 3, 4, 5, 6}\n"
     ]
    }
   ],
   "source": [
    "# 集合的创建和操作\n",
    "set1 = {1, 2, 3, 4, 5}\n",
    "set2 = {4, 5, 6, 7, 8}\n",
    "\n",
    "print(f\"集合1: {set1}\")\n",
    "print(f\"集合2: {set2}\")\n",
    "\n",
    "# 集合运算\n",
    "print(f\"并集: {set1 | set2}\")\n",
    "print(f\"交集: {set1 & set2}\")\n",
    "print(f\"差集: {set1 - set2}\")\n",
    "print(f\"对称差集: {set1 ^ set2}\")\n",
    "\n",
    "# 集合方法\n",
    "set1.add(6)\n",
    "print(f\"添加元素后: {set1}\")\n",
    "set1.discard(1)\n",
    "print(f\"删除元素后: {set1}\")"
   ]
  },
  {
   "cell_type": "markdown",
   "id": "ff7f9200",
   "metadata": {},
   "source": [
    "## 28. 字符串方法详解"
   ]
  },
  {
   "cell_type": "code",
   "execution_count": 61,
   "id": "a97d8500",
   "metadata": {},
   "outputs": [
    {
     "name": "stdout",
     "output_type": "stream",
     "text": [
      "原字符串: '  Hello, Python World!  '\n",
      "去除空格: 'Hello, Python World!'\n",
      "分割字符串: ['Hello', 'Python World!']\n",
      "连接字符串: a-b-c\n",
      "查找子串: 9\n",
      "替换字符串:   Hello, Python Universe!  \n",
      "字符串居中: '*****Hello, Python World!*****'\n"
     ]
    }
   ],
   "source": [
    "# 字符串方法详细示例\n",
    "text = \"  Hello, Python World!  \"\n",
    "\n",
    "print(f\"原字符串: '{text}'\")\n",
    "print(f\"去除空格: '{text.strip()}'\")\n",
    "print(f\"分割字符串: {text.strip().split(', ')}\")\n",
    "print(f\"连接字符串: {'-'.join(['a', 'b', 'c'])}\")\n",
    "print(f\"查找子串: {text.find('Python')}\")\n",
    "print(f\"替换字符串: {text.replace('World', 'Universe')}\")\n",
    "print(f\"字符串居中: '{text.strip().center(30, '*')}'\")"
   ]
  },
  {
   "cell_type": "markdown",
   "id": "197fbdfb",
   "metadata": {},
   "source": [
    "## 29. 数字类型转换"
   ]
  },
  {
   "cell_type": "code",
   "execution_count": 62,
   "id": "71fcb56b",
   "metadata": {},
   "outputs": [
    {
     "name": "stdout",
     "output_type": "stream",
     "text": [
      "整数: 42, 类型: <class 'int'>\n",
      "浮点数: 3.14159, 类型: <class 'float'>\n",
      "复数: (3+4j), 类型: <class 'complex'>\n",
      "实部: 3.0, 虚部: 4.0\n",
      "浮点转整数: 3\n",
      "整数转浮点: 42.0\n",
      "字符串转数字: 123, 3.14\n"
     ]
    }
   ],
   "source": [
    "# 数字类型转换和操作\n",
    "# 整数\n",
    "num_int = 42\n",
    "print(f\"整数: {num_int}, 类型: {type(num_int)}\")\n",
    "\n",
    "# 浮点数\n",
    "num_float = 3.14159\n",
    "print(f\"浮点数: {num_float}, 类型: {type(num_float)}\")\n",
    "\n",
    "# 复数\n",
    "num_complex = 3 + 4j\n",
    "print(f\"复数: {num_complex}, 类型: {type(num_complex)}\")\n",
    "print(f\"实部: {num_complex.real}, 虚部: {num_complex.imag}\")\n",
    "\n",
    "# 类型转换\n",
    "print(f\"浮点转整数: {int(num_float)}\")\n",
    "print(f\"整数转浮点: {float(num_int)}\")\n",
    "print(f\"字符串转数字: {int('123')}, {float('3.14')}\")"
   ]
  },
  {
   "cell_type": "markdown",
   "id": "9cb8bdde",
   "metadata": {},
   "source": [
    "## 30. 数据类型判断"
   ]
  },
  {
   "cell_type": "code",
   "execution_count": 63,
   "id": "13ec06fd",
   "metadata": {},
   "outputs": [
    {
     "name": "stdout",
     "output_type": "stream",
     "text": [
      "值: 42\n",
      "类型: <class 'int'>\n",
      "是否为整数: True\n",
      "是否为字符串: False\n",
      "是否为列表: False\n",
      "是否为数字: True\n",
      "------------------------------\n",
      "值: Hello\n",
      "类型: <class 'str'>\n",
      "是否为整数: False\n",
      "是否为字符串: True\n",
      "是否为列表: False\n",
      "是否为数字: False\n",
      "------------------------------\n",
      "值: [1, 2, 3]\n",
      "类型: <class 'list'>\n",
      "是否为整数: False\n",
      "是否为字符串: False\n",
      "是否为列表: True\n",
      "是否为数字: False\n",
      "------------------------------\n",
      "值: 3.14\n",
      "类型: <class 'float'>\n",
      "是否为整数: False\n",
      "是否为字符串: False\n",
      "是否为列表: False\n",
      "是否为数字: True\n",
      "------------------------------\n"
     ]
    }
   ],
   "source": [
    "# 数据类型判断\n",
    "def check_type(value):\n",
    "    print(f\"值: {value}\")\n",
    "    print(f\"类型: {type(value)}\")\n",
    "    print(f\"是否为整数: {isinstance(value, int)}\")\n",
    "    print(f\"是否为字符串: {isinstance(value, str)}\")\n",
    "    print(f\"是否为列表: {isinstance(value, list)}\")\n",
    "    print(f\"是否为数字: {isinstance(value, (int, float))}\")\n",
    "    print(\"-\" * 30)\n",
    "\n",
    "# 测试不同类型\n",
    "check_type(42)\n",
    "check_type(\"Hello\")\n",
    "check_type([1, 2, 3])\n",
    "check_type(3.14)"
   ]
  },
  {
   "cell_type": "markdown",
   "id": "07250f6c",
   "metadata": {},
   "source": [
    "## 31. 嵌套数据结构"
   ]
  },
  {
   "cell_type": "code",
   "execution_count": 64,
   "id": "97b58f51",
   "metadata": {},
   "outputs": [
    {
     "name": "stdout",
     "output_type": "stream",
     "text": [
      "公司名称: 科技公司\n",
      "研发部员工: ['张三', '李四', '王五']\n",
      "销售部目标: 1000000\n",
      "\n",
      "研发部:\n",
      "  员工: ['张三', '李四', '王五']\n",
      "  项目: ['项目A', '项目B']\n",
      "\n",
      "销售部:\n",
      "  员工: ['赵六', '钱七']\n",
      "  目标: 1000000\n"
     ]
    }
   ],
   "source": [
    "# 嵌套数据结构\n",
    "company = {\n",
    "    \"名称\": \"科技公司\",\n",
    "    \"部门\": {\n",
    "        \"研发部\": {\n",
    "            \"员工\": [\"张三\", \"李四\", \"王五\"],\n",
    "            \"项目\": [\"项目A\", \"项目B\"]\n",
    "        },\n",
    "        \"销售部\": {\n",
    "            \"员工\": [\"赵六\", \"钱七\"],\n",
    "            \"目标\": 1000000\n",
    "        }\n",
    "    }\n",
    "}\n",
    "\n",
    "print(f\"公司名称: {company['名称']}\")\n",
    "print(f\"研发部员工: {company['部门']['研发部']['员工']}\")\n",
    "print(f\"销售部目标: {company['部门']['销售部']['目标']}\")\n",
    "\n",
    "# 遍历嵌套结构\n",
    "for dept_name, dept_info in company[\"部门\"].items():\n",
    "    print(f\"\\n{dept_name}:\")\n",
    "    for key, value in dept_info.items():\n",
    "        print(f\"  {key}: {value}\")"
   ]
  },
  {
   "cell_type": "markdown",
   "id": "7545ab50",
   "metadata": {},
   "source": [
    "## 32. 列表排序和搜索"
   ]
  },
  {
   "cell_type": "code",
   "execution_count": 65,
   "id": "cea43478",
   "metadata": {},
   "outputs": [
    {
     "name": "stdout",
     "output_type": "stream",
     "text": [
      "原列表: [64, 34, 25, 12, 22, 11, 90]\n",
      "升序排序: [11, 12, 22, 25, 34, 64, 90]\n",
      "降序排序: [90, 64, 34, 25, 22, 12, 11]\n",
      "原地排序: [11, 12, 22, 25, 34, 64, 90]\n",
      "找到 25，位置: 3\n"
     ]
    }
   ],
   "source": [
    "# 列表排序和搜索\n",
    "numbers = [64, 34, 25, 12, 22, 11, 90]\n",
    "print(f\"原列表: {numbers}\")\n",
    "\n",
    "# 排序\n",
    "sorted_asc = sorted(numbers)\n",
    "sorted_desc = sorted(numbers, reverse=True)\n",
    "print(f\"升序排序: {sorted_asc}\")\n",
    "print(f\"降序排序: {sorted_desc}\")\n",
    "\n",
    "# 原地排序\n",
    "numbers.sort()\n",
    "print(f\"原地排序: {numbers}\")\n",
    "\n",
    "# 搜索\n",
    "target = 25\n",
    "if target in numbers:\n",
    "    index = numbers.index(target)\n",
    "    print(f\"找到 {target}，位置: {index}\")\n",
    "else:\n",
    "    print(f\"未找到 {target}\")"
   ]
  },
  {
   "cell_type": "markdown",
   "id": "64f4b3da",
   "metadata": {},
   "source": [
    "## 33. 字符串编码解码"
   ]
  },
  {
   "cell_type": "code",
   "execution_count": 66,
   "id": "a85b54f5",
   "metadata": {},
   "outputs": [
    {
     "name": "stdout",
     "output_type": "stream",
     "text": [
      "原字符串: 你好，Python！\n",
      "UTF-8编码: b'\\xe4\\xbd\\xa0\\xe5\\xa5\\xbd\\xef\\xbc\\x8cPython\\xef\\xbc\\x81'\n",
      "GBK编码: b'\\xc4\\xe3\\xba\\xc3\\xa3\\xacPython\\xa3\\xa1'\n",
      "UTF-8解码: 你好，Python！\n",
      "GBK解码: 你好，Python！\n",
      "解码错误: 'ascii' codec can't decode byte 0xe4 in position 0: ordinal not in range(128)\n"
     ]
    }
   ],
   "source": [
    "# 字符串编码和解码\n",
    "text = \"你好，Python！\"\n",
    "print(f\"原字符串: {text}\")\n",
    "\n",
    "# 编码\n",
    "utf8_bytes = text.encode('utf-8')\n",
    "gbk_bytes = text.encode('gbk')\n",
    "print(f\"UTF-8编码: {utf8_bytes}\")\n",
    "print(f\"GBK编码: {gbk_bytes}\")\n",
    "\n",
    "# 解码\n",
    "decoded_utf8 = utf8_bytes.decode('utf-8')\n",
    "decoded_gbk = gbk_bytes.decode('gbk')\n",
    "print(f\"UTF-8解码: {decoded_utf8}\")\n",
    "print(f\"GBK解码: {decoded_gbk}\")\n",
    "\n",
    "# 处理编码错误\n",
    "try:\n",
    "    wrong_decode = utf8_bytes.decode('ascii')\n",
    "except UnicodeDecodeError as e:\n",
    "    print(f\"解码错误: {e}\")"
   ]
  },
  {
   "cell_type": "markdown",
   "id": "4f023f91",
   "metadata": {},
   "source": [
    "## 34. 数据结构转换"
   ]
  },
  {
   "cell_type": "code",
   "execution_count": 67,
   "id": "f4d7557a",
   "metadata": {},
   "outputs": [
    {
     "name": "stdout",
     "output_type": "stream",
     "text": [
      "列表: [1, 2, 3, 4, 5]\n",
      "元组: (1, 2, 3, 4, 5)\n",
      "集合: {1, 2, 3, 4, 5}\n",
      "\n",
      "字符串: hello\n",
      "转列表: ['h', 'e', 'l', 'l', 'o']\n",
      "转元组: ('h', 'e', 'l', 'l', 'o')\n",
      "转集合: {'l', 'e', 'h', 'o'}\n",
      "\n",
      "字典: {'a': 1, 'b': 2, 'c': 3}\n",
      "键列表: ['a', 'b', 'c']\n",
      "值列表: [1, 2, 3]\n",
      "项列表: [('a', 1), ('b', 2), ('c', 3)]\n"
     ]
    }
   ],
   "source": [
    "# 数据结构之间的转换\n",
    "# 列表转换\n",
    "list_data = [1, 2, 3, 4, 5]\n",
    "tuple_data = tuple(list_data)\n",
    "set_data = set(list_data)\n",
    "print(f\"列表: {list_data}\")\n",
    "print(f\"元组: {tuple_data}\")\n",
    "print(f\"集合: {set_data}\")\n",
    "\n",
    "# 字符串转换\n",
    "string_data = \"hello\"\n",
    "list_from_string = list(string_data)\n",
    "tuple_from_string = tuple(string_data)\n",
    "set_from_string = set(string_data)\n",
    "print(f\"\\n字符串: {string_data}\")\n",
    "print(f\"转列表: {list_from_string}\")\n",
    "print(f\"转元组: {tuple_from_string}\")\n",
    "print(f\"转集合: {set_from_string}\")\n",
    "\n",
    "# 字典转换\n",
    "dict_data = {\"a\": 1, \"b\": 2, \"c\": 3}\n",
    "keys_list = list(dict_data.keys())\n",
    "values_list = list(dict_data.values())\n",
    "items_list = list(dict_data.items())\n",
    "print(f\"\\n字典: {dict_data}\")\n",
    "print(f\"键列表: {keys_list}\")\n",
    "print(f\"值列表: {values_list}\")\n",
    "print(f\"项列表: {items_list}\")"
   ]
  },
  {
   "cell_type": "markdown",
   "id": "7321b9eb",
   "metadata": {},
   "source": [
    "## 35. 深拷贝和浅拷贝"
   ]
  },
  {
   "cell_type": "code",
   "execution_count": 68,
   "id": "685a6ec2",
   "metadata": {},
   "outputs": [
    {
     "name": "stdout",
     "output_type": "stream",
     "text": [
      "原始数据: [[1, 2, 3], [4, 5, 6]]\n",
      "浅拷贝修改后原始数据: [[999, 2, 3], [4, 5, 6]]\n",
      "浅拷贝数据: [[999, 2, 3], [4, 5, 6]]\n",
      "\n",
      "深拷贝修改后原始数据: [[1, 2, 3], [4, 5, 6]]\n",
      "深拷贝数据: [[999, 2, 3], [4, 5, 6]]\n"
     ]
    }
   ],
   "source": [
    "# 深拷贝和浅拷贝\n",
    "import copy\n",
    "\n",
    "# 原始数据\n",
    "original = [[1, 2, 3], [4, 5, 6]]\n",
    "print(f\"原始数据: {original}\")\n",
    "\n",
    "# 浅拷贝\n",
    "shallow_copy = copy.copy(original)\n",
    "shallow_copy[0][0] = 999\n",
    "print(f\"浅拷贝修改后原始数据: {original}\")\n",
    "print(f\"浅拷贝数据: {shallow_copy}\")\n",
    "\n",
    "# 重置数据\n",
    "original = [[1, 2, 3], [4, 5, 6]]\n",
    "\n",
    "# 深拷贝\n",
    "deep_copy = copy.deepcopy(original)\n",
    "deep_copy[0][0] = 999\n",
    "print(f\"\\n深拷贝修改后原始数据: {original}\")\n",
    "print(f\"深拷贝数据: {deep_copy}\")"
   ]
  },
  {
   "cell_type": "markdown",
   "id": "7407484f",
   "metadata": {},
   "source": [
    "## 36. 数据统计"
   ]
  },
  {
   "cell_type": "code",
   "execution_count": 69,
   "id": "b8acb676",
   "metadata": {},
   "outputs": [
    {
     "name": "stdout",
     "output_type": "stream",
     "text": [
      "数据: [85, 92, 78, 96, 87, 91, 83, 89, 94, 88]\n",
      "总数: 10\n",
      "最大值: 96\n",
      "最小值: 78\n",
      "总和: 883\n",
      "平均值: 88.30\n",
      "排序后: [78, 83, 85, 87, 88, 89, 91, 92, 94, 96]\n",
      "中位数: 89\n",
      "计数统计: Counter({85: 1, 92: 1, 78: 1, 96: 1, 87: 1, 91: 1, 83: 1, 89: 1, 94: 1, 88: 1})\n",
      "最常见的3个: [(85, 1), (92, 1), (78, 1)]\n"
     ]
    }
   ],
   "source": [
    "# 数据统计分析\n",
    "numbers = [85, 92, 78, 96, 87, 91, 83, 89, 94, 88]\n",
    "\n",
    "# 基本统计\n",
    "print(f\"数据: {numbers}\")\n",
    "print(f\"总数: {len(numbers)}\")\n",
    "print(f\"最大值: {max(numbers)}\")\n",
    "print(f\"最小值: {min(numbers)}\")\n",
    "print(f\"总和: {sum(numbers)}\")\n",
    "print(f\"平均值: {sum(numbers) / len(numbers):.2f}\")\n",
    "\n",
    "# 排序后的统计\n",
    "sorted_numbers = sorted(numbers)\n",
    "print(f\"排序后: {sorted_numbers}\")\n",
    "print(f\"中位数: {sorted_numbers[len(sorted_numbers)//2]}\")\n",
    "\n",
    "# 计数统计\n",
    "from collections import Counter\n",
    "counter = Counter(numbers)\n",
    "print(f\"计数统计: {counter}\")\n",
    "print(f\"最常见的3个: {counter.most_common(3)}\")"
   ]
  },
  {
   "cell_type": "markdown",
   "id": "4c85469a",
   "metadata": {},
   "source": [
    "## 37. 字符串格式化高级用法"
   ]
  },
  {
   "cell_type": "code",
   "execution_count": 70,
   "id": "dad8928e",
   "metadata": {},
   "outputs": [
    {
     "name": "stdout",
     "output_type": "stream",
     "text": [
      "姓名:         张三\n",
      "年龄: 00025\n",
      "分数: 95.68\n",
      "分数:    95.68\n",
      "百分比: 95.68%\n",
      "千分位分隔: 1,234,567\n",
      "科学计数法: 1.23e+06\n",
      "当前时间: 2025-07-14 17:55:10\n"
     ]
    }
   ],
   "source": [
    "# 字符串格式化高级用法\n",
    "name = \"张三\"\n",
    "age = 25\n",
    "score = 95.678\n",
    "\n",
    "# f-string高级格式化\n",
    "print(f\"姓名: {name:>10}\")  # 右对齐，宽度10\n",
    "print(f\"年龄: {age:0>5}\")   # 用0填充，宽度5\n",
    "print(f\"分数: {score:.2f}\")  # 保留2位小数\n",
    "print(f\"分数: {score:8.2f}\")  # 宽度8，保留2位小数\n",
    "print(f\"百分比: {score/100:.2%}\")  # 百分比格式\n",
    "\n",
    "# 数字格式化\n",
    "number = 1234567\n",
    "print(f\"千分位分隔: {number:,}\")\n",
    "print(f\"科学计数法: {number:.2e}\")\n",
    "\n",
    "# 日期格式化\n",
    "from datetime import datetime\n",
    "now = datetime.now()\n",
    "print(f\"当前时间: {now:%Y-%m-%d %H:%M:%S}\")"
   ]
  },
  {
   "cell_type": "markdown",
   "id": "d363183f",
   "metadata": {},
   "source": [
    "## 38. 数据验证"
   ]
  },
  {
   "cell_type": "code",
   "execution_count": 71,
   "id": "1bb52a80",
   "metadata": {},
   "outputs": [
    {
     "name": "stdout",
     "output_type": "stream",
     "text": [
      "数字数据验证: {'is_empty': False, 'all_numbers': True, 'all_strings': False, 'all_positive': True, 'in_range_0_100': True}\n",
      "字符串数据验证: {'is_empty': False, 'all_numbers': False, 'all_strings': True, 'all_non_empty': True, 'all_alpha': True}\n",
      "空数据验证: {'is_empty': True, 'all_numbers': True, 'all_strings': True, 'all_positive': True, 'in_range_0_100': True, 'all_non_empty': True, 'all_alpha': True}\n"
     ]
    }
   ],
   "source": [
    "# 数据验证函数\n",
    "def validate_data(data):\n",
    "    \"\"\"验证数据的有效性\"\"\"\n",
    "    results = {}\n",
    "    \n",
    "    # 检查是否为空\n",
    "    results['is_empty'] = len(data) == 0\n",
    "    \n",
    "    # 检查数据类型\n",
    "    results['all_numbers'] = all(isinstance(x, (int, float)) for x in data)\n",
    "    results['all_strings'] = all(isinstance(x, str) for x in data)\n",
    "    \n",
    "    # 检查数值范围（如果是数字）\n",
    "    if results['all_numbers']:\n",
    "        results['all_positive'] = all(x > 0 for x in data)\n",
    "        results['in_range_0_100'] = all(0 <= x <= 100 for x in data)\n",
    "    \n",
    "    # 检查字符串（如果是字符串）\n",
    "    if results['all_strings']:\n",
    "        results['all_non_empty'] = all(len(x.strip()) > 0 for x in data)\n",
    "        results['all_alpha'] = all(x.isalpha() for x in data)\n",
    "    \n",
    "    return results\n",
    "\n",
    "# 测试数据验证\n",
    "test_data1 = [85, 92, 78, 96]\n",
    "test_data2 = [\"张三\", \"李四\", \"王五\"]\n",
    "test_data3 = []\n",
    "\n",
    "print(\"数字数据验证:\", validate_data(test_data1))\n",
    "print(\"字符串数据验证:\", validate_data(test_data2))\n",
    "print(\"空数据验证:\", validate_data(test_data3))"
   ]
  },
  {
   "cell_type": "markdown",
   "id": "592419fe",
   "metadata": {},
   "source": [
    "## 39. 数据过滤和映射"
   ]
  },
  {
   "cell_type": "code",
   "execution_count": 72,
   "id": "a27883f5",
   "metadata": {},
   "outputs": [
    {
     "name": "stdout",
     "output_type": "stream",
     "text": [
      "偶数: [2, 4, 6, 8, 10]\n",
      "平方数: [1, 4, 9, 16, 25, 36, 49, 64, 81, 100]\n",
      "偶数的平方: [4, 16, 36, 64, 100]\n",
      "长单词大写: ['PYTHON', 'PROGRAMMING']\n"
     ]
    }
   ],
   "source": [
    "# 数据过滤和映射\n",
    "data = [1, 2, 3, 4, 5, 6, 7, 8, 9, 10]\n",
    "\n",
    "# 使用filter过滤\n",
    "even_numbers = list(filter(lambda x: x % 2 == 0, data))\n",
    "print(f\"偶数: {even_numbers}\")\n",
    "\n",
    "# 使用map映射\n",
    "squared_numbers = list(map(lambda x: x**2, data))\n",
    "print(f\"平方数: {squared_numbers}\")\n",
    "\n",
    "# 使用列表推导式（更Pythonic）\n",
    "even_squares = [x**2 for x in data if x % 2 == 0]\n",
    "print(f\"偶数的平方: {even_squares}\")\n",
    "\n",
    "# 字符串处理\n",
    "words = [\"hello\", \"world\", \"python\", \"programming\"]\n",
    "# 过滤长度大于5的单词并转大写\n",
    "long_words_upper = [word.upper() for word in words if len(word) > 5]\n",
    "print(f\"长单词大写: {long_words_upper}\")"
   ]
  },
  {
   "cell_type": "markdown",
   "id": "7c8a2b7d",
   "metadata": {},
   "source": [
    "## 40. 数据分组"
   ]
  },
  {
   "cell_type": "code",
   "execution_count": 73,
   "id": "43e64741",
   "metadata": {},
   "outputs": [
    {
     "name": "stdout",
     "output_type": "stream",
     "text": [
      "\n",
      "A班:\n",
      "  张三: 85分\n",
      "  王五: 78分\n",
      "  钱七: 89分\n",
      "  平均分: 84.0\n",
      "\n",
      "B班:\n",
      "  李四: 92分\n",
      "  赵六: 96分\n",
      "  平均分: 94.0\n"
     ]
    }
   ],
   "source": [
    "# 数据分组\n",
    "from itertools import groupby\n",
    "from collections import defaultdict\n",
    "\n",
    "# 学生数据\n",
    "students = [\n",
    "    {\"姓名\": \"张三\", \"班级\": \"A班\", \"分数\": 85},\n",
    "    {\"姓名\": \"李四\", \"班级\": \"B班\", \"分数\": 92},\n",
    "    {\"姓名\": \"王五\", \"班级\": \"A班\", \"分数\": 78},\n",
    "    {\"姓名\": \"赵六\", \"班级\": \"B班\", \"分数\": 96},\n",
    "    {\"姓名\": \"钱七\", \"班级\": \"A班\", \"分数\": 89}\n",
    "]\n",
    "\n",
    "# 按班级分组\n",
    "class_groups = defaultdict(list)\n",
    "for student in students:\n",
    "    class_groups[student[\"班级\"]].append(student)\n",
    "\n",
    "for class_name, students_in_class in class_groups.items():\n",
    "    print(f\"\\n{class_name}:\")\n",
    "    for student in students_in_class:\n",
    "        print(f\"  {student['姓名']}: {student['分数']}分\")\n",
    "    \n",
    "    # 计算班级平均分\n",
    "    avg_score = sum(s[\"分数\"] for s in students_in_class) / len(students_in_class)\n",
    "    print(f\"  平均分: {avg_score:.1f}\")"
   ]
  },
  {
   "cell_type": "markdown",
   "id": "43980380",
   "metadata": {},
   "source": [
    "# 控制结构练习"
   ]
  },
  {
   "cell_type": "markdown",
   "id": "0e45476e",
   "metadata": {},
   "source": [
    "## 41. 条件判断基础"
   ]
  },
  {
   "cell_type": "code",
   "execution_count": 74,
   "id": "5305104f",
   "metadata": {},
   "outputs": [
    {
     "name": "stdout",
     "output_type": "stream",
     "text": [
      "分数: 85, 等级: 良好\n"
     ]
    }
   ],
   "source": [
    "# 基础条件判断\n",
    "score = 85\n",
    "\n",
    "if score >= 90:\n",
    "    grade = \"优秀\"\n",
    "elif score >= 80:\n",
    "    grade = \"良好\"\n",
    "elif score >= 70:\n",
    "    grade = \"中等\"\n",
    "elif score >= 60:\n",
    "    grade = \"及格\"\n",
    "else:\n",
    "    grade = \"不及格\"\n",
    "\n",
    "print(f\"分数: {score}, 等级: {grade}\")"
   ]
  },
  {
   "cell_type": "markdown",
   "id": "058ceb42",
   "metadata": {},
   "source": [
    "## 42. 多条件判断"
   ]
  },
  {
   "cell_type": "code",
   "execution_count": 75,
   "id": "6bbbb482",
   "metadata": {},
   "outputs": [
    {
     "name": "stdout",
     "output_type": "stream",
     "text": [
      "贷款审批通过，额度: 500000元\n"
     ]
    }
   ],
   "source": [
    "# 多条件判断\n",
    "age = 25\n",
    "income = 50000\n",
    "has_job = True\n",
    "\n",
    "# 贷款审批条件\n",
    "if age >= 18 and income >= 30000 and has_job:\n",
    "    if age < 65 and income >= 50000:\n",
    "        loan_amount = 500000\n",
    "    else:\n",
    "        loan_amount = 200000\n",
    "    print(f\"贷款审批通过，额度: {loan_amount}元\")\n",
    "else:\n",
    "    print(\"贷款审批未通过\")\n",
    "    if age < 18:\n",
    "        print(\"原因: 年龄不足\")\n",
    "    if income < 30000:\n",
    "        print(\"原因: 收入不足\")\n",
    "    if not has_job:\n",
    "        print(\"原因: 无工作\")"
   ]
  },
  {
   "cell_type": "markdown",
   "id": "f42c7d21",
   "metadata": {},
   "source": [
    "## 43. 三元运算符"
   ]
  },
  {
   "cell_type": "code",
   "execution_count": 76,
   "id": "a4da5898",
   "metadata": {},
   "outputs": [
    {
     "name": "stdout",
     "output_type": "stream",
     "text": [
      "较大值: 20\n",
      "三元运算符结果: 20\n",
      "状态: 成年人\n",
      "等级: 良\n"
     ]
    }
   ],
   "source": [
    "# 三元运算符（条件表达式）\n",
    "a = 10\n",
    "b = 20\n",
    "\n",
    "# 传统if-else\n",
    "if a > b:\n",
    "    max_value = a\n",
    "else:\n",
    "    max_value = b\n",
    "\n",
    "# 三元运算符\n",
    "max_value_ternary = a if a > b else b\n",
    "\n",
    "print(f\"较大值: {max_value}\")\n",
    "print(f\"三元运算符结果: {max_value_ternary}\")\n",
    "\n",
    "# 复杂的三元运算符\n",
    "status = \"成年人\" if age >= 18 else \"未成年人\"\n",
    "print(f\"状态: {status}\")\n",
    "\n",
    "# 嵌套三元运算符\n",
    "grade = \"优\" if score >= 90 else \"良\" if score >= 80 else \"中\" if score >= 70 else \"差\"\n",
    "print(f\"等级: {grade}\")"
   ]
  },
  {
   "cell_type": "markdown",
   "id": "62c5778e",
   "metadata": {},
   "source": [
    "## 44. for循环基础"
   ]
  },
  {
   "cell_type": "code",
   "execution_count": 77,
   "id": "3f71b5bc",
   "metadata": {},
   "outputs": [
    {
     "name": "stdout",
     "output_type": "stream",
     "text": [
      "数字遍历:\n",
      "数字: 0\n",
      "数字: 1\n",
      "数字: 2\n",
      "数字: 3\n",
      "数字: 4\n",
      "\n",
      "水果遍历:\n",
      "水果: 苹果\n",
      "水果: 香蕉\n",
      "水果: 橙子\n",
      "\n",
      "字符遍历:\n",
      "字符: P\n",
      "字符: y\n",
      "字符: t\n",
      "字符: h\n",
      "字符: o\n",
      "字符: n\n",
      "\n",
      "带索引遍历:\n",
      "索引0: 苹果\n",
      "索引1: 香蕉\n",
      "索引2: 橙子\n"
     ]
    }
   ],
   "source": [
    "# for循环基础用法\n",
    "# 遍历数字\n",
    "print(\"数字遍历:\")\n",
    "for i in range(5):\n",
    "    print(f\"数字: {i}\")\n",
    "\n",
    "# 遍历列表\n",
    "fruits = [\"苹果\", \"香蕉\", \"橙子\"]\n",
    "print(\"\\n水果遍历:\")\n",
    "for fruit in fruits:\n",
    "    print(f\"水果: {fruit}\")\n",
    "\n",
    "# 遍历字符串\n",
    "print(\"\\n字符遍历:\")\n",
    "for char in \"Python\":\n",
    "    print(f\"字符: {char}\")\n",
    "\n",
    "# 带索引的遍历\n",
    "print(\"\\n带索引遍历:\")\n",
    "for index, fruit in enumerate(fruits):\n",
    "    print(f\"索引{index}: {fruit}\")"
   ]
  },
  {
   "cell_type": "markdown",
   "id": "acc27a7e",
   "metadata": {},
   "source": [
    "## 45. for循环高级用法"
   ]
  },
  {
   "cell_type": "code",
   "execution_count": 78,
   "id": "5649a49b",
   "metadata": {},
   "outputs": [
    {
     "name": "stdout",
     "output_type": "stream",
     "text": [
      "range(start, stop, step):\n",
      "偶数: 2\n",
      "偶数: 4\n",
      "偶数: 6\n",
      "偶数: 8\n",
      "\n",
      "反向遍历:\n",
      "倒数: 10\n",
      "倒数: 9\n",
      "倒数: 8\n",
      "倒数: 7\n",
      "倒数: 6\n",
      "倒数: 5\n",
      "倒数: 4\n",
      "倒数: 3\n",
      "倒数: 2\n",
      "倒数: 1\n",
      "\n",
      "同时遍历多个列表:\n",
      "张三: 25岁\n",
      "李四: 30岁\n",
      "王五: 35岁\n",
      "\n",
      "九九乘法表:\n",
      "1×1=1\t\n",
      "1×2=2\t2×2=4\t\n",
      "1×3=3\t2×3=6\t3×3=9\t\n",
      "1×4=4\t2×4=8\t3×4=12\t4×4=16\t\n",
      "1×5=5\t2×5=10\t3×5=15\t4×5=20\t5×5=25\t\n",
      "1×6=6\t2×6=12\t3×6=18\t4×6=24\t5×6=30\t6×6=36\t\n",
      "1×7=7\t2×7=14\t3×7=21\t4×7=28\t5×7=35\t6×7=42\t7×7=49\t\n",
      "1×8=8\t2×8=16\t3×8=24\t4×8=32\t5×8=40\t6×8=48\t7×8=56\t8×8=64\t\n",
      "1×9=9\t2×9=18\t3×9=27\t4×9=36\t5×9=45\t6×9=54\t7×9=63\t8×9=72\t9×9=81\t\n"
     ]
    }
   ],
   "source": [
    "# for循环高级用法\n",
    "# range的不同用法\n",
    "print(\"range(start, stop, step):\")\n",
    "for i in range(2, 10, 2):  # 从2开始，到10结束（不包含），步长为2\n",
    "    print(f\"偶数: {i}\")\n",
    "\n",
    "# 反向遍历\n",
    "print(\"\\n反向遍历:\")\n",
    "for i in range(10, 0, -1):\n",
    "    print(f\"倒数: {i}\")\n",
    "\n",
    "# 遍历多个列表\n",
    "names = [\"张三\", \"李四\", \"王五\"]\n",
    "ages = [25, 30, 35]\n",
    "print(\"\\n同时遍历多个列表:\")\n",
    "for name, age in zip(names, ages):\n",
    "    print(f\"{name}: {age}岁\")\n",
    "\n",
    "# 嵌套循环\n",
    "print(\"\\n九九乘法表:\")\n",
    "for i in range(1, 10):\n",
    "    for j in range(1, i + 1):\n",
    "        print(f\"{j}×{i}={i*j}\", end=\"\\t\")\n",
    "    print()  # 换行"
   ]
  },
  {
   "cell_type": "markdown",
   "id": "93271d69",
   "metadata": {},
   "source": [
    "## 46. while循环"
   ]
  },
  {
   "cell_type": "code",
   "execution_count": 79,
   "id": "81366473",
   "metadata": {},
   "outputs": [
    {
     "name": "stdout",
     "output_type": "stream",
     "text": [
      "基础while循环:\n",
      "计数: 0\n",
      "计数: 1\n",
      "计数: 2\n",
      "计数: 3\n",
      "计数: 4\n",
      "\n",
      "猜数字游戏:\n",
      "太小了\n",
      "游戏结束\n"
     ]
    }
   ],
   "source": [
    "# while循环\n",
    "# 基础while循环\n",
    "count = 0\n",
    "print(\"基础while循环:\")\n",
    "while count < 5:\n",
    "    print(f\"计数: {count}\")\n",
    "    count += 1\n",
    "\n",
    "# 用户输入循环\n",
    "print(\"\\n猜数字游戏:\")\n",
    "import random\n",
    "target = random.randint(1, 100)\n",
    "guess_count = 0\n",
    "\n",
    "while True:\n",
    "    try:\n",
    "        guess = int(input(\"请猜一个1-100的数字 (输入0退出): \"))\n",
    "        if guess == 0:\n",
    "            print(\"游戏结束\")\n",
    "            break\n",
    "        \n",
    "        guess_count += 1\n",
    "        \n",
    "        if guess == target:\n",
    "            print(f\"恭喜！你猜对了！用了{guess_count}次\")\n",
    "            break\n",
    "        elif guess < target:\n",
    "            print(\"太小了\")\n",
    "        else:\n",
    "            print(\"太大了\")\n",
    "            \n",
    "    except ValueError:\n",
    "        print(\"请输入有效数字\")"
   ]
  },
  {
   "cell_type": "markdown",
   "id": "9ff1e969",
   "metadata": {},
   "source": [
    "## 47. break和continue"
   ]
  },
  {
   "cell_type": "code",
   "execution_count": 80,
   "id": "47bfb54a",
   "metadata": {},
   "outputs": [
    {
     "name": "stdout",
     "output_type": "stream",
     "text": [
      "break示例 - 找到第一个偶数:\n",
      "检查数字: 1\n",
      "检查数字: 3\n",
      "检查数字: 5\n",
      "找到第一个偶数: 8\n",
      "\n",
      "continue示例 - 跳过偶数:\n",
      "奇数: 1\n",
      "奇数: 3\n",
      "奇数: 5\n",
      "奇数: 7\n",
      "奇数: 9\n",
      "\n",
      "嵌套循环示例:\n",
      "外层循环: 0\n",
      "  内层循环: 0\n",
      "  内层循环: 1\n",
      "  内层循环: 2\n",
      "外层循环: 1\n",
      "  内层循环: 0\n",
      "  内层循环: 1\n",
      "  内层循环: 2\n",
      "外层循环: 2\n",
      "  内层循环: 0\n",
      "  内层循环: 1\n",
      "  内层循环: 2\n"
     ]
    }
   ],
   "source": [
    "# break和continue的使用\n",
    "# break示例\n",
    "print(\"break示例 - 找到第一个偶数:\")\n",
    "numbers = [1, 3, 5, 8, 9, 10, 11]\n",
    "for num in numbers:\n",
    "    if num % 2 == 0:\n",
    "        print(f\"找到第一个偶数: {num}\")\n",
    "        break\n",
    "    print(f\"检查数字: {num}\")\n",
    "\n",
    "# continue示例\n",
    "print(\"\\ncontinue示例 - 跳过偶数:\")\n",
    "for num in range(1, 11):\n",
    "    if num % 2 == 0:\n",
    "        continue  # 跳过偶数\n",
    "    print(f\"奇数: {num}\")\n",
    "\n",
    "# 嵌套循环中的break和continue\n",
    "print(\"\\n嵌套循环示例:\")\n",
    "for i in range(3):\n",
    "    print(f\"外层循环: {i}\")\n",
    "    for j in range(5):\n",
    "        if j == 3:\n",
    "            break  # 只跳出内层循环\n",
    "        print(f\"  内层循环: {j}\")"
   ]
  },
  {
   "cell_type": "markdown",
   "id": "e992d677",
   "metadata": {},
   "source": [
    "## 48. else子句"
   ]
  },
  {
   "cell_type": "code",
   "execution_count": 81,
   "id": "10fe72fe",
   "metadata": {},
   "outputs": [
    {
     "name": "stdout",
     "output_type": "stream",
     "text": [
      "for-else示例:\n",
      "所有数字都是偶数\n",
      "\n",
      "while-else示例:\n",
      "计数: 0\n",
      "计数: 1\n",
      "计数: 2\n",
      "while循环正常结束\n",
      "\n",
      "带break的for-else:\n",
      "0\n",
      "1\n",
      "2\n",
      "3\n",
      "4\n",
      "找到5，跳出循环\n"
     ]
    }
   ],
   "source": [
    "# for-else和while-else\n",
    "# for-else: 循环正常结束时执行else\n",
    "print(\"for-else示例:\")\n",
    "numbers = [2, 4, 6, 8, 10]\n",
    "for num in numbers:\n",
    "    if num % 2 != 0:\n",
    "        print(f\"找到奇数: {num}\")\n",
    "        break\n",
    "else:\n",
    "    print(\"所有数字都是偶数\")\n",
    "\n",
    "# while-else示例\n",
    "print(\"\\nwhile-else示例:\")\n",
    "count = 0\n",
    "while count < 3:\n",
    "    print(f\"计数: {count}\")\n",
    "    count += 1\n",
    "else:\n",
    "    print(\"while循环正常结束\")\n",
    "\n",
    "# 带break的情况\n",
    "print(\"\\n带break的for-else:\")\n",
    "for num in range(10):\n",
    "    if num == 5:\n",
    "        print(\"找到5，跳出循环\")\n",
    "        break\n",
    "    print(num)\n",
    "else:\n",
    "    print(\"这行不会执行，因为有break\")"
   ]
  },
  {
   "cell_type": "markdown",
   "id": "3cac497e",
   "metadata": {},
   "source": [
    "## 49. 循环优化"
   ]
  },
  {
   "cell_type": "code",
   "execution_count": 82,
   "id": "29c36c61",
   "metadata": {},
   "outputs": [
    {
     "name": "stdout",
     "output_type": "stream",
     "text": [
      "优化前 - 重复计算:\n",
      "耗时: 0.000000秒\n",
      "\n",
      "优化后 - 避免重复计算:\n",
      "耗时: 0.000000秒\n",
      "\n",
      "使用列表推导式:\n",
      "耗时: 0.001012秒\n"
     ]
    }
   ],
   "source": [
    "# 循环优化技巧\n",
    "import time\n",
    "\n",
    "# 避免重复计算\n",
    "print(\"优化前 - 重复计算:\")\n",
    "start_time = time.time()\n",
    "data = list(range(1000))\n",
    "result = []\n",
    "for i in range(len(data)):\n",
    "    if len(data) > 500:  # 每次都计算len(data)\n",
    "        result.append(data[i] * 2)\n",
    "end_time = time.time()\n",
    "print(f\"耗时: {end_time - start_time:.6f}秒\")\n",
    "\n",
    "# 优化后 - 避免重复计算\n",
    "print(\"\\n优化后 - 避免重复计算:\")\n",
    "start_time = time.time()\n",
    "data = list(range(1000))\n",
    "result = []\n",
    "data_len = len(data)  # 只计算一次\n",
    "for i in range(data_len):\n",
    "    if data_len > 500:\n",
    "        result.append(data[i] * 2)\n",
    "end_time = time.time()\n",
    "print(f\"耗时: {end_time - start_time:.6f}秒\")\n",
    "\n",
    "# 使用列表推导式\n",
    "print(\"\\n使用列表推导式:\")\n",
    "start_time = time.time()\n",
    "data = list(range(1000))\n",
    "result = [x * 2 for x in data if len(data) > 500]\n",
    "end_time = time.time()\n",
    "print(f\"耗时: {end_time - start_time:.6f}秒\")"
   ]
  },
  {
   "cell_type": "markdown",
   "id": "8f2e3f8b",
   "metadata": {},
   "source": [
    "## 50. 模式匹配（Python 3.10+）"
   ]
  },
  {
   "cell_type": "code",
   "execution_count": 83,
   "id": "0acb9934",
   "metadata": {},
   "outputs": [
    {
     "name": "stdout",
     "output_type": "stream",
     "text": [
      "模式匹配示例:\n",
      "42 -> 正整数: 42\n",
      "-10 -> 负整数: -10\n",
      "0 -> 零\n",
      "Hello -> 非空字符串: Hello\n",
      "[] -> 空列表\n",
      "[5] -> 包含一个整数的列表: 5\n",
      "[1, 2] -> 包含两个元素的列表: 1, 2\n",
      "{'name': '张三', 'age': 25} -> 包含姓名和年龄的字典: 张三, 25岁\n",
      "(1, 2, 3) -> 其他类型: <class 'tuple'>\n"
     ]
    }
   ],
   "source": [
    "# 模式匹配 (match-case)\n",
    "def handle_data(data):\n",
    "    match data:\n",
    "        case int() if data > 0:\n",
    "            return f\"正整数: {data}\"\n",
    "        case int() if data < 0:\n",
    "            return f\"负整数: {data}\"\n",
    "        case 0:\n",
    "            return \"零\"\n",
    "        case str() if len(data) > 0:\n",
    "            return f\"非空字符串: {data}\"\n",
    "        case []:\n",
    "            return \"空列表\"\n",
    "        case [x] if isinstance(x, int):\n",
    "            return f\"包含一个整数的列表: {x}\"\n",
    "        case [x, y]:\n",
    "            return f\"包含两个元素的列表: {x}, {y}\"\n",
    "        case {\"name\": name, \"age\": age}:\n",
    "            return f\"包含姓名和年龄的字典: {name}, {age}岁\"\n",
    "        case _:\n",
    "            return f\"其他类型: {type(data)}\"\n",
    "\n",
    "# 测试模式匹配\n",
    "test_cases = [\n",
    "    42, -10, 0, \"Hello\", [], [5], [1, 2], \n",
    "    {\"name\": \"张三\", \"age\": 25}, (1, 2, 3)\n",
    "]\n",
    "\n",
    "print(\"模式匹配示例:\")\n",
    "for case in test_cases:\n",
    "    result = handle_data(case)\n",
    "    print(f\"{case} -> {result}\")"
   ]
  },
  {
   "cell_type": "markdown",
   "id": "b610db1a",
   "metadata": {},
   "source": [
    "## 51. 异常处理基础"
   ]
  },
  {
   "cell_type": "code",
   "execution_count": 84,
   "id": "7328f538",
   "metadata": {},
   "outputs": [
    {
     "name": "stdout",
     "output_type": "stream",
     "text": [
      "异常处理测试:\n",
      "计算完成\n",
      "10 / 2 = 5.0\n",
      "错误: 除数不能为零\n",
      "计算完成\n",
      "10 / 0 = None\n",
      "错误: 参数类型不正确\n",
      "计算完成\n",
      "'10' / 2 = None\n"
     ]
    }
   ],
   "source": [
    "# 异常处理基础\n",
    "def safe_divide(a, b):\n",
    "    try:\n",
    "        result = a / b\n",
    "        return result\n",
    "    except ZeroDivisionError:\n",
    "        print(\"错误: 除数不能为零\")\n",
    "        return None\n",
    "    except TypeError:\n",
    "        print(\"错误: 参数类型不正确\")\n",
    "        return None\n",
    "    except Exception as e:\n",
    "        print(f\"未知错误: {e}\")\n",
    "        return None\n",
    "    finally:\n",
    "        print(\"计算完成\")\n",
    "\n",
    "# 测试异常处理\n",
    "print(\"异常处理测试:\")\n",
    "print(f\"10 / 2 = {safe_divide(10, 2)}\")\n",
    "print(f\"10 / 0 = {safe_divide(10, 0)}\")\n",
    "print(f\"'10' / 2 = {safe_divide('10', 2)}\")"
   ]
  },
  {
   "cell_type": "markdown",
   "id": "8c636f1b",
   "metadata": {},
   "source": [
    "## 52. 多重异常处理"
   ]
  },
  {
   "cell_type": "code",
   "execution_count": 85,
   "id": "a62435b0",
   "metadata": {},
   "outputs": [],
   "source": [
    "# 多重异常处理\n",
    "def process_user_input():\n",
    "    try:\n",
    "        # 获取用户输入\n",
    "        num_str = input(\"请输入一个数字: \")\n",
    "        num = float(num_str)\n",
    "        \n",
    "        # 计算平方根\n",
    "        if num < 0:\n",
    "            raise ValueError(\"不能计算负数的平方根\")\n",
    "        \n",
    "        result = num ** 0.5\n",
    "        print(f\"{num} 的平方根是 {result:.2f}\")\n",
    "        \n",
    "    except ValueError as e:\n",
    "        if \"could not convert\" in str(e):\n",
    "            print(\"错误: 输入的不是有效数字\")\n",
    "        else:\n",
    "            print(f\"数值错误: {e}\")\n",
    "    except KeyboardInterrupt:\n",
    "        print(\"\\n用户中断了程序\")\n",
    "    except Exception as e:\n",
    "        print(f\"未预期的错误: {e}\")\n",
    "    else:\n",
    "        print(\"计算成功完成\")\n",
    "    finally:\n",
    "        print(\"程序执行结束\")\n",
    "\n",
    "# process_user_input()  # 取消注释来运行"
   ]
  },
  {
   "cell_type": "markdown",
   "id": "e7c0a534",
   "metadata": {},
   "source": [
    "## 53. 自定义异常"
   ]
  },
  {
   "cell_type": "code",
   "execution_count": 86,
   "id": "59fc1421",
   "metadata": {},
   "outputs": [
    {
     "name": "stdout",
     "output_type": "stream",
     "text": [
      "✓ 张三 的信息验证通过\n",
      "✗ 验证失败: 姓名不能为空\n",
      "✗ 验证失败: 年龄 -5 不在有效范围内 (0-150)\n",
      "✗ 验证失败: 分数 150 不在有效范围内 (0-100)\n"
     ]
    }
   ],
   "source": [
    "# 自定义异常\n",
    "class CustomError(Exception):\n",
    "    \"\"\"自定义异常基类\"\"\"\n",
    "    pass\n",
    "\n",
    "class AgeError(CustomError):\n",
    "    \"\"\"年龄相关异常\"\"\"\n",
    "    def __init__(self, age, message=\"年龄值无效\"):\n",
    "        self.age = age\n",
    "        self.message = message\n",
    "        super().__init__(self.message)\n",
    "\n",
    "class ScoreError(CustomError):\n",
    "    \"\"\"分数相关异常\"\"\"\n",
    "    def __init__(self, score, message=\"分数值无效\"):\n",
    "        self.score = score\n",
    "        self.message = message\n",
    "        super().__init__(self.message)\n",
    "\n",
    "def validate_student_info(name, age, score):\n",
    "    \"\"\"验证学生信息\"\"\"\n",
    "    if not isinstance(name, str) or len(name.strip()) == 0:\n",
    "        raise ValueError(\"姓名不能为空\")\n",
    "    \n",
    "    if not isinstance(age, int) or age < 0 or age > 150:\n",
    "        raise AgeError(age, f\"年龄 {age} 不在有效范围内 (0-150)\")\n",
    "    \n",
    "    if not isinstance(score, (int, float)) or score < 0 or score > 100:\n",
    "        raise ScoreError(score, f\"分数 {score} 不在有效范围内 (0-100)\")\n",
    "    \n",
    "    return True\n",
    "\n",
    "# 测试自定义异常\n",
    "test_cases = [\n",
    "    (\"张三\", 20, 85),\n",
    "    (\"\", 20, 85),\n",
    "    (\"李四\", -5, 85),\n",
    "    (\"王五\", 20, 150)\n",
    "]\n",
    "\n",
    "for name, age, score in test_cases:\n",
    "    try:\n",
    "        validate_student_info(name, age, score)\n",
    "        print(f\"✓ {name} 的信息验证通过\")\n",
    "    except (ValueError, AgeError, ScoreError) as e:\n",
    "        print(f\"✗ 验证失败: {e}\")"
   ]
  },
  {
   "cell_type": "markdown",
   "id": "c9336b79",
   "metadata": {},
   "source": [
    "## 54. 断言"
   ]
  },
  {
   "cell_type": "code",
   "execution_count": 87,
   "id": "f032c697",
   "metadata": {},
   "outputs": [
    {
     "name": "stdout",
     "output_type": "stream",
     "text": [
      "✓ [1, 2, 3, 4, 5] 的平均值: 3.0\n",
      "✗ 断言失败: 列表不能为空\n",
      "✗ 断言失败: 列表元素必须是数字\n",
      "✗ 断言失败: 参数必须是列表\n"
     ]
    }
   ],
   "source": [
    "# 断言的使用\n",
    "def calculate_average(numbers):\n",
    "    \"\"\"计算平均值\"\"\"\n",
    "    # 使用断言检查前置条件\n",
    "    assert isinstance(numbers, list), \"参数必须是列表\"\n",
    "    assert len(numbers) > 0, \"列表不能为空\"\n",
    "    assert all(isinstance(x, (int, float)) for x in numbers), \"列表元素必须是数字\"\n",
    "    \n",
    "    total = sum(numbers)\n",
    "    average = total / len(numbers)\n",
    "    \n",
    "    # 使用断言检查后置条件\n",
    "    assert isinstance(average, (int, float)), \"平均值必须是数字\"\n",
    "    \n",
    "    return average\n",
    "\n",
    "# 测试断言\n",
    "test_data = [\n",
    "    [1, 2, 3, 4, 5],\n",
    "    [],  # 空列表\n",
    "    [1, 2, \"3\", 4],  # 包含非数字\n",
    "    \"not a list\"  # 不是列表\n",
    "]\n",
    "\n",
    "for data in test_data:\n",
    "    try:\n",
    "        result = calculate_average(data)\n",
    "        print(f\"✓ {data} 的平均值: {result}\")\n",
    "    except AssertionError as e:\n",
    "        print(f\"✗ 断言失败: {e}\")\n",
    "    except Exception as e:\n",
    "        print(f\"✗ 其他错误: {e}\")"
   ]
  },
  {
   "cell_type": "markdown",
   "id": "def50071",
   "metadata": {},
   "source": [
    "## 55. 上下文管理器"
   ]
  },
  {
   "cell_type": "code",
   "execution_count": 88,
   "id": "6d268706",
   "metadata": {},
   "outputs": [
    {
     "name": "stdout",
     "output_type": "stream",
     "text": [
      "开始 数据处理...\n",
      "处理了 1000 个数据\n",
      "数据处理 完成，耗时: 0.1004秒\n",
      "开始数据库事务\n",
      "使用 数据库连接 执行操作\n",
      "提交事务\n",
      "关闭数据库连接\n"
     ]
    }
   ],
   "source": [
    "# 上下文管理器\n",
    "class Timer:\n",
    "    \"\"\"计时器上下文管理器\"\"\"\n",
    "    def __init__(self, name=\"操作\"):\n",
    "        self.name = name\n",
    "    \n",
    "    def __enter__(self):\n",
    "        import time\n",
    "        self.start_time = time.time()\n",
    "        print(f\"开始 {self.name}...\")\n",
    "        return self\n",
    "    \n",
    "    def __exit__(self, exc_type, exc_val, exc_tb):\n",
    "        import time\n",
    "        end_time = time.time()\n",
    "        duration = end_time - self.start_time\n",
    "        print(f\"{self.name} 完成，耗时: {duration:.4f}秒\")\n",
    "        \n",
    "        if exc_type is not None:\n",
    "            print(f\"发生异常: {exc_type.__name__}: {exc_val}\")\n",
    "        return False  # 不抑制异常\n",
    "\n",
    "# 使用上下文管理器\n",
    "with Timer(\"数据处理\"):\n",
    "    # 模拟一些耗时操作\n",
    "    import time\n",
    "    time.sleep(0.1)\n",
    "    data = [i**2 for i in range(1000)]\n",
    "    print(f\"处理了 {len(data)} 个数据\")\n",
    "\n",
    "# 使用contextlib简化上下文管理器\n",
    "from contextlib import contextmanager\n",
    "\n",
    "@contextmanager\n",
    "def database_transaction():\n",
    "    print(\"开始数据库事务\")\n",
    "    try:\n",
    "        yield \"数据库连接\"\n",
    "        print(\"提交事务\")\n",
    "    except Exception as e:\n",
    "        print(f\"回滚事务: {e}\")\n",
    "        raise\n",
    "    finally:\n",
    "        print(\"关闭数据库连接\")\n",
    "\n",
    "# 使用简化的上下文管理器\n",
    "with database_transaction() as db:\n",
    "    print(f\"使用 {db} 执行操作\")\n",
    "    # 模拟数据库操作"
   ]
  },
  {
   "cell_type": "markdown",
   "id": "7b194d74",
   "metadata": {},
   "source": [
    "## 56. 生成器基础"
   ]
  },
  {
   "cell_type": "code",
   "execution_count": 89,
   "id": "c51f912f",
   "metadata": {},
   "outputs": [
    {
     "name": "stdout",
     "output_type": "stream",
     "text": [
      "生成器示例:\n",
      "生成器对象: <generator object number_generator at 0x0000029490C412A0>\n",
      "生成数字: 0\n",
      "接收到: 0\n",
      "生成数字: 1\n",
      "接收到: 1\n",
      "生成数字: 2\n",
      "接收到: 2\n",
      "生成数字: 3\n",
      "接收到: 3\n",
      "生成数字: 4\n",
      "接收到: 4\n",
      "\n",
      "斐波那契数列:\n",
      "前10项: [0, 1, 1, 2, 3, 5, 8, 13, 21, 34]\n"
     ]
    }
   ],
   "source": [
    "# 生成器基础\n",
    "def number_generator(n):\n",
    "    \"\"\"生成0到n-1的数字\"\"\"\n",
    "    for i in range(n):\n",
    "        print(f\"生成数字: {i}\")\n",
    "        yield i\n",
    "\n",
    "# 使用生成器\n",
    "print(\"生成器示例:\")\n",
    "gen = number_generator(5)\n",
    "print(f\"生成器对象: {gen}\")\n",
    "\n",
    "# 逐个获取值\n",
    "for num in gen:\n",
    "    print(f\"接收到: {num}\")\n",
    "\n",
    "# 斐波那契数列生成器\n",
    "def fibonacci_generator(n):\n",
    "    \"\"\"生成斐波那契数列的前n项\"\"\"\n",
    "    a, b = 0, 1\n",
    "    count = 0\n",
    "    while count < n:\n",
    "        yield a\n",
    "        a, b = b, a + b\n",
    "        count += 1\n",
    "\n",
    "print(\"\\n斐波那契数列:\")\n",
    "fib_gen = fibonacci_generator(10)\n",
    "fib_numbers = list(fib_gen)\n",
    "print(f\"前10项: {fib_numbers}\")"
   ]
  },
  {
   "cell_type": "markdown",
   "id": "05ea2c23",
   "metadata": {},
   "source": [
    "## 57. 生成器表达式"
   ]
  },
  {
   "cell_type": "code",
   "execution_count": 90,
   "id": "a0d07a29",
   "metadata": {},
   "outputs": [
    {
     "name": "stdout",
     "output_type": "stream",
     "text": [
      "列表推导式 vs 生成器表达式:\n",
      "列表推导式: [0, 1, 4, 9, 16, 25, 36, 49, 64, 81]\n",
      "内存占用: 168 字节\n",
      "生成器表达式: <generator object <genexpr> at 0x0000029490C4C380>\n",
      "内存占用: 184 字节\n",
      "\n",
      "生成器表达式的值:\n",
      "0 1 4 9 16 25 36 49 64 81 \n",
      "\n",
      "大数据处理结果:\n",
      "前10个偶数的平方: [0, 4, 16, 36, 64, 100, 144, 196, 256, 324]\n"
     ]
    }
   ],
   "source": [
    "# 生成器表达式\n",
    "# 与列表推导式的对比\n",
    "print(\"列表推导式 vs 生成器表达式:\")\n",
    "\n",
    "# 列表推导式 - 立即创建所有元素\n",
    "list_comp = [x**2 for x in range(10)]\n",
    "print(f\"列表推导式: {list_comp}\")\n",
    "print(f\"内存占用: {list_comp.__sizeof__()} 字节\")\n",
    "\n",
    "# 生成器表达式 - 按需生成元素\n",
    "gen_exp = (x**2 for x in range(10))\n",
    "print(f\"生成器表达式: {gen_exp}\")\n",
    "print(f\"内存占用: {gen_exp.__sizeof__()} 字节\")\n",
    "\n",
    "# 使用生成器表达式\n",
    "print(\"\\n生成器表达式的值:\")\n",
    "for value in gen_exp:\n",
    "    print(value, end=\" \")\n",
    "print()\n",
    "\n",
    "# 大数据处理示例\n",
    "def process_large_data():\n",
    "    \"\"\"处理大量数据的示例\"\"\"\n",
    "    # 模拟大数据集\n",
    "    large_data = range(1000000)\n",
    "    \n",
    "    # 使用生成器表达式节省内存\n",
    "    even_squares = (x**2 for x in large_data if x % 2 == 0)\n",
    "    \n",
    "    # 只处理前10个结果\n",
    "    result = []\n",
    "    for i, value in enumerate(even_squares):\n",
    "        if i >= 10:\n",
    "            break\n",
    "        result.append(value)\n",
    "    \n",
    "    return result\n",
    "\n",
    "print(\"\\n大数据处理结果:\")\n",
    "result = process_large_data()\n",
    "print(f\"前10个偶数的平方: {result}\")"
   ]
  },
  {
   "cell_type": "markdown",
   "id": "7a7355f6",
   "metadata": {},
   "source": [
    "## 58. 迭代器"
   ]
  },
  {
   "cell_type": "code",
   "execution_count": 91,
   "id": "df5cd7e6",
   "metadata": {},
   "outputs": [
    {
     "name": "stdout",
     "output_type": "stream",
     "text": [
      "倒计时迭代器:\n",
      "倒计时: 5\n",
      "倒计时: 4\n",
      "倒计时: 3\n",
      "倒计时: 2\n",
      "倒计时: 1\n",
      "\n",
      "使用iter()函数:\n",
      "迭代值: 1\n",
      "迭代值: 2\n",
      "迭代值: 3\n",
      "迭代值: 4\n",
      "迭代值: 5\n",
      "迭代结束\n",
      "\n",
      "无限计数器（前10个值）:\n",
      "第1个值: 1\n",
      "第2个值: 3\n",
      "第3个值: 5\n",
      "第4个值: 7\n",
      "第5个值: 9\n",
      "第6个值: 11\n",
      "第7个值: 13\n",
      "第8个值: 15\n",
      "第9个值: 17\n",
      "第10个值: 19\n"
     ]
    }
   ],
   "source": [
    "# 自定义迭代器\n",
    "class CountDown:\n",
    "    \"\"\"倒计时迭代器\"\"\"\n",
    "    def __init__(self, start):\n",
    "        self.start = start\n",
    "    \n",
    "    def __iter__(self):\n",
    "        return self\n",
    "    \n",
    "    def __next__(self):\n",
    "        if self.start <= 0:\n",
    "            raise StopIteration\n",
    "        self.start -= 1\n",
    "        return self.start + 1\n",
    "\n",
    "# 使用自定义迭代器\n",
    "print(\"倒计时迭代器:\")\n",
    "countdown = CountDown(5)\n",
    "for num in countdown:\n",
    "    print(f\"倒计时: {num}\")\n",
    "\n",
    "# 使用iter()函数\n",
    "print(\"\\n使用iter()函数:\")\n",
    "data = [1, 2, 3, 4, 5]\n",
    "iterator = iter(data)\n",
    "\n",
    "try:\n",
    "    while True:\n",
    "        value = next(iterator)\n",
    "        print(f\"迭代值: {value}\")\n",
    "except StopIteration:\n",
    "    print(\"迭代结束\")\n",
    "\n",
    "# 无限迭代器\n",
    "class InfiniteCounter:\n",
    "    \"\"\"无限计数器\"\"\"\n",
    "    def __init__(self, start=0, step=1):\n",
    "        self.current = start\n",
    "        self.step = step\n",
    "    \n",
    "    def __iter__(self):\n",
    "        return self\n",
    "    \n",
    "    def __next__(self):\n",
    "        value = self.current\n",
    "        self.current += self.step\n",
    "        return value\n",
    "\n",
    "# 使用无限迭代器（注意要有退出条件）\n",
    "print(\"\\n无限计数器（前10个值）:\")\n",
    "counter = InfiniteCounter(1, 2)\n",
    "for i, value in enumerate(counter):\n",
    "    if i >= 10:\n",
    "        break\n",
    "    print(f\"第{i+1}个值: {value}\")"
   ]
  },
  {
   "cell_type": "markdown",
   "id": "118c8d25",
   "metadata": {},
   "source": [
    "## 59. 装饰器基础"
   ]
  },
  {
   "cell_type": "code",
   "execution_count": 92,
   "id": "604580d8",
   "metadata": {},
   "outputs": [
    {
     "name": "stdout",
     "output_type": "stream",
     "text": [
      "装饰器测试:\n",
      "调用函数: calculate_sum\n",
      "参数: args=(1000,), kwargs={}\n",
      "返回值: 500500\n",
      "calculate_sum 执行时间: 0.0000秒\n",
      "最终结果: 500500\n"
     ]
    }
   ],
   "source": [
    "# 装饰器基础\n",
    "def timer_decorator(func):\n",
    "    \"\"\"计时装饰器\"\"\"\n",
    "    import time\n",
    "    import functools\n",
    "    \n",
    "    @functools.wraps(func)\n",
    "    def wrapper(*args, **kwargs):\n",
    "        start_time = time.time()\n",
    "        result = func(*args, **kwargs)\n",
    "        end_time = time.time()\n",
    "        print(f\"{func.__name__} 执行时间: {end_time - start_time:.4f}秒\")\n",
    "        return result\n",
    "    return wrapper\n",
    "\n",
    "def log_decorator(func):\n",
    "    \"\"\"日志装饰器\"\"\"\n",
    "    import functools\n",
    "    \n",
    "    @functools.wraps(func)\n",
    "    def wrapper(*args, **kwargs):\n",
    "        print(f\"调用函数: {func.__name__}\")\n",
    "        print(f\"参数: args={args}, kwargs={kwargs}\")\n",
    "        result = func(*args, **kwargs)\n",
    "        print(f\"返回值: {result}\")\n",
    "        return result\n",
    "    return wrapper\n",
    "\n",
    "# 使用装饰器\n",
    "@timer_decorator\n",
    "@log_decorator\n",
    "def calculate_sum(n):\n",
    "    \"\"\"计算1到n的和\"\"\"\n",
    "    return sum(range(1, n + 1))\n",
    "\n",
    "# 测试装饰器\n",
    "print(\"装饰器测试:\")\n",
    "result = calculate_sum(1000)\n",
    "print(f\"最终结果: {result}\")"
   ]
  },
  {
   "cell_type": "markdown",
   "id": "1875b84c",
   "metadata": {},
   "source": [
    "## 60. 综合练习：学生管理系统"
   ]
  },
  {
   "cell_type": "code",
   "execution_count": 93,
   "id": "94fd7deb",
   "metadata": {},
   "outputs": [
    {
     "name": "stdout",
     "output_type": "stream",
     "text": [
      "✓ 学生 张三 (学号: 2023001) 添加成功\n",
      "✓ 学生 李四 (学号: 2023002) 添加成功\n",
      "✓ 学生 王五 (学号: 2023003) 添加成功\n",
      "✓ 成绩 85 添加成功\n",
      "✓ 成绩 92 添加成功\n",
      "✓ 成绩 78 添加成功\n",
      "✓ 成绩 88 添加成功\n",
      "\n",
      "学生列表:\n",
      "------------------------------------------------------------\n",
      "学号: 2023001\n",
      "姓名: 张三\n",
      "年龄: 20\n",
      "成绩: [85, 92]\n",
      "平均分: 88.50\n",
      "------------------------------------------------------------\n",
      "学号: 2023002\n",
      "姓名: 李四\n",
      "年龄: 21\n",
      "成绩: [78, 88]\n",
      "平均分: 83.00\n",
      "------------------------------------------------------------\n",
      "学号: 2023003\n",
      "姓名: 王五\n",
      "年龄: 19\n",
      "成绩: []\n",
      "平均分: 0.00\n",
      "------------------------------------------------------------\n",
      "\n",
      "找到 1 个匹配结果:\n",
      "学号: 2023001, 姓名: 张三\n"
     ]
    }
   ],
   "source": [
    "# 综合练习：简单的学生管理系统\n",
    "class StudentManager:\n",
    "    \"\"\"学生管理系统\"\"\"\n",
    "    \n",
    "    def __init__(self):\n",
    "        self.students = {}\n",
    "    \n",
    "    def add_student(self, student_id, name, age, scores=None):\n",
    "        \"\"\"添加学生\"\"\"\n",
    "        if student_id in self.students:\n",
    "            raise ValueError(f\"学号 {student_id} 已存在\")\n",
    "        \n",
    "        if not isinstance(age, int) or age < 0 or age > 150:\n",
    "            raise ValueError(\"年龄必须是0-150之间的整数\")\n",
    "        \n",
    "        self.students[student_id] = {\n",
    "            \"name\": name,\n",
    "            \"age\": age,\n",
    "            \"scores\": scores or []\n",
    "        }\n",
    "        print(f\"✓ 学生 {name} (学号: {student_id}) 添加成功\")\n",
    "    \n",
    "    def remove_student(self, student_id):\n",
    "        \"\"\"删除学生\"\"\"\n",
    "        if student_id not in self.students:\n",
    "            raise ValueError(f\"学号 {student_id} 不存在\")\n",
    "        \n",
    "        name = self.students[student_id][\"name\"]\n",
    "        del self.students[student_id]\n",
    "        print(f\"✓ 学生 {name} (学号: {student_id}) 删除成功\")\n",
    "    \n",
    "    def update_student(self, student_id, **kwargs):\n",
    "        \"\"\"更新学生信息\"\"\"\n",
    "        if student_id not in self.students:\n",
    "            raise ValueError(f\"学号 {student_id} 不存在\")\n",
    "        \n",
    "        student = self.students[student_id]\n",
    "        for key, value in kwargs.items():\n",
    "            if key in [\"name\", \"age\", \"scores\"]:\n",
    "                student[key] = value\n",
    "        \n",
    "        print(f\"✓ 学生 {student['name']} 信息更新成功\")\n",
    "    \n",
    "    def add_score(self, student_id, score):\n",
    "        \"\"\"添加成绩\"\"\"\n",
    "        if student_id not in self.students:\n",
    "            raise ValueError(f\"学号 {student_id} 不存在\")\n",
    "        \n",
    "        if not isinstance(score, (int, float)) or score < 0 or score > 100:\n",
    "            raise ValueError(\"成绩必须是0-100之间的数字\")\n",
    "        \n",
    "        self.students[student_id][\"scores\"].append(score)\n",
    "        print(f\"✓ 成绩 {score} 添加成功\")\n",
    "    \n",
    "    def get_student_average(self, student_id):\n",
    "        \"\"\"获取学生平均分\"\"\"\n",
    "        if student_id not in self.students:\n",
    "            raise ValueError(f\"学号 {student_id} 不存在\")\n",
    "        \n",
    "        scores = self.students[student_id][\"scores\"]\n",
    "        if not scores:\n",
    "            return 0\n",
    "        \n",
    "        return sum(scores) / len(scores)\n",
    "    \n",
    "    def list_students(self):\n",
    "        \"\"\"列出所有学生\"\"\"\n",
    "        if not self.students:\n",
    "            print(\"暂无学生信息\")\n",
    "            return\n",
    "        \n",
    "        print(\"\\n学生列表:\")\n",
    "        print(\"-\" * 60)\n",
    "        for student_id, info in self.students.items():\n",
    "            avg_score = self.get_student_average(student_id)\n",
    "            print(f\"学号: {student_id}\")\n",
    "            print(f\"姓名: {info['name']}\")\n",
    "            print(f\"年龄: {info['age']}\")\n",
    "            print(f\"成绩: {info['scores']}\")\n",
    "            print(f\"平均分: {avg_score:.2f}\")\n",
    "            print(\"-\" * 60)\n",
    "    \n",
    "    def search_student(self, keyword):\n",
    "        \"\"\"搜索学生\"\"\"\n",
    "        results = []\n",
    "        for student_id, info in self.students.items():\n",
    "            if (keyword.lower() in info[\"name\"].lower() or \n",
    "                keyword in student_id):\n",
    "                results.append((student_id, info))\n",
    "        \n",
    "        if results:\n",
    "            print(f\"\\n找到 {len(results)} 个匹配结果:\")\n",
    "            for student_id, info in results:\n",
    "                print(f\"学号: {student_id}, 姓名: {info['name']}\")\n",
    "        else:\n",
    "            print(\"未找到匹配的学生\")\n",
    "\n",
    "# 测试学生管理系统\n",
    "if __name__ == \"__main__\":\n",
    "    sm = StudentManager()\n",
    "    \n",
    "    try:\n",
    "        # 添加学生\n",
    "        sm.add_student(\"2023001\", \"张三\", 20)\n",
    "        sm.add_student(\"2023002\", \"李四\", 21)\n",
    "        sm.add_student(\"2023003\", \"王五\", 19)\n",
    "        \n",
    "        # 添加成绩\n",
    "        sm.add_score(\"2023001\", 85)\n",
    "        sm.add_score(\"2023001\", 92)\n",
    "        sm.add_score(\"2023002\", 78)\n",
    "        sm.add_score(\"2023002\", 88)\n",
    "        \n",
    "        # 列出所有学生\n",
    "        sm.list_students()\n",
    "        \n",
    "        # 搜索学生\n",
    "        sm.search_student(\"张\")\n",
    "        \n",
    "    except ValueError as e:\n",
    "        print(f\"错误: {e}\")"
   ]
  },
  {
   "cell_type": "markdown",
   "id": "e21726d3",
   "metadata": {},
   "source": [
    "# 函数练习"
   ]
  },
  {
   "cell_type": "markdown",
   "id": "d3412d7e",
   "metadata": {},
   "source": [
    "## 61. 函数基础定义"
   ]
  },
  {
   "cell_type": "code",
   "execution_count": 94,
   "id": "b36eaadf",
   "metadata": {},
   "outputs": [
    {
     "name": "stdout",
     "output_type": "stream",
     "text": [
      "你好, 张三!\n",
      "5 + 3 = 8\n"
     ]
    }
   ],
   "source": [
    "# 函数基础定义和调用\n",
    "def greet(name):\n",
    "    \"\"\"问候函数\"\"\"\n",
    "    return f\"你好, {name}!\"\n",
    "\n",
    "def add_numbers(a, b):\n",
    "    \"\"\"加法函数\"\"\"\n",
    "    return a + b\n",
    "\n",
    "def get_user_info():\n",
    "    \"\"\"获取用户信息（无参数函数）\"\"\"\n",
    "    name = input(\"请输入姓名: \")\n",
    "    age = int(input(\"请输入年龄: \"))\n",
    "    return name, age\n",
    "\n",
    "# 调用函数\n",
    "print(greet(\"张三\"))\n",
    "print(f\"5 + 3 = {add_numbers(5, 3)}\")\n",
    "\n",
    "# name, age = get_user_info()  # 取消注释来运行\n",
    "# print(f\"用户信息: {name}, {age}岁\")"
   ]
  },
  {
   "cell_type": "markdown",
   "id": "68ca2c62",
   "metadata": {},
   "source": [
    "## 62. 参数类型"
   ]
  },
  {
   "cell_type": "code",
   "execution_count": 95,
   "id": "ad1f034b",
   "metadata": {},
   "outputs": [
    {
     "name": "stdout",
     "output_type": "stream",
     "text": [
      "必需参数: 必需值\n",
      "默认参数: 默认值\n",
      "可变位置参数: ()\n",
      "可变关键字参数: {}\n",
      "------------------------------\n",
      "必需参数: 必需值\n",
      "默认参数: 自定义默认值\n",
      "可变位置参数: ()\n",
      "可变关键字参数: {}\n",
      "------------------------------\n",
      "必需参数: 必需值\n",
      "默认参数: 自定义默认值\n",
      "可变位置参数: (1, 2, 3)\n",
      "可变关键字参数: {}\n",
      "------------------------------\n",
      "必需参数: 必需值\n",
      "默认参数: 默认值\n",
      "可变位置参数: ()\n",
      "可变关键字参数: {'extra1': '额外1', 'extra2': '额外2'}\n",
      "------------------------------\n",
      "必需参数: 必需值\n",
      "默认参数: 自定义\n",
      "可变位置参数: (1, 2)\n",
      "可变关键字参数: {'name': '张三', 'age': 25}\n",
      "------------------------------\n"
     ]
    }
   ],
   "source": [
    "# 不同类型的参数\n",
    "def function_parameters(required, default_param=\"默认值\", *args, **kwargs):\n",
    "    \"\"\"演示不同类型的参数\"\"\"\n",
    "    print(f\"必需参数: {required}\")\n",
    "    print(f\"默认参数: {default_param}\")\n",
    "    print(f\"可变位置参数: {args}\")\n",
    "    print(f\"可变关键字参数: {kwargs}\")\n",
    "    print(\"-\" * 30)\n",
    "\n",
    "# 测试不同的调用方式\n",
    "function_parameters(\"必需值\")\n",
    "function_parameters(\"必需值\", \"自定义默认值\")\n",
    "function_parameters(\"必需值\", \"自定义默认值\", 1, 2, 3)\n",
    "function_parameters(\"必需值\", extra1=\"额外1\", extra2=\"额外2\")\n",
    "function_parameters(\"必需值\", \"自定义\", 1, 2, name=\"张三\", age=25)"
   ]
  },
  {
   "cell_type": "markdown",
   "id": "3e979393",
   "metadata": {},
   "source": [
    "## 63. 关键字参数"
   ]
  },
  {
   "cell_type": "code",
   "execution_count": 96,
   "id": "eae2a3b4",
   "metadata": {},
   "outputs": [
    {
     "name": "stdout",
     "output_type": "stream",
     "text": [
      "档案1: {'姓名': '张三', '年龄': 25, '城市': '未知', '邮箱': 'zhang@example.com'}\n",
      "档案2: {'姓名': '李四', '年龄': 30, '城市': '北京', '邮箱': 'li@example.com', '电话': '123456789'}\n"
     ]
    }
   ],
   "source": [
    "# 关键字参数和位置参数\n",
    "def create_profile(name, age, city=\"未知\", *, email, phone=None):\n",
    "    \"\"\"创建用户档案\n",
    "    \n",
    "    Args:\n",
    "        name: 姓名（位置参数）\n",
    "        age: 年龄（位置参数）\n",
    "        city: 城市（默认参数）\n",
    "        email: 邮箱（仅关键字参数）\n",
    "        phone: 电话（仅关键字参数，可选）\n",
    "    \"\"\"\n",
    "    profile = {\n",
    "        \"姓名\": name,\n",
    "        \"年龄\": age,\n",
    "        \"城市\": city,\n",
    "        \"邮箱\": email\n",
    "    }\n",
    "    \n",
    "    if phone:\n",
    "        profile[\"电话\"] = phone\n",
    "    \n",
    "    return profile\n",
    "\n",
    "# 正确的调用方式\n",
    "profile1 = create_profile(\"张三\", 25, email=\"zhang@example.com\")\n",
    "profile2 = create_profile(\"李四\", 30, \"北京\", email=\"li@example.com\", phone=\"123456789\")\n",
    "\n",
    "print(\"档案1:\", profile1)\n",
    "print(\"档案2:\", profile2)\n",
    "\n",
    "# 错误的调用方式（会报错）\n",
    "# profile3 = create_profile(\"王五\", 28, \"上海\", \"wang@example.com\")  # email必须用关键字"
   ]
  },
  {
   "cell_type": "markdown",
   "id": "b3663ce9",
   "metadata": {},
   "source": [
    "## 64. 函数作为参数"
   ]
  },
  {
   "cell_type": "code",
   "execution_count": 97,
   "id": "9b55bda5",
   "metadata": {},
   "outputs": [
    {
     "name": "stdout",
     "output_type": "stream",
     "text": [
      "原数字: [1, 2, 3, 4, 5]\n",
      "平方: [1, 4, 9, 16, 25]\n",
      "立方: [1, 8, 27, 64, 125]\n",
      "双倍: [2, 4, 6, 8, 10]\n",
      "加10: [11, 12, 13, 14, 15]\n"
     ]
    }
   ],
   "source": [
    "# 函数作为参数（高阶函数）\n",
    "def apply_operation(numbers, operation):\n",
    "    \"\"\"对数字列表应用操作\"\"\"\n",
    "    return [operation(num) for num in numbers]\n",
    "\n",
    "def square(x):\n",
    "    \"\"\"平方函数\"\"\"\n",
    "    return x ** 2\n",
    "\n",
    "def cube(x):\n",
    "    \"\"\"立方函数\"\"\"\n",
    "    return x ** 3\n",
    "\n",
    "def double(x):\n",
    "    \"\"\"双倍函数\"\"\"\n",
    "    return x * 2\n",
    "\n",
    "# 使用函数作为参数\n",
    "numbers = [1, 2, 3, 4, 5]\n",
    "\n",
    "print(f\"原数字: {numbers}\")\n",
    "print(f\"平方: {apply_operation(numbers, square)}\")\n",
    "print(f\"立方: {apply_operation(numbers, cube)}\")\n",
    "print(f\"双倍: {apply_operation(numbers, double)}\")\n",
    "\n",
    "# 使用lambda函数\n",
    "print(f\"加10: {apply_operation(numbers, lambda x: x + 10)}\")"
   ]
  },
  {
   "cell_type": "markdown",
   "id": "67372f62",
   "metadata": {},
   "source": [
    "## 65. 返回函数"
   ]
  },
  {
   "cell_type": "code",
   "execution_count": 98,
   "id": "f732f7a1",
   "metadata": {},
   "outputs": [
    {
     "name": "stdout",
     "output_type": "stream",
     "text": [
      "5 * 2 = 10\n",
      "5 * 3 = 15\n",
      "计数器1: 1, 2, 3\n",
      "计数器2: 11, 12, 13\n"
     ]
    }
   ],
   "source": [
    "# 返回函数（闭包）\n",
    "def create_multiplier(factor):\n",
    "    \"\"\"创建乘法器函数\"\"\"\n",
    "    def multiplier(x):\n",
    "        return x * factor\n",
    "    return multiplier\n",
    "\n",
    "def create_counter(start=0):\n",
    "    \"\"\"创建计数器函数\"\"\"\n",
    "    count = start\n",
    "    \n",
    "    def counter():\n",
    "        nonlocal count\n",
    "        count += 1\n",
    "        return count\n",
    "    \n",
    "    return counter\n",
    "\n",
    "# 使用返回的函数\n",
    "double_func = create_multiplier(2)\n",
    "triple_func = create_multiplier(3)\n",
    "\n",
    "print(f\"5 * 2 = {double_func(5)}\")\n",
    "print(f\"5 * 3 = {triple_func(5)}\")\n",
    "\n",
    "# 使用计数器\n",
    "counter1 = create_counter()\n",
    "counter2 = create_counter(10)\n",
    "\n",
    "print(f\"计数器1: {counter1()}, {counter1()}, {counter1()}\")\n",
    "print(f\"计数器2: {counter2()}, {counter2()}, {counter2()}\")"
   ]
  },
  {
   "cell_type": "markdown",
   "id": "62ee1f05",
   "metadata": {},
   "source": [
    "## 66. 递归函数"
   ]
  },
  {
   "cell_type": "code",
   "execution_count": 99,
   "id": "0bdb1997",
   "metadata": {},
   "outputs": [
    {
     "name": "stdout",
     "output_type": "stream",
     "text": [
      "5的阶乘: 120\n",
      "斐波那契数列前10项:\n",
      "F(0) = 0\n",
      "F(1) = 1\n",
      "F(2) = 1\n",
      "F(3) = 2\n",
      "F(4) = 3\n",
      "F(5) = 5\n",
      "F(6) = 8\n",
      "F(7) = 13\n",
      "F(8) = 21\n",
      "F(9) = 34\n"
     ]
    }
   ],
   "source": [
    "# 递归函数\n",
    "def factorial(n):\n",
    "    \"\"\"计算阶乘\"\"\"\n",
    "    if n <= 1:\n",
    "        return 1\n",
    "    return n * factorial(n - 1)\n",
    "\n",
    "def fibonacci(n):\n",
    "    \"\"\"计算斐波那契数列第n项\"\"\"\n",
    "    if n <= 1:\n",
    "        return n\n",
    "    return fibonacci(n - 1) + fibonacci(n - 2)\n",
    "\n",
    "def fibonacci_memo(n, memo={}):\n",
    "    \"\"\"带记忆化的斐波那契数列\"\"\"\n",
    "    if n in memo:\n",
    "        return memo[n]\n",
    "    if n <= 1:\n",
    "        return n\n",
    "    memo[n] = fibonacci_memo(n - 1, memo) + fibonacci_memo(n - 2, memo)\n",
    "    return memo[n]\n",
    "\n",
    "# 测试递归函数\n",
    "print(f\"5的阶乘: {factorial(5)}\")\n",
    "print(f\"斐波那契数列前10项:\")\n",
    "for i in range(10):\n",
    "    print(f\"F({i}) = {fibonacci_memo(i)}\")"
   ]
  },
  {
   "cell_type": "markdown",
   "id": "0c0f56aa",
   "metadata": {},
   "source": [
    "## 67. 装饰器函数"
   ]
  },
  {
   "cell_type": "code",
   "execution_count": 100,
   "id": "8f759a2d",
   "metadata": {},
   "outputs": [
    {
     "name": "stdout",
     "output_type": "stream",
     "text": [
      "第1次尝试失败: 随机失败\n",
      "第2次尝试失败: 随机失败\n",
      "最终失败: 随机失败\n",
      "创建了 张三, 年龄 25\n"
     ]
    }
   ],
   "source": [
    "# 装饰器函数\n",
    "def retry(max_attempts=3):\n",
    "    \"\"\"重试装饰器\"\"\"\n",
    "    def decorator(func):\n",
    "        def wrapper(*args, **kwargs):\n",
    "            for attempt in range(max_attempts):\n",
    "                try:\n",
    "                    return func(*args, **kwargs)\n",
    "                except Exception as e:\n",
    "                    if attempt == max_attempts - 1:\n",
    "                        raise e\n",
    "                    print(f\"第{attempt + 1}次尝试失败: {e}\")\n",
    "            return None\n",
    "        return wrapper\n",
    "    return decorator\n",
    "\n",
    "def validate_types(**types):\n",
    "    \"\"\"类型验证装饰器\"\"\"\n",
    "    def decorator(func):\n",
    "        def wrapper(*args, **kwargs):\n",
    "            # 验证位置参数\n",
    "            import inspect\n",
    "            sig = inspect.signature(func)\n",
    "            bound_args = sig.bind(*args, **kwargs)\n",
    "            bound_args.apply_defaults()\n",
    "            \n",
    "            for param_name, expected_type in types.items():\n",
    "                if param_name in bound_args.arguments:\n",
    "                    value = bound_args.arguments[param_name]\n",
    "                    if not isinstance(value, expected_type):\n",
    "                        raise TypeError(f\"参数 {param_name} 应该是 {expected_type.__name__} 类型\")\n",
    "            \n",
    "            return func(*args, **kwargs)\n",
    "        return wrapper\n",
    "    return decorator\n",
    "\n",
    "# 使用装饰器\n",
    "@retry(max_attempts=3)\n",
    "def unreliable_function():\n",
    "    import random\n",
    "    if random.random() < 0.7:\n",
    "        raise Exception(\"随机失败\")\n",
    "    return \"成功!\"\n",
    "\n",
    "@validate_types(name=str, age=int)\n",
    "def create_person(name, age):\n",
    "    return f\"创建了 {name}, 年龄 {age}\"\n",
    "\n",
    "# 测试装饰器\n",
    "try:\n",
    "    result = unreliable_function()\n",
    "    print(f\"结果: {result}\")\n",
    "except Exception as e:\n",
    "    print(f\"最终失败: {e}\")\n",
    "\n",
    "try:\n",
    "    person = create_person(\"张三\", 25)\n",
    "    print(person)\n",
    "    # person = create_person(\"李四\", \"25\")  # 会报错\n",
    "except TypeError as e:\n",
    "    print(f\"类型错误: {e}\")"
   ]
  },
  {
   "cell_type": "markdown",
   "id": "86292d27",
   "metadata": {},
   "source": [
    "## 68. 生成器函数"
   ]
  },
  {
   "cell_type": "code",
   "execution_count": 101,
   "id": "e7a6850d",
   "metadata": {},
   "outputs": [
    {
     "name": "stdout",
     "output_type": "stream",
     "text": [
      "前20个质数:\n",
      "[2, 3, 5, 7, 11, 13, 17, 19, 23, 29, 31, 37, 41, 43, 47, 53, 59, 61, 67, 71]\n",
      "\n",
      "批量处理数据:\n",
      "批次: [1, 2, 3, 4, 5]\n",
      "批次: [6, 7, 8, 9, 10]\n",
      "批次: [11, 12, 13, 14, 15]\n",
      "批次: [16, 17, 18, 19, 20]\n"
     ]
    }
   ],
   "source": [
    "# 生成器函数\n",
    "def read_file_lines(filename):\n",
    "    \"\"\"逐行读取文件的生成器\"\"\"\n",
    "    try:\n",
    "        with open(filename, 'r', encoding='utf-8') as file:\n",
    "            for line_num, line in enumerate(file, 1):\n",
    "                yield line_num, line.strip()\n",
    "    except FileNotFoundError:\n",
    "        print(f\"文件 {filename} 不存在\")\n",
    "\n",
    "def prime_generator(limit):\n",
    "    \"\"\"生成质数的生成器\"\"\"\n",
    "    def is_prime(n):\n",
    "        if n < 2:\n",
    "            return False\n",
    "        for i in range(2, int(n ** 0.5) + 1):\n",
    "            if n % i == 0:\n",
    "                return False\n",
    "        return True\n",
    "    \n",
    "    for num in range(2, limit + 1):\n",
    "        if is_prime(num):\n",
    "            yield num\n",
    "\n",
    "def batch_generator(data, batch_size):\n",
    "    \"\"\"批量处理数据的生成器\"\"\"\n",
    "    for i in range(0, len(data), batch_size):\n",
    "        yield data[i:i + batch_size]\n",
    "\n",
    "# 使用生成器\n",
    "print(\"前20个质数:\")\n",
    "primes = list(prime_generator(100))\n",
    "print(primes[:20])\n",
    "\n",
    "print(\"\\n批量处理数据:\")\n",
    "data = list(range(1, 21))\n",
    "for batch in batch_generator(data, 5):\n",
    "    print(f\"批次: {batch}\")"
   ]
  },
  {
   "cell_type": "markdown",
   "id": "0620b49a",
   "metadata": {},
   "source": [
    "## 69. 函数注解"
   ]
  },
  {
   "cell_type": "code",
   "execution_count": 102,
   "id": "8a246d67",
   "metadata": {},
   "outputs": [
    {
     "name": "stdout",
     "output_type": "stream",
     "text": [
      "面积: 86.1\n",
      "处理后的数据: [3, 6, 9, 12, 15]\n",
      "高级函数结果: {'name': '张三', 'age': 25, 'average_score': 85.33333333333333, 'city': '北京', 'grade': 3}\n"
     ]
    }
   ],
   "source": [
    "# 函数注解\n",
    "def calculate_area(length: float, width: float) -> float:\n",
    "    \"\"\"计算矩形面积\n",
    "    \n",
    "    Args:\n",
    "        length: 长度\n",
    "        width: 宽度\n",
    "    \n",
    "    Returns:\n",
    "        面积\n",
    "    \"\"\"\n",
    "    return length * width\n",
    "\n",
    "def process_data(data: list[int], multiplier: int = 2) -> list[int]:\n",
    "    \"\"\"处理数据\"\"\"\n",
    "    return [x * multiplier for x in data]\n",
    "\n",
    "from typing import Union, Optional, Dict, List\n",
    "\n",
    "def advanced_function(\n",
    "    name: str,\n",
    "    age: int,\n",
    "    scores: Optional[List[float]] = None,\n",
    "    metadata: Dict[str, Union[str, int]] = None\n",
    ") -> Dict[str, Union[str, int, float]]:\n",
    "    \"\"\"高级函数注解示例\"\"\"\n",
    "    result = {\n",
    "        \"name\": name,\n",
    "        \"age\": age\n",
    "    }\n",
    "    \n",
    "    if scores:\n",
    "        result[\"average_score\"] = sum(scores) / len(scores)\n",
    "    \n",
    "    if metadata:\n",
    "        result.update(metadata)\n",
    "    \n",
    "    return result\n",
    "\n",
    "# 使用带注解的函数\n",
    "area = calculate_area(10.5, 8.2)\n",
    "print(f\"面积: {area}\")\n",
    "\n",
    "processed = process_data([1, 2, 3, 4, 5], 3)\n",
    "print(f\"处理后的数据: {processed}\")\n",
    "\n",
    "result = advanced_function(\n",
    "    \"张三\", \n",
    "    25, \n",
    "    [85.5, 92.0, 78.5], \n",
    "    {\"city\": \"北京\", \"grade\": 3}\n",
    ")\n",
    "print(f\"高级函数结果: {result}\")"
   ]
  },
  {
   "cell_type": "markdown",
   "id": "4ab0b115",
   "metadata": {},
   "source": [
    "## 70. 偏函数"
   ]
  },
  {
   "cell_type": "code",
   "execution_count": 103,
   "id": "89381da1",
   "metadata": {},
   "outputs": [
    {
     "name": "stdout",
     "output_type": "stream",
     "text": [
      "5的平方: 25\n",
      "3的立方: 27\n",
      "[2025-07-14 17:55:18] INFO: 程序启动\n",
      "[2025-07-14 17:55:18] WARNING: 内存使用率较高\n",
      "[2025-07-14 17:55:18] ERROR: 数据库连接失败\n"
     ]
    }
   ],
   "source": [
    "# 偏函数\n",
    "from functools import partial\n",
    "\n",
    "def power(base, exponent):\n",
    "    \"\"\"计算幂\"\"\"\n",
    "    return base ** exponent\n",
    "\n",
    "def log_message(level, message, timestamp=None):\n",
    "    \"\"\"记录日志\"\"\"\n",
    "    import datetime\n",
    "    if timestamp is None:\n",
    "        timestamp = datetime.datetime.now().strftime(\"%Y-%m-%d %H:%M:%S\")\n",
    "    print(f\"[{timestamp}] {level}: {message}\")\n",
    "\n",
    "# 创建偏函数\n",
    "square = partial(power, exponent=2)\n",
    "cube = partial(power, exponent=3)\n",
    "\n",
    "info_log = partial(log_message, \"INFO\")\n",
    "error_log = partial(log_message, \"ERROR\")\n",
    "warning_log = partial(log_message, \"WARNING\")\n",
    "\n",
    "# 使用偏函数\n",
    "print(f\"5的平方: {square(5)}\")\n",
    "print(f\"3的立方: {cube(3)}\")\n",
    "\n",
    "info_log(\"程序启动\")\n",
    "warning_log(\"内存使用率较高\")\n",
    "error_log(\"数据库连接失败\")"
   ]
  },
  {
   "cell_type": "markdown",
   "id": "a90decbf",
   "metadata": {},
   "source": [
    "## 71. 函数缓存"
   ]
  },
  {
   "cell_type": "code",
   "execution_count": 104,
   "id": "260248f0",
   "metadata": {},
   "outputs": [
    {
     "name": "stdout",
     "output_type": "stream",
     "text": [
      "测试LRU缓存:\n",
      "计算 expensive_function(5)\n",
      "第一次调用耗时: 0.101秒\n",
      "第二次调用耗时: 0.000秒\n",
      "\n",
      "测试手动缓存:\n",
      "缓存未命中，计算结果\n",
      "缓存未命中，计算结果\n",
      "缓存未命中，计算结果\n",
      "缓存命中，直接返回\n",
      "缓存未命中，计算结果\n",
      "缓存命中，直接返回\n",
      "缓存未命中，计算结果\n",
      "缓存命中，直接返回\n",
      "缓存未命中，计算结果\n",
      "缓存命中，直接返回\n",
      "缓存未命中，计算结果\n",
      "缓存命中，直接返回\n",
      "缓存未命中，计算结果\n",
      "缓存命中，直接返回\n",
      "缓存未命中，计算结果\n",
      "缓存命中，直接返回\n",
      "缓存未命中，计算结果\n",
      "缓存命中，直接返回\n",
      "缓存未命中，计算结果\n",
      "fibonacci(10) = 55\n"
     ]
    }
   ],
   "source": [
    "# 函数缓存\n",
    "from functools import lru_cache\n",
    "import time\n",
    "\n",
    "@lru_cache(maxsize=128)\n",
    "def expensive_function(n):\n",
    "    \"\"\"模拟耗时计算\"\"\"\n",
    "    print(f\"计算 expensive_function({n})\")\n",
    "    time.sleep(0.1)  # 模拟耗时操作\n",
    "    return n * n * n\n",
    "\n",
    "def manual_cache(func):\n",
    "    \"\"\"手动实现缓存装饰器\"\"\"\n",
    "    cache = {}\n",
    "    \n",
    "    def wrapper(*args, **kwargs):\n",
    "        key = str(args) + str(sorted(kwargs.items()))\n",
    "        if key not in cache:\n",
    "            cache[key] = func(*args, **kwargs)\n",
    "            print(f\"缓存未命中，计算结果\")\n",
    "        else:\n",
    "            print(f\"缓存命中，直接返回\")\n",
    "        return cache[key]\n",
    "    \n",
    "    wrapper.cache = cache\n",
    "    return wrapper\n",
    "\n",
    "@manual_cache\n",
    "def fibonacci_cached(n):\n",
    "    \"\"\"带缓存的斐波那契数列\"\"\"\n",
    "    if n <= 1:\n",
    "        return n\n",
    "    return fibonacci_cached(n - 1) + fibonacci_cached(n - 2)\n",
    "\n",
    "# 测试缓存\n",
    "print(\"测试LRU缓存:\")\n",
    "start_time = time.time()\n",
    "result1 = expensive_function(5)\n",
    "print(f\"第一次调用耗时: {time.time() - start_time:.3f}秒\")\n",
    "\n",
    "start_time = time.time()\n",
    "result2 = expensive_function(5)  # 从缓存获取\n",
    "print(f\"第二次调用耗时: {time.time() - start_time:.3f}秒\")\n",
    "\n",
    "print(\"\\n测试手动缓存:\")\n",
    "result = fibonacci_cached(10)\n",
    "print(f\"fibonacci(10) = {result}\")"
   ]
  },
  {
   "cell_type": "markdown",
   "id": "71f408ef",
   "metadata": {},
   "source": [
    "## 72. 函数组合"
   ]
  },
  {
   "cell_type": "code",
   "execution_count": 105,
   "id": "c1596da4",
   "metadata": {},
   "outputs": [
    {
     "name": "stdout",
     "output_type": "stream",
     "text": [
      "原值: 5\n",
      "组合函数结果: 900\n",
      "管道函数结果: 900\n",
      "链式调用结果: 900\n"
     ]
    }
   ],
   "source": [
    "# 函数组合\n",
    "def compose(*functions):\n",
    "    \"\"\"组合多个函数\"\"\"\n",
    "    def composed_function(x):\n",
    "        result = x\n",
    "        for func in reversed(functions):\n",
    "            result = func(result)\n",
    "        return result\n",
    "    return composed_function\n",
    "\n",
    "def pipe(*functions):\n",
    "    \"\"\"管道式函数组合\"\"\"\n",
    "    def piped_function(x):\n",
    "        result = x\n",
    "        for func in functions:\n",
    "            result = func(result)\n",
    "        return result\n",
    "    return piped_function\n",
    "\n",
    "# 基础函数\n",
    "def add_ten(x):\n",
    "    return x + 10\n",
    "\n",
    "def multiply_by_two(x):\n",
    "    return x * 2\n",
    "\n",
    "def square(x):\n",
    "    return x ** 2\n",
    "\n",
    "# 组合函数\n",
    "composed = compose(square, multiply_by_two, add_ten)\n",
    "piped = pipe(add_ten, multiply_by_two, square)\n",
    "\n",
    "# 测试函数组合\n",
    "test_value = 5\n",
    "print(f\"原值: {test_value}\")\n",
    "print(f\"组合函数结果: {composed(test_value)}\")  # ((5+10)*2)^2 = 900\n",
    "print(f\"管道函数结果: {piped(test_value)}\")      # ((5+10)*2)^2 = 900\n",
    "\n",
    "# 链式调用示例\n",
    "class Calculator:\n",
    "    def __init__(self, value=0):\n",
    "        self.value = value\n",
    "    \n",
    "    def add(self, x):\n",
    "        self.value += x\n",
    "        return self\n",
    "    \n",
    "    def multiply(self, x):\n",
    "        self.value *= x\n",
    "        return self\n",
    "    \n",
    "    def power(self, x):\n",
    "        self.value **= x\n",
    "        return self\n",
    "    \n",
    "    def result(self):\n",
    "        return self.value\n",
    "\n",
    "# 链式调用\n",
    "result = Calculator(5).add(10).multiply(2).power(2).result()\n",
    "print(f\"链式调用结果: {result}\")"
   ]
  },
  {
   "cell_type": "markdown",
   "id": "fbe29646",
   "metadata": {},
   "source": [
    "## 73. 异步函数基础"
   ]
  },
  {
   "cell_type": "code",
   "execution_count": 106,
   "id": "770e551f",
   "metadata": {},
   "outputs": [
    {
     "name": "stdout",
     "output_type": "stream",
     "text": [
      "总耗时: 0.00秒\n"
     ]
    }
   ],
   "source": [
    "# 异步函数基础（需要Python 3.7+）\n",
    "import asyncio\n",
    "import time\n",
    "\n",
    "async def async_task(name, duration):\n",
    "    \"\"\"异步任务\"\"\"\n",
    "    print(f\"任务 {name} 开始\")\n",
    "    await asyncio.sleep(duration)  # 模拟异步操作\n",
    "    print(f\"任务 {name} 完成\")\n",
    "    return f\"任务 {name} 的结果\"\n",
    "\n",
    "async def fetch_data(url):\n",
    "    \"\"\"模拟异步获取数据\"\"\"\n",
    "    print(f\"开始获取 {url}\")\n",
    "    await asyncio.sleep(1)  # 模拟网络请求\n",
    "    return f\"来自 {url} 的数据\"\n",
    "\n",
    "async def main():\n",
    "    \"\"\"主异步函数\"\"\"\n",
    "    print(\"开始异步操作\")\n",
    "    \n",
    "    # 并发执行多个任务\n",
    "    tasks = [\n",
    "        async_task(\"任务1\", 2),\n",
    "        async_task(\"任务2\", 1),\n",
    "        async_task(\"任务3\", 3)\n",
    "    ]\n",
    "    \n",
    "    results = await asyncio.gather(*tasks)\n",
    "    print(f\"所有任务完成: {results}\")\n",
    "    \n",
    "    # 并发获取数据\n",
    "    urls = [\"http://api1.com\", \"http://api2.com\", \"http://api3.com\"]\n",
    "    data_tasks = [fetch_data(url) for url in urls]\n",
    "    data_results = await asyncio.gather(*data_tasks)\n",
    "    print(f\"获取的数据: {data_results}\")\n",
    "\n",
    "# 运行异步函数\n",
    "if __name__ == \"__main__\":\n",
    "    start_time = time.time()\n",
    "    # asyncio.run(main())  # 取消注释来运行\n",
    "    print(f\"总耗时: {time.time() - start_time:.2f}秒\")"
   ]
  },
  {
   "cell_type": "markdown",
   "id": "dd2ae348",
   "metadata": {},
   "source": [
    "## 74. 函数性能分析"
   ]
  },
  {
   "cell_type": "code",
   "execution_count": 107,
   "id": "17002552",
   "metadata": {},
   "outputs": [
    {
     "name": "stdout",
     "output_type": "stream",
     "text": [
      "性能测试 (n=100000):\n",
      "list_comprehension_test 内存使用: 当前 3.82MB, 峰值 3.82MB\n",
      "list_comprehension_test 执行时间: 0.077421秒\n",
      "generator_test 内存使用: 当前 3.82MB, 峰值 3.82MB\n",
      "generator_test 执行时间: 0.071261秒\n",
      "loop_test 执行时间: 0.004161秒\n",
      "结果长度: 100000, 100000, 100000\n"
     ]
    }
   ],
   "source": [
    "# 函数性能分析\n",
    "import time\n",
    "import functools\n",
    "from memory_profiler import profile  # 需要安装: pip install memory-profiler\n",
    "\n",
    "def timing_decorator(func):\n",
    "    \"\"\"计时装饰器\"\"\"\n",
    "    @functools.wraps(func)\n",
    "    def wrapper(*args, **kwargs):\n",
    "        start_time = time.perf_counter()\n",
    "        result = func(*args, **kwargs)\n",
    "        end_time = time.perf_counter()\n",
    "        print(f\"{func.__name__} 执行时间: {end_time - start_time:.6f}秒\")\n",
    "        return result\n",
    "    return wrapper\n",
    "\n",
    "def memory_usage_decorator(func):\n",
    "    \"\"\"内存使用装饰器\"\"\"\n",
    "    @functools.wraps(func)\n",
    "    def wrapper(*args, **kwargs):\n",
    "        import tracemalloc\n",
    "        tracemalloc.start()\n",
    "        result = func(*args, **kwargs)\n",
    "        current, peak = tracemalloc.get_traced_memory()\n",
    "        tracemalloc.stop()\n",
    "        print(f\"{func.__name__} 内存使用: 当前 {current / 1024 / 1024:.2f}MB, 峰值 {peak / 1024 / 1024:.2f}MB\")\n",
    "        return result\n",
    "    return wrapper\n",
    "\n",
    "@timing_decorator\n",
    "@memory_usage_decorator\n",
    "def list_comprehension_test(n):\n",
    "    \"\"\"列表推导式性能测试\"\"\"\n",
    "    return [x**2 for x in range(n)]\n",
    "\n",
    "@timing_decorator\n",
    "@memory_usage_decorator\n",
    "def generator_test(n):\n",
    "    \"\"\"生成器性能测试\"\"\"\n",
    "    return list(x**2 for x in range(n))\n",
    "\n",
    "@timing_decorator\n",
    "def loop_test(n):\n",
    "    \"\"\"循环性能测试\"\"\"\n",
    "    result = []\n",
    "    for x in range(n):\n",
    "        result.append(x**2)\n",
    "    return result\n",
    "\n",
    "# 性能测试\n",
    "print(\"性能测试 (n=100000):\")\n",
    "n = 100000\n",
    "\n",
    "result1 = list_comprehension_test(n)\n",
    "result2 = generator_test(n)\n",
    "result3 = loop_test(n)\n",
    "\n",
    "print(f\"结果长度: {len(result1)}, {len(result2)}, {len(result3)}\")"
   ]
  },
  {
   "cell_type": "markdown",
   "id": "3ae4c215",
   "metadata": {},
   "source": [
    "## 75. 函数文档和测试"
   ]
  },
  {
   "cell_type": "code",
   "execution_count": 108,
   "id": "d54905e4",
   "metadata": {},
   "outputs": [
    {
     "name": "stderr",
     "output_type": "stream",
     "text": [
      "...\n",
      "----------------------------------------------------------------------\n",
      "Ran 3 tests in 0.001s\n",
      "\n",
      "OK\n"
     ]
    },
    {
     "name": "stdout",
     "output_type": "stream",
     "text": [
      "\n",
      "体重: 70kg, 身高: 1.75m\n",
      "BMI: 22.86, 分类: 正常体重\n"
     ]
    }
   ],
   "source": [
    "# 函数文档和测试\n",
    "def calculate_bmi(weight, height):\n",
    "    \"\"\"\n",
    "    计算身体质量指数(BMI)\n",
    "    \n",
    "    Args:\n",
    "        weight (float): 体重，单位为千克\n",
    "        height (float): 身高，单位为米\n",
    "    \n",
    "    Returns:\n",
    "        float: BMI值\n",
    "    \n",
    "    Raises:\n",
    "        ValueError: 当体重或身高为负数或零时\n",
    "    \n",
    "    Examples:\n",
    "        >>> calculate_bmi(70, 1.75)\n",
    "        22.857142857142858\n",
    "        >>> calculate_bmi(80, 1.8)\n",
    "        24.691358024691358\n",
    "    \"\"\"\n",
    "    if weight <= 0 or height <= 0:\n",
    "        raise ValueError(\"体重和身高必须为正数\")\n",
    "    \n",
    "    bmi = weight / (height ** 2)\n",
    "    return bmi\n",
    "\n",
    "def get_bmi_category(bmi):\n",
    "    \"\"\"\n",
    "    根据BMI值获取体重分类\n",
    "    \n",
    "    Args:\n",
    "        bmi (float): BMI值\n",
    "    \n",
    "    Returns:\n",
    "        str: 体重分类\n",
    "    \n",
    "    Examples:\n",
    "        >>> get_bmi_category(18.5)\n",
    "        '正常体重'\n",
    "        >>> get_bmi_category(25)\n",
    "        '超重'\n",
    "    \"\"\"\n",
    "    if bmi < 18.5:\n",
    "        return \"体重过轻\"\n",
    "    elif bmi < 24:\n",
    "        return \"正常体重\"\n",
    "    elif bmi < 28:\n",
    "        return \"超重\"\n",
    "    else:\n",
    "        return \"肥胖\"\n",
    "\n",
    "# 单元测试\n",
    "import unittest\n",
    "\n",
    "class TestBMIFunctions(unittest.TestCase):\n",
    "    def test_calculate_bmi(self):\n",
    "        \"\"\"测试BMI计算\"\"\"\n",
    "        self.assertAlmostEqual(calculate_bmi(70, 1.75), 22.857, places=3)\n",
    "        self.assertAlmostEqual(calculate_bmi(80, 1.8), 24.691, places=3)\n",
    "    \n",
    "    def test_calculate_bmi_invalid_input(self):\n",
    "        \"\"\"测试无效输入\"\"\"\n",
    "        with self.assertRaises(ValueError):\n",
    "            calculate_bmi(-70, 1.75)\n",
    "        with self.assertRaises(ValueError):\n",
    "            calculate_bmi(70, 0)\n",
    "    \n",
    "    def test_get_bmi_category(self):\n",
    "        \"\"\"测试BMI分类\"\"\"\n",
    "        self.assertEqual(get_bmi_category(17), \"体重过轻\")\n",
    "        self.assertEqual(get_bmi_category(20), \"正常体重\")\n",
    "        self.assertEqual(get_bmi_category(26), \"超重\")\n",
    "        self.assertEqual(get_bmi_category(30), \"肥胖\")\n",
    "\n",
    "# 运行测试\n",
    "if __name__ == \"__main__\":\n",
    "    # 运行doctest\n",
    "    import doctest\n",
    "    doctest.testmod()\n",
    "    \n",
    "    # 运行unittest\n",
    "    unittest.main(argv=[''], exit=False)\n",
    "    \n",
    "    # 实际使用示例\n",
    "    try:\n",
    "        weight = 70\n",
    "        height = 1.75\n",
    "        bmi = calculate_bmi(weight, height)\n",
    "        category = get_bmi_category(bmi)\n",
    "        print(f\"\\n体重: {weight}kg, 身高: {height}m\")\n",
    "        print(f\"BMI: {bmi:.2f}, 分类: {category}\")\n",
    "    except ValueError as e:\n",
    "        print(f\"错误: {e}\")"
   ]
  },
  {
   "cell_type": "markdown",
   "id": "c1807180",
   "metadata": {},
   "source": [
    "## 76. 函数式编程"
   ]
  },
  {
   "cell_type": "code",
   "execution_count": 109,
   "id": "9f398902",
   "metadata": {},
   "outputs": [
    {
     "name": "stdout",
     "output_type": "stream",
     "text": [
      "平方: [1, 4, 9, 16, 25, 36, 49, 64, 81, 100]\n",
      "偶数: [2, 4, 6, 8, 10]\n",
      "求和: 55\n",
      "求积: 3628800\n",
      "偶数平方和: 220\n",
      "\n",
      "纯函数测试:\n",
      "pure_function(3, 4) = 10\n",
      "pure_function(3, 4) = 10\n",
      "\n",
      "不纯函数测试:\n",
      "impure_function(5) = 6\n",
      "impure_function(5) = 7\n",
      "\n",
      "柯里化测试:\n",
      "add_5(3) = 8\n",
      "add_5(7) = 12\n"
     ]
    }
   ],
   "source": [
    "# 函数式编程\n",
    "from functools import reduce\n",
    "from operator import add, mul\n",
    "\n",
    "# 高阶函数\n",
    "def map_reduce_filter_example():\n",
    "    \"\"\"map, reduce, filter示例\"\"\"\n",
    "    numbers = [1, 2, 3, 4, 5, 6, 7, 8, 9, 10]\n",
    "    \n",
    "    # map: 应用函数到每个元素\n",
    "    squared = list(map(lambda x: x**2, numbers))\n",
    "    print(f\"平方: {squared}\")\n",
    "    \n",
    "    # filter: 过滤元素\n",
    "    evens = list(filter(lambda x: x % 2 == 0, numbers))\n",
    "    print(f\"偶数: {evens}\")\n",
    "    \n",
    "    # reduce: 累积操作\n",
    "    sum_all = reduce(add, numbers)\n",
    "    product_all = reduce(mul, numbers)\n",
    "    print(f\"求和: {sum_all}\")\n",
    "    print(f\"求积: {product_all}\")\n",
    "    \n",
    "    # 组合使用\n",
    "    result = reduce(add, map(lambda x: x**2, filter(lambda x: x % 2 == 0, numbers)))\n",
    "    print(f\"偶数平方和: {result}\")\n",
    "\n",
    "# 纯函数示例\n",
    "def pure_function(x, y):\n",
    "    \"\"\"纯函数：相同输入总是产生相同输出，无副作用\"\"\"\n",
    "    return x * 2 + y\n",
    "\n",
    "# 不纯函数示例\n",
    "counter = 0\n",
    "def impure_function(x):\n",
    "    \"\"\"不纯函数：有副作用\"\"\"\n",
    "    global counter\n",
    "    counter += 1\n",
    "    return x + counter\n",
    "\n",
    "# 柯里化\n",
    "def curry_add(x):\n",
    "    \"\"\"柯里化加法函数\"\"\"\n",
    "    def add_x(y):\n",
    "        return x + y\n",
    "    return add_x\n",
    "\n",
    "# 测试函数式编程\n",
    "map_reduce_filter_example()\n",
    "\n",
    "print(f\"\\n纯函数测试:\")\n",
    "print(f\"pure_function(3, 4) = {pure_function(3, 4)}\")\n",
    "print(f\"pure_function(3, 4) = {pure_function(3, 4)}\")  # 结果相同\n",
    "\n",
    "print(f\"\\n不纯函数测试:\")\n",
    "print(f\"impure_function(5) = {impure_function(5)}\")\n",
    "print(f\"impure_function(5) = {impure_function(5)}\")  # 结果不同\n",
    "\n",
    "print(f\"\\n柯里化测试:\")\n",
    "add_5 = curry_add(5)\n",
    "print(f\"add_5(3) = {add_5(3)}\")\n",
    "print(f\"add_5(7) = {add_5(7)}\")"
   ]
  },
  {
   "cell_type": "markdown",
   "id": "7cd8c16f",
   "metadata": {},
   "source": [
    "## 77. 动态函数创建"
   ]
  },
  {
   "cell_type": "code",
   "execution_count": 110,
   "id": "d97d7c81",
   "metadata": {},
   "outputs": [
    {
     "name": "stdout",
     "output_type": "stream",
     "text": [
      "年龄验证 25: True\n",
      "年龄验证 200: False\n",
      "分数验证 85: True\n",
      "分数验证 150: False\n",
      "\n",
      "动态运算:\n",
      "5 + 3 = 8\n",
      "5 * 3 = 15\n",
      "\n",
      "从字符串创建的函数:\n",
      "square(5) = 25\n",
      "cube(3) = 27\n"
     ]
    }
   ],
   "source": [
    "# 动态函数创建\n",
    "def create_validator(min_val, max_val):\n",
    "    \"\"\"创建验证器函数\"\"\"\n",
    "    def validator(value):\n",
    "        return min_val <= value <= max_val\n",
    "    \n",
    "    validator.__name__ = f\"validate_{min_val}_to_{max_val}\"\n",
    "    validator.__doc__ = f\"验证值是否在 {min_val} 到 {max_val} 之间\"\n",
    "    return validator\n",
    "\n",
    "def create_operation(operation):\n",
    "    \"\"\"根据字符串创建运算函数\"\"\"\n",
    "    operations = {\n",
    "        'add': lambda x, y: x + y,\n",
    "        'sub': lambda x, y: x - y,\n",
    "        'mul': lambda x, y: x * y,\n",
    "        'div': lambda x, y: x / y if y != 0 else None\n",
    "    }\n",
    "    return operations.get(operation)\n",
    "\n",
    "# 使用exec动态创建函数\n",
    "def create_function_from_string(func_name, func_body):\n",
    "    \"\"\"从字符串创建函数\"\"\"\n",
    "    func_code = f\"\"\"\n",
    "def {func_name}(x):\n",
    "    {func_body}\n",
    "\"\"\"\n",
    "    \n",
    "    local_vars = {}\n",
    "    exec(func_code, globals(), local_vars)\n",
    "    return local_vars[func_name]\n",
    "\n",
    "# 测试动态函数创建\n",
    "age_validator = create_validator(0, 150)\n",
    "score_validator = create_validator(0, 100)\n",
    "\n",
    "print(f\"年龄验证 25: {age_validator(25)}\")\n",
    "print(f\"年龄验证 200: {age_validator(200)}\")\n",
    "print(f\"分数验证 85: {score_validator(85)}\")\n",
    "print(f\"分数验证 150: {score_validator(150)}\")\n",
    "\n",
    "# 动态运算\n",
    "add_func = create_operation('add')\n",
    "mul_func = create_operation('mul')\n",
    "\n",
    "print(f\"\\n动态运算:\")\n",
    "print(f\"5 + 3 = {add_func(5, 3)}\")\n",
    "print(f\"5 * 3 = {mul_func(5, 3)}\")\n",
    "\n",
    "# 从字符串创建函数\n",
    "square_func = create_function_from_string('square', 'return x * x')\n",
    "cube_func = create_function_from_string('cube', 'return x ** 3')\n",
    "\n",
    "print(f\"\\n从字符串创建的函数:\")\n",
    "print(f\"square(5) = {square_func(5)}\")\n",
    "print(f\"cube(3) = {cube_func(3)}\")"
   ]
  },
  {
   "cell_type": "markdown",
   "id": "61df4da1",
   "metadata": {},
   "source": [
    "## 78. 函数重载模拟"
   ]
  },
  {
   "cell_type": "code",
   "execution_count": 111,
   "id": "0a791014",
   "metadata": {},
   "outputs": [
    {
     "name": "stdout",
     "output_type": "stream",
     "text": [
      "singledispatch测试:\n",
      "处理整数: 84\n",
      "处理字符串: HELLO\n",
      "处理列表: 3 个元素\n",
      "处理未知类型数据: <class 'float'>\n",
      "\n",
      "自定义重载器测试:\n",
      "8\n",
      "Hello World\n",
      "[1, 2, 3, 4]\n",
      "错误: 没有找到匹配的函数重载: (<class 'int'>, <class 'str'>)\n"
     ]
    }
   ],
   "source": [
    "# 函数重载模拟\n",
    "from functools import singledispatch\n",
    "from typing import Union\n",
    "\n",
    "class FunctionOverloader:\n",
    "    \"\"\"函数重载器\"\"\"\n",
    "    def __init__(self):\n",
    "        self.functions = {}\n",
    "    \n",
    "    def register(self, *types):\n",
    "        \"\"\"注册函数重载\"\"\"\n",
    "        def decorator(func):\n",
    "            key = tuple(types)\n",
    "            self.functions[key] = func\n",
    "            return func\n",
    "        return decorator\n",
    "    \n",
    "    def __call__(self, *args):\n",
    "        \"\"\"调用匹配的函数\"\"\"\n",
    "        arg_types = tuple(type(arg) for arg in args)\n",
    "        \n",
    "        # 精确匹配\n",
    "        if arg_types in self.functions:\n",
    "            return self.functions[arg_types](*args)\n",
    "        \n",
    "        # 尝试兼容匹配\n",
    "        for types, func in self.functions.items():\n",
    "            if len(types) == len(args):\n",
    "                if all(isinstance(arg, expected_type) for arg, expected_type in zip(args, types)):\n",
    "                    return func(*args)\n",
    "        \n",
    "        raise TypeError(f\"没有找到匹配的函数重载: {arg_types}\")\n",
    "\n",
    "# 使用singledispatch实现重载\n",
    "@singledispatch\n",
    "def process_data(data):\n",
    "    \"\"\"处理数据的通用函数\"\"\"\n",
    "    return f\"处理未知类型数据: {type(data)}\"\n",
    "\n",
    "@process_data.register\n",
    "def _(data: int):\n",
    "    \"\"\"处理整数\"\"\"\n",
    "    return f\"处理整数: {data * 2}\"\n",
    "\n",
    "@process_data.register\n",
    "def _(data: str):\n",
    "    \"\"\"处理字符串\"\"\"\n",
    "    return f\"处理字符串: {data.upper()}\"\n",
    "\n",
    "@process_data.register\n",
    "def _(data: list):\n",
    "    \"\"\"处理列表\"\"\"\n",
    "    return f\"处理列表: {len(data)} 个元素\"\n",
    "\n",
    "# 自定义重载器\n",
    "calculate = FunctionOverloader()\n",
    "\n",
    "@calculate.register(int, int)\n",
    "def add_ints(a, b):\n",
    "    return a + b\n",
    "\n",
    "@calculate.register(str, str)\n",
    "def add_strings(a, b):\n",
    "    return a + \" \" + b\n",
    "\n",
    "@calculate.register(list, list)\n",
    "def add_lists(a, b):\n",
    "    return a + b\n",
    "\n",
    "# 测试函数重载\n",
    "print(\"singledispatch测试:\")\n",
    "print(process_data(42))\n",
    "print(process_data(\"hello\"))\n",
    "print(process_data([1, 2, 3]))\n",
    "print(process_data(3.14))\n",
    "\n",
    "print(\"\\n自定义重载器测试:\")\n",
    "print(calculate(5, 3))\n",
    "print(calculate(\"Hello\", \"World\"))\n",
    "print(calculate([1, 2], [3, 4]))\n",
    "\n",
    "try:\n",
    "    print(calculate(5, \"3\"))  # 会报错\n",
    "except TypeError as e:\n",
    "    print(f\"错误: {e}\")"
   ]
  },
  {
   "cell_type": "markdown",
   "id": "ca16c185",
   "metadata": {},
   "source": [
    "## 79. 函数元编程"
   ]
  },
  {
   "cell_type": "code",
   "execution_count": 112,
   "id": "dfe877a8",
   "metadata": {},
   "outputs": [
    {
     "name": "stdout",
     "output_type": "stream",
     "text": [
      "函数检查:\n",
      "函数名: sample_function\n",
      "文档字符串: 示例函数\n",
      "模块: __main__\n",
      "签名: (x: int, y: str = 'default') -> str\n",
      "  参数 x: POSITIONAL_OR_KEYWORD, 默认值: <class 'inspect._empty'>\n",
      "  参数 y: POSITIONAL_OR_KEYWORD, 默认值: default\n",
      "源代码:\n",
      "def sample_function(x: int, y: str = \"default\") -> str:\n",
      "    \"\"\"示例函数\"\"\"\n",
      "    return f\"{y}: {x}\"\n",
      "\n",
      "\n",
      "修改后的函数名: new_sample\n",
      "修改后的文档: 新的文档字符串\n",
      "\n",
      "动态函数结果: 15\n",
      "\n",
      "装饰器测试:\n",
      "调用 test_function，参数: (10, 20), {}\n",
      "test_function 返回: 30\n"
     ]
    }
   ],
   "source": [
    "# 函数元编程\n",
    "import inspect\n",
    "from types import FunctionType\n",
    "\n",
    "def function_inspector(func):\n",
    "    \"\"\"函数检查器\"\"\"\n",
    "    print(f\"函数名: {func.__name__}\")\n",
    "    print(f\"文档字符串: {func.__doc__}\")\n",
    "    print(f\"模块: {func.__module__}\")\n",
    "    \n",
    "    # 获取函数签名\n",
    "    sig = inspect.signature(func)\n",
    "    print(f\"签名: {sig}\")\n",
    "    \n",
    "    # 获取参数信息\n",
    "    for param_name, param in sig.parameters.items():\n",
    "        print(f\"  参数 {param_name}: {param.kind}, 默认值: {param.default}\")\n",
    "    \n",
    "    # 获取源代码\n",
    "    try:\n",
    "        source = inspect.getsource(func)\n",
    "        print(f\"源代码:\\n{source}\")\n",
    "    except OSError:\n",
    "        print(\"无法获取源代码\")\n",
    "\n",
    "def modify_function(func, new_name=None, new_doc=None):\n",
    "    \"\"\"修改函数属性\"\"\"\n",
    "    if new_name:\n",
    "        func.__name__ = new_name\n",
    "    if new_doc:\n",
    "        func.__doc__ = new_doc\n",
    "    return func\n",
    "\n",
    "def create_function_dynamically(name, args, body, globals_dict=None):\n",
    "    \"\"\"动态创建函数\"\"\"\n",
    "    if globals_dict is None:\n",
    "        globals_dict = {}\n",
    "    \n",
    "    # 创建函数代码\n",
    "    func_code = f\"def {name}({', '.join(args)}):\\n    {body}\"\n",
    "    \n",
    "    # 编译并执行\n",
    "    compiled = compile(func_code, '<dynamic>', 'exec')\n",
    "    local_dict = {}\n",
    "    exec(compiled, globals_dict, local_dict)\n",
    "    \n",
    "    return local_dict[name]\n",
    "\n",
    "# 函数装饰器工厂\n",
    "def create_decorator(before_func=None, after_func=None):\n",
    "    \"\"\"创建装饰器\"\"\"\n",
    "    def decorator(func):\n",
    "        def wrapper(*args, **kwargs):\n",
    "            if before_func:\n",
    "                before_func(func.__name__, args, kwargs)\n",
    "            \n",
    "            result = func(*args, **kwargs)\n",
    "            \n",
    "            if after_func:\n",
    "                after_func(func.__name__, result)\n",
    "            \n",
    "            return result\n",
    "        return wrapper\n",
    "    return decorator\n",
    "\n",
    "# 测试函数\n",
    "def sample_function(x: int, y: str = \"default\") -> str:\n",
    "    \"\"\"示例函数\"\"\"\n",
    "    return f\"{y}: {x}\"\n",
    "\n",
    "# 测试元编程\n",
    "print(\"函数检查:\")\n",
    "function_inspector(sample_function)\n",
    "\n",
    "# 修改函数\n",
    "modified_func = modify_function(sample_function, \"new_sample\", \"新的文档字符串\")\n",
    "print(f\"\\n修改后的函数名: {modified_func.__name__}\")\n",
    "print(f\"修改后的文档: {modified_func.__doc__}\")\n",
    "\n",
    "# 动态创建函数\n",
    "dynamic_func = create_function_dynamically(\n",
    "    \"multiply\", \n",
    "    [\"a\", \"b\"], \n",
    "    \"return a * b\"\n",
    ")\n",
    "print(f\"\\n动态函数结果: {dynamic_func(5, 3)}\")\n",
    "\n",
    "# 使用装饰器工厂\n",
    "def log_before(func_name, args, kwargs):\n",
    "    print(f\"调用 {func_name}，参数: {args}, {kwargs}\")\n",
    "\n",
    "def log_after(func_name, result):\n",
    "    print(f\"{func_name} 返回: {result}\")\n",
    "\n",
    "logging_decorator = create_decorator(log_before, log_after)\n",
    "\n",
    "@logging_decorator\n",
    "def test_function(x, y):\n",
    "    return x + y\n",
    "\n",
    "print(\"\\n装饰器测试:\")\n",
    "result = test_function(10, 20)"
   ]
  },
  {
   "cell_type": "markdown",
   "id": "0ab084d6",
   "metadata": {},
   "source": [
    "## 80. 函数性能优化"
   ]
  },
  {
   "cell_type": "code",
   "execution_count": 113,
   "id": "79b093f6",
   "metadata": {},
   "outputs": [
    {
     "name": "stdout",
     "output_type": "stream",
     "text": [
      "斐波那契数列性能比较 (n=30):\n"
     ]
    },
    {
     "ename": "TypeError",
     "evalue": "fibonacci_iterative() takes 1 positional argument but 2 were given",
     "output_type": "error",
     "traceback": [
      "\u001b[31m---------------------------------------------------------------------------\u001b[39m",
      "\u001b[31mTypeError\u001b[39m                                 Traceback (most recent call last)",
      "\u001b[36mCell\u001b[39m\u001b[36m \u001b[39m\u001b[32mIn[113]\u001b[39m\u001b[32m, line 94\u001b[39m\n\u001b[32m     91\u001b[39m n = \u001b[32m30\u001b[39m\n\u001b[32m     93\u001b[39m \u001b[38;5;66;03m# 测试不同实现\u001b[39;00m\n\u001b[32m---> \u001b[39m\u001b[32m94\u001b[39m result1, time1 = \u001b[43mperformance_test\u001b[49m\u001b[43m(\u001b[49m\u001b[43mfibonacci_iterative\u001b[49m\u001b[43m,\u001b[49m\u001b[43m \u001b[49m\u001b[43mn\u001b[49m\u001b[43m,\u001b[49m\u001b[43m \u001b[49m\u001b[32;43m1000\u001b[39;49m\u001b[43m)\u001b[49m\n\u001b[32m     95\u001b[39m \u001b[38;5;28mprint\u001b[39m(\u001b[33mf\u001b[39m\u001b[33m\"\u001b[39m\u001b[33m迭代版本: 结果=\u001b[39m\u001b[38;5;132;01m{\u001b[39;00mresult1\u001b[38;5;132;01m}\u001b[39;00m\u001b[33m, 平均时间=\u001b[39m\u001b[38;5;132;01m{\u001b[39;00mtime1\u001b[38;5;132;01m:\u001b[39;00m\u001b[33m.6f\u001b[39m\u001b[38;5;132;01m}\u001b[39;00m\u001b[33m秒\u001b[39m\u001b[33m\"\u001b[39m)\n\u001b[32m     97\u001b[39m result2, time2 = performance_test(fibonacci_memoized, n, \u001b[32m1000\u001b[39m)\n",
      "\u001b[36mCell\u001b[39m\u001b[36m \u001b[39m\u001b[32mIn[113]\u001b[39m\u001b[32m, line 52\u001b[39m, in \u001b[36mperformance_test\u001b[39m\u001b[34m(func, iterations, *args)\u001b[39m\n\u001b[32m     50\u001b[39m start_time = time.perf_counter()\n\u001b[32m     51\u001b[39m \u001b[38;5;28;01mfor\u001b[39;00m _ \u001b[38;5;129;01min\u001b[39;00m \u001b[38;5;28mrange\u001b[39m(iterations):\n\u001b[32m---> \u001b[39m\u001b[32m52\u001b[39m     result = \u001b[43mfunc\u001b[49m\u001b[43m(\u001b[49m\u001b[43m*\u001b[49m\u001b[43margs\u001b[49m\u001b[43m)\u001b[49m\n\u001b[32m     53\u001b[39m end_time = time.perf_counter()\n\u001b[32m     55\u001b[39m avg_time = (end_time - start_time) / iterations\n",
      "\u001b[31mTypeError\u001b[39m: fibonacci_iterative() takes 1 positional argument but 2 were given"
     ]
    }
   ],
   "source": [
    "# 函数性能优化\n",
    "import time\n",
    "import sys\n",
    "from functools import lru_cache, wraps\n",
    "\n",
    "# 尾递归优化\n",
    "class TailRecursionOptimizer:\n",
    "    \"\"\"尾递归优化器\"\"\"\n",
    "    def __init__(self, func):\n",
    "        self.func = func\n",
    "        self.firstcall = True\n",
    "        self.CONTINUE = object()\n",
    "    \n",
    "    def __call__(self, *args, **kwargs):\n",
    "        if self.firstcall:\n",
    "            func = self.func\n",
    "            CONTINUE = self.CONTINUE\n",
    "            self.firstcall = False\n",
    "            try:\n",
    "                while True:\n",
    "                    result = func(*args, **kwargs)\n",
    "                    if result is CONTINUE:\n",
    "                        continue\n",
    "                    else:\n",
    "                        return result\n",
    "            finally:\n",
    "                self.firstcall = True\n",
    "        else:\n",
    "            return self.CONTINUE\n",
    "\n",
    "# 记忆化装饰器\n",
    "def memoize(func):\n",
    "    \"\"\"记忆化装饰器\"\"\"\n",
    "    cache = {}\n",
    "    \n",
    "    @wraps(func)\n",
    "    def wrapper(*args, **kwargs):\n",
    "        key = str(args) + str(sorted(kwargs.items()))\n",
    "        if key not in cache:\n",
    "            cache[key] = func(*args, **kwargs)\n",
    "        return cache[key]\n",
    "    \n",
    "    wrapper.cache = cache\n",
    "    wrapper.cache_clear = cache.clear\n",
    "    return wrapper\n",
    "\n",
    "# 性能测试函数\n",
    "def performance_test(func, *args, iterations=1000):\n",
    "    \"\"\"性能测试\"\"\"\n",
    "    start_time = time.perf_counter()\n",
    "    for _ in range(iterations):\n",
    "        result = func(*args)\n",
    "    end_time = time.perf_counter()\n",
    "    \n",
    "    avg_time = (end_time - start_time) / iterations\n",
    "    return result, avg_time\n",
    "\n",
    "# 普通递归斐波那契\n",
    "def fibonacci_recursive(n):\n",
    "    if n <= 1:\n",
    "        return n\n",
    "    return fibonacci_recursive(n - 1) + fibonacci_recursive(n - 2)\n",
    "\n",
    "# 记忆化斐波那契\n",
    "@memoize\n",
    "def fibonacci_memoized(n):\n",
    "    if n <= 1:\n",
    "        return n\n",
    "    return fibonacci_memoized(n - 1) + fibonacci_memoized(n - 2)\n",
    "\n",
    "# 迭代斐波那契\n",
    "def fibonacci_iterative(n):\n",
    "    if n <= 1:\n",
    "        return n\n",
    "    a, b = 0, 1\n",
    "    for _ in range(2, n + 1):\n",
    "        a, b = b, a + b\n",
    "    return b\n",
    "\n",
    "# 尾递归斐波那契\n",
    "@TailRecursionOptimizer\n",
    "def fibonacci_tail_recursive(n, a=0, b=1):\n",
    "    if n == 0:\n",
    "        return a\n",
    "    if n == 1:\n",
    "        return b\n",
    "    return fibonacci_tail_recursive(n - 1, b, a + b)\n",
    "\n",
    "# 性能比较\n",
    "print(\"斐波那契数列性能比较 (n=30):\")\n",
    "n = 30\n",
    "\n",
    "# 测试不同实现\n",
    "result1, time1 = performance_test(fibonacci_iterative, n, 1000)\n",
    "print(f\"迭代版本: 结果={result1}, 平均时间={time1:.6f}秒\")\n",
    "\n",
    "result2, time2 = performance_test(fibonacci_memoized, n, 1000)\n",
    "print(f\"记忆化版本: 结果={result2}, 平均时间={time2:.6f}秒\")\n",
    "\n",
    "result3, time3 = performance_test(fibonacci_tail_recursive, n, 1000)\n",
    "print(f\"尾递归版本: 结果={result3}, 平均时间={time3:.6f}秒\")\n",
    "\n",
    "# 普通递归版本太慢，只测试一次\n",
    "start = time.perf_counter()\n",
    "result4 = fibonacci_recursive(n)\n",
    "time4 = time.perf_counter() - start\n",
    "print(f\"普通递归版本: 结果={result4}, 时间={time4:.6f}秒\")\n",
    "\n",
    "# 内存使用优化示例\n",
    "def memory_efficient_sum(numbers):\n",
    "    \"\"\"内存高效的求和（使用生成器）\"\"\"\n",
    "    return sum(x for x in numbers)\n",
    "\n",
    "def memory_inefficient_sum(numbers):\n",
    "    \"\"\"内存低效的求和（创建中间列表）\"\"\"\n",
    "    return sum([x for x in numbers])\n",
    "\n",
    "# 比较内存使用\n",
    "import tracemalloc\n",
    "\n",
    "def measure_memory(func, *args):\n",
    "    \"\"\"测量内存使用\"\"\"\n",
    "    tracemalloc.start()\n",
    "    result = func(*args)\n",
    "    current, peak = tracemalloc.get_traced_memory()\n",
    "    tracemalloc.stop()\n",
    "    return result, current, peak\n",
    "\n",
    "test_data = range(1000000)\n",
    "\n",
    "print(\"\\n内存使用比较:\")\n",
    "result1, current1, peak1 = measure_memory(memory_efficient_sum, test_data)\n",
    "print(f\"高效版本: 当前={current1/1024/1024:.2f}MB, 峰值={peak1/1024/1024:.2f}MB\")\n",
    "\n",
    "result2, current2, peak2 = measure_memory(memory_inefficient_sum, test_data)\n",
    "print(f\"低效版本: 当前={current2/1024/1024:.2f}MB, 峰值={peak2/1024/1024:.2f}MB\")"
   ]
  },
  {
   "cell_type": "markdown",
   "id": "984e2853",
   "metadata": {},
   "source": [
    "# 面向对象练习"
   ]
  },
  {
   "cell_type": "markdown",
   "id": "b70ded5e",
   "metadata": {},
   "source": [
    "## 81. 类的基础定义"
   ]
  },
  {
   "cell_type": "code",
   "execution_count": 114,
   "id": "0c5e0204",
   "metadata": {},
   "outputs": [
    {
     "name": "stdout",
     "output_type": "stream",
     "text": [
      "创建Person对象:\n",
      "我是张三，今年25岁，性别男\n",
      "我是李四，今年30岁，性别女\n",
      "张三过生日了！现在26岁\n",
      "当前人口: 2\n",
      "张三是否成年: True\n",
      "15岁是否成年: False\n",
      "\n",
      "str表示: Person(name='张三', age=26, gender='男')\n",
      "repr表示: Person('张三', 26, '男')\n"
     ]
    }
   ],
   "source": [
    "# 类的基础定义\n",
    "class Person:\n",
    "    \"\"\"人员类\"\"\"\n",
    "    \n",
    "    # 类变量\n",
    "    species = \"Homo sapiens\"\n",
    "    population = 0\n",
    "    \n",
    "    def __init__(self, name, age, gender):\n",
    "        \"\"\"初始化方法\"\"\"\n",
    "        self.name = name        # 实例变量\n",
    "        self.age = age\n",
    "        self.gender = gender\n",
    "        Person.population += 1  # 更新类变量\n",
    "    \n",
    "    def introduce(self):\n",
    "        \"\"\"自我介绍方法\"\"\"\n",
    "        return f\"我是{self.name}，今年{self.age}岁，性别{self.gender}\"\n",
    "    \n",
    "    def have_birthday(self):\n",
    "        \"\"\"过生日方法\"\"\"\n",
    "        self.age += 1\n",
    "        print(f\"{self.name}过生日了！现在{self.age}岁\")\n",
    "    \n",
    "    @classmethod\n",
    "    def get_population(cls):\n",
    "        \"\"\"类方法：获取人口数量\"\"\"\n",
    "        return cls.population\n",
    "    \n",
    "    @staticmethod\n",
    "    def is_adult(age):\n",
    "        \"\"\"静态方法：判断是否成年\"\"\"\n",
    "        return age >= 18\n",
    "    \n",
    "    def __str__(self):\n",
    "        \"\"\"字符串表示\"\"\"\n",
    "        return f\"Person(name='{self.name}', age={self.age}, gender='{self.gender}')\"\n",
    "    \n",
    "    def __repr__(self):\n",
    "        \"\"\"开发者表示\"\"\"\n",
    "        return f\"Person('{self.name}', {self.age}, '{self.gender}')\"\n",
    "\n",
    "# 使用类\n",
    "print(\"创建Person对象:\")\n",
    "person1 = Person(\"张三\", 25, \"男\")\n",
    "person2 = Person(\"李四\", 30, \"女\")\n",
    "\n",
    "print(person1.introduce())\n",
    "print(person2.introduce())\n",
    "\n",
    "person1.have_birthday()\n",
    "print(f\"当前人口: {Person.get_population()}\")\n",
    "print(f\"张三是否成年: {Person.is_adult(person1.age)}\")\n",
    "print(f\"15岁是否成年: {Person.is_adult(15)}\")\n",
    "\n",
    "print(f\"\\nstr表示: {str(person1)}\")\n",
    "print(f\"repr表示: {repr(person1)}\")"
   ]
  },
  {
   "cell_type": "markdown",
   "id": "8633885e",
   "metadata": {},
   "source": [
    "## 82. 类的继承"
   ]
  },
  {
   "cell_type": "code",
   "execution_count": 115,
   "id": "877bc7f1",
   "metadata": {},
   "outputs": [
    {
     "name": "stdout",
     "output_type": "stream",
     "text": [
      "继承示例:\n",
      "旺财是一只狗\n",
      "旺财汪汪叫\n",
      "旺财正在移动\n",
      "旺财去捡球\n",
      "\n",
      "咪咪是一只猫\n",
      "咪咪喵喵叫\n",
      "咪咪正在移动\n",
      "咪咪爬树\n",
      "\n",
      "多态性演示:\n",
      "旺财: 旺财汪汪叫\n",
      "咪咪: 咪咪喵喵叫\n"
     ]
    }
   ],
   "source": [
    "# 类的继承\n",
    "class Animal:\n",
    "    \"\"\"动物基类\"\"\"\n",
    "    \n",
    "    def __init__(self, name, species):\n",
    "        self.name = name\n",
    "        self.species = species\n",
    "    \n",
    "    def make_sound(self):\n",
    "        \"\"\"发出声音（抽象方法）\"\"\"\n",
    "        pass\n",
    "    \n",
    "    def move(self):\n",
    "        \"\"\"移动\"\"\"\n",
    "        return f\"{self.name}正在移动\"\n",
    "    \n",
    "    def info(self):\n",
    "        \"\"\"基本信息\"\"\"\n",
    "        return f\"{self.name}是一只{self.species}\"\n",
    "\n",
    "class Dog(Animal):\n",
    "    \"\"\"狗类，继承自Animal\"\"\"\n",
    "    \n",
    "    def __init__(self, name, breed):\n",
    "        super().__init__(name, \"狗\")\n",
    "        self.breed = breed\n",
    "    \n",
    "    def make_sound(self):\n",
    "        \"\"\"重写父类方法\"\"\"\n",
    "        return f\"{self.name}汪汪叫\"\n",
    "    \n",
    "    def fetch(self):\n",
    "        \"\"\"狗特有的方法\"\"\"\n",
    "        return f\"{self.name}去捡球\"\n",
    "\n",
    "class Cat(Animal):\n",
    "    \"\"\"猫类，继承自Animal\"\"\"\n",
    "    \n",
    "    def __init__(self, name, color):\n",
    "        super().__init__(name, \"猫\")\n",
    "        self.color = color\n",
    "    \n",
    "    def make_sound(self):\n",
    "        \"\"\"重写父类方法\"\"\"\n",
    "        return f\"{self.name}喵喵叫\"\n",
    "    \n",
    "    def climb(self):\n",
    "        \"\"\"猫特有的方法\"\"\"\n",
    "        return f\"{self.name}爬树\"\n",
    "\n",
    "# 使用继承\n",
    "dog = Dog(\"旺财\", \"金毛\")\n",
    "cat = Cat(\"咪咪\", \"橘色\")\n",
    "\n",
    "print(\"继承示例:\")\n",
    "print(dog.info())\n",
    "print(dog.make_sound())\n",
    "print(dog.move())\n",
    "print(dog.fetch())\n",
    "\n",
    "print(\"\\n\" + cat.info())\n",
    "print(cat.make_sound())\n",
    "print(cat.move())\n",
    "print(cat.climb())\n",
    "\n",
    "# 多态性\n",
    "animals = [dog, cat]\n",
    "print(\"\\n多态性演示:\")\n",
    "for animal in animals:\n",
    "    print(f\"{animal.name}: {animal.make_sound()}\")"
   ]
  },
  {
   "cell_type": "markdown",
   "id": "b40a0f0b",
   "metadata": {},
   "source": [
    "## 83. 类的多重继承"
   ]
  },
  {
   "cell_type": "code",
   "execution_count": 116,
   "id": "35faba7c",
   "metadata": {},
   "outputs": [
    {
     "name": "stdout",
     "output_type": "stream",
     "text": [
      "多重继承示例:\n",
      "唐老鸭是一只鸟\n",
      "唐老鸭嘎嘎叫\n",
      "唐老鸭正在移动\n",
      "唐老鸭正在飞行\n",
      "唐老鸭正在游泳\n",
      "唐老鸭潜水了\n",
      "\n",
      "MRO: (<class '__main__.Duck'>, <class '__main__.Bird'>, <class '__main__.Animal'>, <class '__main__.Flyable'>, <class '__main__.Swimmable'>, <class 'object'>)\n"
     ]
    }
   ],
   "source": [
    "# 多重继承\n",
    "class Flyable:\n",
    "    \"\"\"可飞行的混入类\"\"\"\n",
    "    \n",
    "    def fly(self):\n",
    "        return f\"{self.name}正在飞行\"\n",
    "    \n",
    "    def land(self):\n",
    "        return f\"{self.name}降落了\"\n",
    "\n",
    "class Swimmable:\n",
    "    \"\"\"可游泳的混入类\"\"\"\n",
    "    \n",
    "    def swim(self):\n",
    "        return f\"{self.name}正在游泳\"\n",
    "    \n",
    "    def dive(self):\n",
    "        return f\"{self.name}潜水了\"\n",
    "\n",
    "class Bird(Animal, Flyable):\n",
    "    \"\"\"鸟类，多重继承\"\"\"\n",
    "    \n",
    "    def __init__(self, name, wing_span):\n",
    "        super().__init__(name, \"鸟\")\n",
    "        self.wing_span = wing_span\n",
    "    \n",
    "    def make_sound(self):\n",
    "        return f\"{self.name}啾啾叫\"\n",
    "\n",
    "class Duck(Bird, Swimmable):\n",
    "    \"\"\"鸭子类，多重继承\"\"\"\n",
    "    \n",
    "    def __init__(self, name):\n",
    "        super().__init__(name, \"中等\")\n",
    "    \n",
    "    def make_sound(self):\n",
    "        return f\"{self.name}嘎嘎叫\"\n",
    "\n",
    "# 使用多重继承\n",
    "duck = Duck(\"唐老鸭\")\n",
    "\n",
    "print(\"多重继承示例:\")\n",
    "print(duck.info())\n",
    "print(duck.make_sound())\n",
    "print(duck.move())\n",
    "print(duck.fly())\n",
    "print(duck.swim())\n",
    "print(duck.dive())\n",
    "\n",
    "# 查看方法解析顺序\n",
    "print(f\"\\nMRO: {Duck.__mro__}\")"
   ]
  },
  {
   "cell_type": "markdown",
   "id": "71546147",
   "metadata": {},
   "source": [
    "## 84. 属性装饰器"
   ]
  },
  {
   "cell_type": "code",
   "execution_count": 117,
   "id": "1915a770",
   "metadata": {},
   "outputs": [
    {
     "name": "stdout",
     "output_type": "stream",
     "text": [
      "属性装饰器示例:\n",
      "圆: Circle(radius=5)\n",
      "面积: 78.54\n",
      "周长: 31.42\n",
      "\n",
      "修改半径后: Circle(radius=10)\n",
      "面积: 314.16\n",
      "\n",
      "温度转换:\n",
      "摄氏度: 25°C\n",
      "华氏度: 77.0°F\n",
      "开尔文: 298.1K\n",
      "\n",
      "设置华氏度100°F后:\n",
      "摄氏度: 37.8°C\n"
     ]
    }
   ],
   "source": [
    "# 属性装饰器\n",
    "class Circle:\n",
    "    \"\"\"圆形类\"\"\"\n",
    "    \n",
    "    def __init__(self, radius):\n",
    "        self._radius = radius\n",
    "    \n",
    "    @property\n",
    "    def radius(self):\n",
    "        \"\"\"半径属性\"\"\"\n",
    "        return self._radius\n",
    "    \n",
    "    @radius.setter\n",
    "    def radius(self, value):\n",
    "        \"\"\"设置半径\"\"\"\n",
    "        if value <= 0:\n",
    "            raise ValueError(\"半径必须大于0\")\n",
    "        self._radius = value\n",
    "    \n",
    "    @property\n",
    "    def area(self):\n",
    "        \"\"\"面积属性（只读）\"\"\"\n",
    "        import math\n",
    "        return math.pi * self._radius ** 2\n",
    "    \n",
    "    @property\n",
    "    def circumference(self):\n",
    "        \"\"\"周长属性（只读）\"\"\"\n",
    "        import math\n",
    "        return 2 * math.pi * self._radius\n",
    "    \n",
    "    def __str__(self):\n",
    "        return f\"Circle(radius={self.radius})\"\n",
    "\n",
    "class Temperature:\n",
    "    \"\"\"温度类\"\"\"\n",
    "    \n",
    "    def __init__(self, celsius=0):\n",
    "        self._celsius = celsius\n",
    "    \n",
    "    @property\n",
    "    def celsius(self):\n",
    "        \"\"\"摄氏度\"\"\"\n",
    "        return self._celsius\n",
    "    \n",
    "    @celsius.setter\n",
    "    def celsius(self, value):\n",
    "        if value < -273.15:\n",
    "            raise ValueError(\"温度不能低于绝对零度\")\n",
    "        self._celsius = value\n",
    "    \n",
    "    @property\n",
    "    def fahrenheit(self):\n",
    "        \"\"\"华氏度\"\"\"\n",
    "        return self._celsius * 9/5 + 32\n",
    "    \n",
    "    @fahrenheit.setter\n",
    "    def fahrenheit(self, value):\n",
    "        self.celsius = (value - 32) * 5/9\n",
    "    \n",
    "    @property\n",
    "    def kelvin(self):\n",
    "        \"\"\"开尔文\"\"\"\n",
    "        return self._celsius + 273.15\n",
    "    \n",
    "    @kelvin.setter\n",
    "    def kelvin(self, value):\n",
    "        self.celsius = value - 273.15\n",
    "\n",
    "# 使用属性装饰器\n",
    "print(\"属性装饰器示例:\")\n",
    "circle = Circle(5)\n",
    "print(f\"圆: {circle}\")\n",
    "print(f\"面积: {circle.area:.2f}\")\n",
    "print(f\"周长: {circle.circumference:.2f}\")\n",
    "\n",
    "circle.radius = 10\n",
    "print(f\"\\n修改半径后: {circle}\")\n",
    "print(f\"面积: {circle.area:.2f}\")\n",
    "\n",
    "temp = Temperature(25)\n",
    "print(f\"\\n温度转换:\")\n",
    "print(f\"摄氏度: {temp.celsius}°C\")\n",
    "print(f\"华氏度: {temp.fahrenheit:.1f}°F\")\n",
    "print(f\"开尔文: {temp.kelvin:.1f}K\")\n",
    "\n",
    "temp.fahrenheit = 100\n",
    "print(f\"\\n设置华氏度100°F后:\")\n",
    "print(f\"摄氏度: {temp.celsius:.1f}°C\")"
   ]
  },
  {
   "cell_type": "markdown",
   "id": "6564be29",
   "metadata": {},
   "source": [
    "## 85. 特殊方法（魔术方法）"
   ]
  },
  {
   "cell_type": "code",
   "execution_count": 118,
   "id": "15b2383a",
   "metadata": {},
   "outputs": [
    {
     "name": "stdout",
     "output_type": "stream",
     "text": [
      "特殊方法示例:\n",
      "v1 = Vector(3, 4)\n",
      "v2 = Vector(1, 2)\n",
      "v1 + v2 = Vector(4, 6)\n",
      "v1 - v2 = Vector(2, 2)\n",
      "v1 * 2 = Vector(6, 8)\n",
      "3 * v1 = Vector(9, 12)\n",
      "|v1| = 5.0\n",
      "v1 == v2: False\n",
      "bool(v1): True\n",
      "bool(Vector(0, 0)): False\n",
      "v1[0] = 3, v1[1] = 4\n",
      "len(v1) = 2\n",
      "修改后 v1 = Vector(5, 4)\n"
     ]
    }
   ],
   "source": [
    "# 特殊方法\n",
    "class Vector:\n",
    "    \"\"\"向量类\"\"\"\n",
    "    \n",
    "    def __init__(self, x, y):\n",
    "        self.x = x\n",
    "        self.y = y\n",
    "    \n",
    "    def __str__(self):\n",
    "        \"\"\"字符串表示\"\"\"\n",
    "        return f\"Vector({self.x}, {self.y})\"\n",
    "    \n",
    "    def __repr__(self):\n",
    "        \"\"\"开发者表示\"\"\"\n",
    "        return f\"Vector({self.x!r}, {self.y!r})\"\n",
    "    \n",
    "    def __add__(self, other):\n",
    "        \"\"\"向量加法\"\"\"\n",
    "        if isinstance(other, Vector):\n",
    "            return Vector(self.x + other.x, self.y + other.y)\n",
    "        return NotImplemented\n",
    "    \n",
    "    def __sub__(self, other):\n",
    "        \"\"\"向量减法\"\"\"\n",
    "        if isinstance(other, Vector):\n",
    "            return Vector(self.x - other.x, self.y - other.y)\n",
    "        return NotImplemented\n",
    "    \n",
    "    def __mul__(self, scalar):\n",
    "        \"\"\"标量乘法\"\"\"\n",
    "        if isinstance(scalar, (int, float)):\n",
    "            return Vector(self.x * scalar, self.y * scalar)\n",
    "        return NotImplemented\n",
    "    \n",
    "    def __rmul__(self, scalar):\n",
    "        \"\"\"右乘法\"\"\"\n",
    "        return self.__mul__(scalar)\n",
    "    \n",
    "    def __eq__(self, other):\n",
    "        \"\"\"相等比较\"\"\"\n",
    "        if isinstance(other, Vector):\n",
    "            return self.x == other.x and self.y == other.y\n",
    "        return False\n",
    "    \n",
    "    def __abs__(self):\n",
    "        \"\"\"向量长度\"\"\"\n",
    "        return (self.x ** 2 + self.y ** 2) ** 0.5\n",
    "    \n",
    "    def __bool__(self):\n",
    "        \"\"\"布尔值\"\"\"\n",
    "        return bool(abs(self))\n",
    "    \n",
    "    def __getitem__(self, index):\n",
    "        \"\"\"索引访问\"\"\"\n",
    "        if index == 0:\n",
    "            return self.x\n",
    "        elif index == 1:\n",
    "            return self.y\n",
    "        else:\n",
    "            raise IndexError(\"向量索引超出范围\")\n",
    "    \n",
    "    def __setitem__(self, index, value):\n",
    "        \"\"\"索引设置\"\"\"\n",
    "        if index == 0:\n",
    "            self.x = value\n",
    "        elif index == 1:\n",
    "            self.y = value\n",
    "        else:\n",
    "            raise IndexError(\"向量索引超出范围\")\n",
    "    \n",
    "    def __len__(self):\n",
    "        \"\"\"长度（维度）\"\"\"\n",
    "        return 2\n",
    "\n",
    "# 使用特殊方法\n",
    "print(\"特殊方法示例:\")\n",
    "v1 = Vector(3, 4)\n",
    "v2 = Vector(1, 2)\n",
    "\n",
    "print(f\"v1 = {v1}\")\n",
    "print(f\"v2 = {v2}\")\n",
    "print(f\"v1 + v2 = {v1 + v2}\")\n",
    "print(f\"v1 - v2 = {v1 - v2}\")\n",
    "print(f\"v1 * 2 = {v1 * 2}\")\n",
    "print(f\"3 * v1 = {3 * v1}\")\n",
    "print(f\"|v1| = {abs(v1)}\")\n",
    "print(f\"v1 == v2: {v1 == v2}\")\n",
    "print(f\"bool(v1): {bool(v1)}\")\n",
    "print(f\"bool(Vector(0, 0)): {bool(Vector(0, 0))}\")\n",
    "print(f\"v1[0] = {v1[0]}, v1[1] = {v1[1]}\")\n",
    "print(f\"len(v1) = {len(v1)}\")\n",
    "\n",
    "v1[0] = 5\n",
    "print(f\"修改后 v1 = {v1}\")"
   ]
  },
  {
   "cell_type": "markdown",
   "id": "fb137b82",
   "metadata": {},
   "source": [
    "## 86. 类的组合"
   ]
  },
  {
   "cell_type": "code",
   "execution_count": 119,
   "id": "ae29217b",
   "metadata": {},
   "outputs": [
    {
     "name": "stdout",
     "output_type": "stream",
     "text": [
      "类的组合示例:\n",
      "丰田 凯美瑞\n",
      "引擎: Engine(200HP, 汽油, 停止)\n",
      "轮子: Wheel(18inch, 米其林), Wheel(18inch, 米其林), Wheel(18inch, 米其林), Wheel(18inch, 米其林)\n",
      "速度: 0km/h\n",
      "\n",
      "引擎启动，功率200马力\n",
      "加速到50km/h\n",
      "加速到80km/h\n",
      "减速到60km/h\n",
      "\n",
      "丰田 凯美瑞\n",
      "引擎: Engine(200HP, 汽油, 运行中)\n",
      "轮子: Wheel(18inch, 米其林), Wheel(18inch, 米其林), Wheel(18inch, 米其林), Wheel(18inch, 米其林)\n",
      "速度: 60km/h\n",
      "引擎停止\n"
     ]
    }
   ],
   "source": [
    "# 类的组合\n",
    "class Engine:\n",
    "    \"\"\"引擎类\"\"\"\n",
    "    \n",
    "    def __init__(self, power, fuel_type):\n",
    "        self.power = power  # 功率\n",
    "        self.fuel_type = fuel_type  # 燃料类型\n",
    "        self.running = False\n",
    "    \n",
    "    def start(self):\n",
    "        \"\"\"启动引擎\"\"\"\n",
    "        self.running = True\n",
    "        return f\"引擎启动，功率{self.power}马力\"\n",
    "    \n",
    "    def stop(self):\n",
    "        \"\"\"停止引擎\"\"\"\n",
    "        self.running = False\n",
    "        return \"引擎停止\"\n",
    "    \n",
    "    def __str__(self):\n",
    "        status = \"运行中\" if self.running else \"停止\"\n",
    "        return f\"Engine({self.power}HP, {self.fuel_type}, {status})\"\n",
    "\n",
    "class Wheel:\n",
    "    \"\"\"轮子类\"\"\"\n",
    "    \n",
    "    def __init__(self, size, brand):\n",
    "        self.size = size\n",
    "        self.brand = brand\n",
    "    \n",
    "    def __str__(self):\n",
    "        return f\"Wheel({self.size}inch, {self.brand})\"\n",
    "\n",
    "class Car:\n",
    "    \"\"\"汽车类（组合）\"\"\"\n",
    "    \n",
    "    def __init__(self, make, model, engine, wheels):\n",
    "        self.make = make\n",
    "        self.model = model\n",
    "        self.engine = engine  # 组合引擎\n",
    "        self.wheels = wheels  # 组合轮子列表\n",
    "        self.speed = 0\n",
    "    \n",
    "    def start(self):\n",
    "        \"\"\"启动汽车\"\"\"\n",
    "        return self.engine.start()\n",
    "    \n",
    "    def stop(self):\n",
    "        \"\"\"停止汽车\"\"\"\n",
    "        self.speed = 0\n",
    "        return self.engine.stop()\n",
    "    \n",
    "    def accelerate(self, increment):\n",
    "        \"\"\"加速\"\"\"\n",
    "        if self.engine.running:\n",
    "            self.speed += increment\n",
    "            return f\"加速到{self.speed}km/h\"\n",
    "        return \"请先启动引擎\"\n",
    "    \n",
    "    def brake(self, decrement):\n",
    "        \"\"\"刹车\"\"\"\n",
    "        self.speed = max(0, self.speed - decrement)\n",
    "        return f\"减速到{self.speed}km/h\"\n",
    "    \n",
    "    def info(self):\n",
    "        \"\"\"汽车信息\"\"\"\n",
    "        wheel_info = \", \".join(str(wheel) for wheel in self.wheels)\n",
    "        return f\"{self.make} {self.model}\\n引擎: {self.engine}\\n轮子: {wheel_info}\\n速度: {self.speed}km/h\"\n",
    "\n",
    "# 使用组合\n",
    "print(\"类的组合示例:\")\n",
    "engine = Engine(200, \"汽油\")\n",
    "wheels = [Wheel(18, \"米其林\") for _ in range(4)]\n",
    "car = Car(\"丰田\", \"凯美瑞\", engine, wheels)\n",
    "\n",
    "print(car.info())\n",
    "print(\"\\n\" + car.start())\n",
    "print(car.accelerate(50))\n",
    "print(car.accelerate(30))\n",
    "print(car.brake(20))\n",
    "print(\"\\n\" + car.info())\n",
    "print(car.stop())"
   ]
  },
  {
   "cell_type": "markdown",
   "id": "495e4a67",
   "metadata": {},
   "source": [
    "## 87. 抽象基类"
   ]
  },
  {
   "cell_type": "code",
   "execution_count": 120,
   "id": "5770b608",
   "metadata": {},
   "outputs": [
    {
     "name": "stdout",
     "output_type": "stream",
     "text": [
      "抽象基类示例:\n",
      "Rectangle(5x3)\n",
      "描述: 这是一个Rectangle\n",
      "面积: 15.00\n",
      "周长: 16.00\n",
      "\n",
      "Circle(radius=4)\n",
      "描述: 这是一个Circle\n",
      "面积: 50.27\n",
      "周长: 25.13\n",
      "\n"
     ]
    }
   ],
   "source": [
    "# 抽象基类\n",
    "from abc import ABC, abstractmethod\n",
    "\n",
    "class Shape(ABC):\n",
    "    \"\"\"抽象形状类\"\"\"\n",
    "    \n",
    "    @abstractmethod\n",
    "    def area(self):\n",
    "        \"\"\"计算面积（抽象方法）\"\"\"\n",
    "        pass\n",
    "    \n",
    "    @abstractmethod\n",
    "    def perimeter(self):\n",
    "        \"\"\"计算周长（抽象方法）\"\"\"\n",
    "        pass\n",
    "    \n",
    "    def description(self):\n",
    "        \"\"\"具体方法\"\"\"\n",
    "        return f\"这是一个{self.__class__.__name__}\"\n",
    "\n",
    "class Rectangle(Shape):\n",
    "    \"\"\"矩形类\"\"\"\n",
    "    \n",
    "    def __init__(self, width, height):\n",
    "        self.width = width\n",
    "        self.height = height\n",
    "    \n",
    "    def area(self):\n",
    "        \"\"\"实现抽象方法\"\"\"\n",
    "        return self.width * self.height\n",
    "    \n",
    "    def perimeter(self):\n",
    "        \"\"\"实现抽象方法\"\"\"\n",
    "        return 2 * (self.width + self.height)\n",
    "    \n",
    "    def __str__(self):\n",
    "        return f\"Rectangle({self.width}x{self.height})\"\n",
    "\n",
    "class Circle(Shape):\n",
    "    \"\"\"圆形类\"\"\"\n",
    "    \n",
    "    def __init__(self, radius):\n",
    "        self.radius = radius\n",
    "    \n",
    "    def area(self):\n",
    "        \"\"\"实现抽象方法\"\"\"\n",
    "        import math\n",
    "        return math.pi * self.radius ** 2\n",
    "    \n",
    "    def perimeter(self):\n",
    "        \"\"\"实现抽象方法\"\"\"\n",
    "        import math\n",
    "        return 2 * math.pi * self.radius\n",
    "    \n",
    "    def __str__(self):\n",
    "        return f\"Circle(radius={self.radius})\"\n",
    "\n",
    "def print_shape_info(shape):\n",
    "    \"\"\"打印形状信息\"\"\"\n",
    "    print(f\"{shape}\")\n",
    "    print(f\"描述: {shape.description()}\")\n",
    "    print(f\"面积: {shape.area():.2f}\")\n",
    "    print(f\"周长: {shape.perimeter():.2f}\")\n",
    "    print()\n",
    "\n",
    "# 使用抽象基类\n",
    "print(\"抽象基类示例:\")\n",
    "rectangle = Rectangle(5, 3)\n",
    "circle = Circle(4)\n",
    "\n",
    "shapes = [rectangle, circle]\n",
    "for shape in shapes:\n",
    "    print_shape_info(shape)\n",
    "\n",
    "# 尝试实例化抽象类会报错\n",
    "# shape = Shape()  # TypeError"
   ]
  },
  {
   "cell_type": "markdown",
   "id": "b1569aa7",
   "metadata": {},
   "source": [
    "## 88. 单例模式"
   ]
  },
  {
   "cell_type": "code",
   "execution_count": 121,
   "id": "f641e840",
   "metadata": {},
   "outputs": [
    {
     "name": "stdout",
     "output_type": "stream",
     "text": [
      "单例模式示例:\n",
      "s1 is s2: True\n",
      "s1.get_value(): 0\n",
      "s1.increment()后 s2.get_value(): 1\n",
      "\n",
      "db1 is db2: True\n",
      "数据库连接成功，连接次数: 1\n",
      "数据库已连接\n",
      "执行SQL: SELECT * FROM users\n",
      "数据库连接已断开\n",
      "请先连接数据库\n"
     ]
    }
   ],
   "source": [
    "# 单例模式\n",
    "class Singleton:\n",
    "    \"\"\"单例模式实现\"\"\"\n",
    "    _instance = None\n",
    "    _initialized = False\n",
    "    \n",
    "    def __new__(cls):\n",
    "        if cls._instance is None:\n",
    "            cls._instance = super().__new__(cls)\n",
    "        return cls._instance\n",
    "    \n",
    "    def __init__(self):\n",
    "        if not self._initialized:\n",
    "            self.value = 0\n",
    "            self._initialized = True\n",
    "    \n",
    "    def increment(self):\n",
    "        self.value += 1\n",
    "    \n",
    "    def get_value(self):\n",
    "        return self.value\n",
    "\n",
    "class DatabaseConnection:\n",
    "    \"\"\"数据库连接单例\"\"\"\n",
    "    _instance = None\n",
    "    _lock = None\n",
    "    \n",
    "    def __new__(cls):\n",
    "        if cls._instance is None:\n",
    "            cls._instance = super().__new__(cls)\n",
    "            cls._instance.connected = False\n",
    "            cls._instance.connection_count = 0\n",
    "        return cls._instance\n",
    "    \n",
    "    def connect(self):\n",
    "        \"\"\"连接数据库\"\"\"\n",
    "        if not self.connected:\n",
    "            self.connected = True\n",
    "            self.connection_count += 1\n",
    "            return f\"数据库连接成功，连接次数: {self.connection_count}\"\n",
    "        return \"数据库已连接\"\n",
    "    \n",
    "    def disconnect(self):\n",
    "        \"\"\"断开连接\"\"\"\n",
    "        if self.connected:\n",
    "            self.connected = False\n",
    "            return \"数据库连接已断开\"\n",
    "        return \"数据库未连接\"\n",
    "    \n",
    "    def query(self, sql):\n",
    "        \"\"\"执行查询\"\"\"\n",
    "        if self.connected:\n",
    "            return f\"执行SQL: {sql}\"\n",
    "        return \"请先连接数据库\"\n",
    "\n",
    "# 使用单例模式\n",
    "print(\"单例模式示例:\")\n",
    "s1 = Singleton()\n",
    "s2 = Singleton()\n",
    "\n",
    "print(f\"s1 is s2: {s1 is s2}\")  # True\n",
    "print(f\"s1.get_value(): {s1.get_value()}\")\n",
    "\n",
    "s1.increment()\n",
    "print(f\"s1.increment()后 s2.get_value(): {s2.get_value()}\")\n",
    "\n",
    "db1 = DatabaseConnection()\n",
    "db2 = DatabaseConnection()\n",
    "\n",
    "print(f\"\\ndb1 is db2: {db1 is db2}\")  # True\n",
    "print(db1.connect())\n",
    "print(db2.connect())  # 已连接\n",
    "print(db1.query(\"SELECT * FROM users\"))\n",
    "print(db2.disconnect())\n",
    "print(db1.query(\"SELECT * FROM users\"))  # 需要重新连接"
   ]
  },
  {
   "cell_type": "markdown",
   "id": "77bcccd3",
   "metadata": {},
   "source": [
    "## 89. 上下文管理器"
   ]
  },
  {
   "cell_type": "code",
   "execution_count": 122,
   "id": "3041b32e",
   "metadata": {},
   "outputs": [
    {
     "name": "stdout",
     "output_type": "stream",
     "text": [
      "上下文管理器示例:\n",
      "打开文件: test.txt\n",
      "关闭文件: test.txt\n",
      "打开文件: test.txt\n",
      "文件内容: Hello, World!\n",
      "这是测试文件\n",
      "关闭文件: test.txt\n",
      "开始数据处理...\n",
      "数据处理完成，耗时: 0.1124秒\n",
      "开始事务\n",
      "使用数据库连接执行操作\n",
      "提交事务\n",
      "关闭连接\n"
     ]
    }
   ],
   "source": [
    "# 上下文管理器\n",
    "class FileManager:\n",
    "    \"\"\"文件管理器上下文管理器\"\"\"\n",
    "    \n",
    "    def __init__(self, filename, mode):\n",
    "        self.filename = filename\n",
    "        self.mode = mode\n",
    "        self.file = None\n",
    "    \n",
    "    def __enter__(self):\n",
    "        \"\"\"进入上下文\"\"\"\n",
    "        print(f\"打开文件: {self.filename}\")\n",
    "        self.file = open(self.filename, self.mode, encoding='utf-8')\n",
    "        return self.file\n",
    "    \n",
    "    def __exit__(self, exc_type, exc_value, traceback):\n",
    "        \"\"\"退出上下文\"\"\"\n",
    "        if self.file:\n",
    "            print(f\"关闭文件: {self.filename}\")\n",
    "            self.file.close()\n",
    "        \n",
    "        if exc_type is not None:\n",
    "            print(f\"发生异常: {exc_type.__name__}: {exc_value}\")\n",
    "            return False  # 不抑制异常\n",
    "        return True\n",
    "\n",
    "class Timer:\n",
    "    \"\"\"计时器上下文管理器\"\"\"\n",
    "    \n",
    "    def __init__(self, name=\"操作\"):\n",
    "        self.name = name\n",
    "        self.start_time = None\n",
    "    \n",
    "    def __enter__(self):\n",
    "        \"\"\"开始计时\"\"\"\n",
    "        import time\n",
    "        self.start_time = time.time()\n",
    "        print(f\"开始{self.name}...\")\n",
    "        return self\n",
    "    \n",
    "    def __exit__(self, exc_type, exc_value, traceback):\n",
    "        \"\"\"结束计时\"\"\"\n",
    "        import time\n",
    "        end_time = time.time()\n",
    "        duration = end_time - self.start_time\n",
    "        print(f\"{self.name}完成，耗时: {duration:.4f}秒\")\n",
    "        return False\n",
    "\n",
    "from contextlib import contextmanager\n",
    "\n",
    "@contextmanager\n",
    "def database_transaction():\n",
    "    \"\"\"数据库事务上下文管理器\"\"\"\n",
    "    print(\"开始事务\")\n",
    "    try:\n",
    "        yield \"数据库连接\"\n",
    "        print(\"提交事务\")\n",
    "    except Exception as e:\n",
    "        print(f\"回滚事务: {e}\")\n",
    "        raise\n",
    "    finally:\n",
    "        print(\"关闭连接\")\n",
    "\n",
    "# 使用上下文管理器\n",
    "print(\"上下文管理器示例:\")\n",
    "\n",
    "# 文件管理器\n",
    "with FileManager(\"test.txt\", \"w\") as f:\n",
    "    f.write(\"Hello, World!\")\n",
    "    f.write(\"\\n这是测试文件\")\n",
    "\n",
    "with FileManager(\"test.txt\", \"r\") as f:\n",
    "    content = f.read()\n",
    "    print(f\"文件内容: {content}\")\n",
    "\n",
    "# 计时器\n",
    "with Timer(\"数据处理\"):\n",
    "    import time\n",
    "    time.sleep(0.1)  # 模拟耗时操作\n",
    "    result = sum(range(1000000))\n",
    "\n",
    "# 数据库事务\n",
    "with database_transaction() as db:\n",
    "    print(f\"使用{db}执行操作\")\n",
    "    # 模拟数据库操作"
   ]
  },
  {
   "cell_type": "markdown",
   "id": "a0a53c4d",
   "metadata": {},
   "source": [
    "## 90. 元类基础"
   ]
  },
  {
   "cell_type": "code",
   "execution_count": 123,
   "id": "c23a8951",
   "metadata": {},
   "outputs": [
    {
     "name": "stdout",
     "output_type": "stream",
     "text": [
      "元类示例:\n",
      "db1 is db2: True\n"
     ]
    },
    {
     "ename": "RecursionError",
     "evalue": "maximum recursion depth exceeded",
     "output_type": "error",
     "traceback": [
      "\u001b[31m---------------------------------------------------------------------------\u001b[39m",
      "\u001b[31mRecursionError\u001b[39m                            Traceback (most recent call last)",
      "\u001b[36mCell\u001b[39m\u001b[36m \u001b[39m\u001b[32mIn[123]\u001b[39m\u001b[32m, line 80\u001b[39m\n\u001b[32m     78\u001b[39m \u001b[38;5;66;03m# 验证元类\u001b[39;00m\n\u001b[32m     79\u001b[39m user = User(\u001b[33m\"\u001b[39m\u001b[33m张三\u001b[39m\u001b[33m\"\u001b[39m, \u001b[33m\"\u001b[39m\u001b[33mzhangsan@example.com\u001b[39m\u001b[33m\"\u001b[39m)\n\u001b[32m---> \u001b[39m\u001b[32m80\u001b[39m \u001b[38;5;28mprint\u001b[39m(\u001b[43muser\u001b[49m\u001b[43m.\u001b[49m\u001b[43mget_info\u001b[49m\u001b[43m(\u001b[49m\u001b[43m)\u001b[49m)\n\u001b[32m     81\u001b[39m \u001b[38;5;28mprint\u001b[39m(user.update_email(\u001b[33m\"\u001b[39m\u001b[33mnewemail@example.com\u001b[39m\u001b[33m\"\u001b[39m))\n\u001b[32m     83\u001b[39m \u001b[38;5;66;03m# 尝试创建无效用户\u001b[39;00m\n",
      "\u001b[36mCell\u001b[39m\u001b[36m \u001b[39m\u001b[32mIn[123]\u001b[39m\u001b[32m, line 43\u001b[39m, in \u001b[36mValidatedMeta.add_validation.<locals>.wrapper\u001b[39m\u001b[34m(self, *args, **kwargs)\u001b[39m\n\u001b[32m     41\u001b[39m \u001b[38;5;28;01mdef\u001b[39;00m\u001b[38;5;250m \u001b[39m\u001b[34mwrapper\u001b[39m(\u001b[38;5;28mself\u001b[39m, *args, **kwargs):\n\u001b[32m     42\u001b[39m     \u001b[38;5;28;01mif\u001b[39;00m \u001b[38;5;28mhasattr\u001b[39m(\u001b[38;5;28mself\u001b[39m, \u001b[33m'\u001b[39m\u001b[33mvalidate\u001b[39m\u001b[33m'\u001b[39m):\n\u001b[32m---> \u001b[39m\u001b[32m43\u001b[39m         \u001b[38;5;28;43mself\u001b[39;49m\u001b[43m.\u001b[49m\u001b[43mvalidate\u001b[49m\u001b[43m(\u001b[49m\u001b[43m)\u001b[49m\n\u001b[32m     44\u001b[39m     \u001b[38;5;28;01mreturn\u001b[39;00m func(\u001b[38;5;28mself\u001b[39m, *args, **kwargs)\n",
      "\u001b[36mCell\u001b[39m\u001b[36m \u001b[39m\u001b[32mIn[123]\u001b[39m\u001b[32m, line 43\u001b[39m, in \u001b[36mValidatedMeta.add_validation.<locals>.wrapper\u001b[39m\u001b[34m(self, *args, **kwargs)\u001b[39m\n\u001b[32m     41\u001b[39m \u001b[38;5;28;01mdef\u001b[39;00m\u001b[38;5;250m \u001b[39m\u001b[34mwrapper\u001b[39m(\u001b[38;5;28mself\u001b[39m, *args, **kwargs):\n\u001b[32m     42\u001b[39m     \u001b[38;5;28;01mif\u001b[39;00m \u001b[38;5;28mhasattr\u001b[39m(\u001b[38;5;28mself\u001b[39m, \u001b[33m'\u001b[39m\u001b[33mvalidate\u001b[39m\u001b[33m'\u001b[39m):\n\u001b[32m---> \u001b[39m\u001b[32m43\u001b[39m         \u001b[38;5;28;43mself\u001b[39;49m\u001b[43m.\u001b[49m\u001b[43mvalidate\u001b[49m\u001b[43m(\u001b[49m\u001b[43m)\u001b[49m\n\u001b[32m     44\u001b[39m     \u001b[38;5;28;01mreturn\u001b[39;00m func(\u001b[38;5;28mself\u001b[39m, *args, **kwargs)\n",
      "    \u001b[31m[... skipping similar frames: ValidatedMeta.add_validation.<locals>.wrapper at line 43 (2974 times)]\u001b[39m\n",
      "\u001b[36mCell\u001b[39m\u001b[36m \u001b[39m\u001b[32mIn[123]\u001b[39m\u001b[32m, line 43\u001b[39m, in \u001b[36mValidatedMeta.add_validation.<locals>.wrapper\u001b[39m\u001b[34m(self, *args, **kwargs)\u001b[39m\n\u001b[32m     41\u001b[39m \u001b[38;5;28;01mdef\u001b[39;00m\u001b[38;5;250m \u001b[39m\u001b[34mwrapper\u001b[39m(\u001b[38;5;28mself\u001b[39m, *args, **kwargs):\n\u001b[32m     42\u001b[39m     \u001b[38;5;28;01mif\u001b[39;00m \u001b[38;5;28mhasattr\u001b[39m(\u001b[38;5;28mself\u001b[39m, \u001b[33m'\u001b[39m\u001b[33mvalidate\u001b[39m\u001b[33m'\u001b[39m):\n\u001b[32m---> \u001b[39m\u001b[32m43\u001b[39m         \u001b[38;5;28;43mself\u001b[39;49m\u001b[43m.\u001b[49m\u001b[43mvalidate\u001b[49m\u001b[43m(\u001b[49m\u001b[43m)\u001b[49m\n\u001b[32m     44\u001b[39m     \u001b[38;5;28;01mreturn\u001b[39;00m func(\u001b[38;5;28mself\u001b[39m, *args, **kwargs)\n",
      "\u001b[31mRecursionError\u001b[39m: maximum recursion depth exceeded"
     ]
    }
   ],
   "source": [
    "# 元类基础\n",
    "class SingletonMeta(type):\n",
    "    \"\"\"单例元类\"\"\"\n",
    "    _instances = {}\n",
    "    \n",
    "    def __call__(cls, *args, **kwargs):\n",
    "        if cls not in cls._instances:\n",
    "            cls._instances[cls] = super().__call__(*args, **kwargs)\n",
    "        return cls._instances[cls]\n",
    "\n",
    "class Database(metaclass=SingletonMeta):\n",
    "    \"\"\"使用单例元类的数据库类\"\"\"\n",
    "    \n",
    "    def __init__(self):\n",
    "        self.connected = False\n",
    "    \n",
    "    def connect(self):\n",
    "        self.connected = True\n",
    "        return \"数据库连接成功\"\n",
    "\n",
    "class ValidatedMeta(type):\n",
    "    \"\"\"验证元类\"\"\"\n",
    "    \n",
    "    def __new__(mcs, name, bases, namespace):\n",
    "        # 验证类必须有特定方法\n",
    "        required_methods = ['validate']\n",
    "        for method in required_methods:\n",
    "            if method not in namespace:\n",
    "                raise TypeError(f\"类{name}必须实现{method}方法\")\n",
    "        \n",
    "        # 自动添加验证装饰器\n",
    "        for key, value in namespace.items():\n",
    "            if callable(value) and not key.startswith('_'):\n",
    "                namespace[key] = mcs.add_validation(value)\n",
    "        \n",
    "        return super().__new__(mcs, name, bases, namespace)\n",
    "    \n",
    "    @staticmethod\n",
    "    def add_validation(func):\n",
    "        \"\"\"添加验证装饰器\"\"\"\n",
    "        def wrapper(self, *args, **kwargs):\n",
    "            if hasattr(self, 'validate'):\n",
    "                self.validate()\n",
    "            return func(self, *args, **kwargs)\n",
    "        return wrapper\n",
    "\n",
    "class User(metaclass=ValidatedMeta):\n",
    "    \"\"\"使用验证元类的用户类\"\"\"\n",
    "    \n",
    "    def __init__(self, name, email):\n",
    "        self.name = name\n",
    "        self.email = email\n",
    "    \n",
    "    def validate(self):\n",
    "        \"\"\"验证方法\"\"\"\n",
    "        if not self.name:\n",
    "            raise ValueError(\"姓名不能为空\")\n",
    "        if '@' not in self.email:\n",
    "            raise ValueError(\"邮箱格式不正确\")\n",
    "    \n",
    "    def get_info(self):\n",
    "        \"\"\"获取信息\"\"\"\n",
    "        return f\"用户: {self.name}, 邮箱: {self.email}\"\n",
    "    \n",
    "    def update_email(self, new_email):\n",
    "        \"\"\"更新邮箱\"\"\"\n",
    "        self.email = new_email\n",
    "        return \"邮箱更新成功\"\n",
    "\n",
    "# 使用元类\n",
    "print(\"元类示例:\")\n",
    "\n",
    "# 单例元类\n",
    "db1 = Database()\n",
    "db2 = Database()\n",
    "print(f\"db1 is db2: {db1 is db2}\")  # True\n",
    "\n",
    "# 验证元类\n",
    "user = User(\"张三\", \"zhangsan@example.com\")\n",
    "print(user.get_info())\n",
    "print(user.update_email(\"newemail@example.com\"))\n",
    "\n",
    "# 尝试创建无效用户\n",
    "try:\n",
    "    invalid_user = User(\"\", \"invalid-email\")\n",
    "    invalid_user.get_info()  # 会触发验证\n",
    "except ValueError as e:\n",
    "    print(f\"验证失败: {e}\")"
   ]
  }
 ],
 "metadata": {
  "kernelspec": {
   "display_name": "Python 3",
   "language": "python",
   "name": "python3"
  },
  "language_info": {
   "codemirror_mode": {
    "name": "ipython",
    "version": 3
   },
   "file_extension": ".py",
   "mimetype": "text/x-python",
   "name": "python",
   "nbconvert_exporter": "python",
   "pygments_lexer": "ipython3",
   "version": "3.12.8"
  }
 },
 "nbformat": 4,
 "nbformat_minor": 5
}
